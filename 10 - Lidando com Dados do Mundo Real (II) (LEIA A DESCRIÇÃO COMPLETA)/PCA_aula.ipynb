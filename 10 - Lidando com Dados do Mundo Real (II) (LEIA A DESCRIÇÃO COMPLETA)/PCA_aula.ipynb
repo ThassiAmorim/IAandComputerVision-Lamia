{
 "cells": [
  {
   "cell_type": "markdown",
   "metadata": {},
   "source": [
    "#### Reduzir de 4 dimensções (largura e altura tanto da pétala quanto da sépala) para 2 dimensões o dataset \"iris\""
   ]
  },
  {
   "cell_type": "code",
   "execution_count": 9,
   "metadata": {},
   "outputs": [
    {
     "name": "stdout",
     "output_type": "stream",
     "text": [
      "150\n",
      "4\n",
      "['setosa', 'versicolor', 'virginica']\n"
     ]
    }
   ],
   "source": [
    "from sklearn.datasets import load_iris\n",
    "from sklearn.decomposition import PCA\n",
    "import pylab as pl\n",
    "from itertools import cycle\n",
    "\n",
    "iris = load_iris()\n",
    "\n",
    "numSamples, numFeatures = iris.data.shape\n",
    "\n",
    "print(numSamples) #amostras\n",
    "print(numFeatures) #variaveis\n",
    "print(list(iris.target_names)) #especies a serem classificadas\n"
   ]
  },
  {
   "cell_type": "code",
   "execution_count": 16,
   "metadata": {},
   "outputs": [
    {
     "name": "stdout",
     "output_type": "stream",
     "text": [
      "[[ 0.36138659 -0.08452251  0.85667061  0.3582892 ]\n",
      " [ 0.65658877  0.73016143 -0.17337266 -0.07548102]]\n"
     ]
    }
   ],
   "source": [
    "x = iris.data\n",
    "pca = PCA(n_components=2, whiten=True).fit(x) # ajusta para 2 dimensões utilizando a transformação whiten\n",
    "x_pca = pca.transform(x)\n",
    "print(pca.components_)"
   ]
  },
  {
   "cell_type": "code",
   "execution_count": 15,
   "metadata": {},
   "outputs": [
    {
     "data": {
      "text/plain": [
       "array([[-1.30533786,  0.64836932],\n",
       "       [-1.31993521, -0.35930856],\n",
       "       [-1.40496732, -0.29424412],\n",
       "       [-1.33510889, -0.64613986],\n",
       "       [-1.32702321,  0.6633044 ],\n",
       "       [-1.10922246,  1.50488434],\n",
       "       [-1.3716775 , -0.18160462],\n",
       "       [-1.27714084,  0.33166784],\n",
       "       [-1.40369908, -1.17396001],\n",
       "       [-1.29980851, -0.23095919],\n",
       "       [-1.2191728 ,  1.30947554],\n",
       "       [-1.27062918,  0.02990145],\n",
       "       [-1.35493432, -0.47727214],\n",
       "       [-1.5677929 , -1.03811965],\n",
       "       [-1.28618899,  2.39286603],\n",
       "       [-1.16037307,  2.71623681],\n",
       "       [-1.2758681 ,  1.64566141],\n",
       "       [-1.28791362,  0.63304684],\n",
       "       [-1.06981161,  1.77184386],\n",
       "       [-1.25858365,  1.04251602],\n",
       "       [-1.12351854,  0.79442356],\n",
       "       [-1.23704894,  0.87897239],\n",
       "       [-1.56396833,  0.27093722],\n",
       "       [-1.11985996,  0.20037678],\n",
       "       [-1.14564495, -0.07568135],\n",
       "       [-1.21903752, -0.29641102],\n",
       "       [-1.20063096,  0.26582861],\n",
       "       [-1.24610158,  0.74646111],\n",
       "       [-1.28365251,  0.63343423],\n",
       "       [-1.27998309, -0.39982691],\n",
       "       [-1.25829774, -0.414762  ],\n",
       "       [-1.17199289,  0.83416713],\n",
       "       [-1.2881887 ,  1.65111049],\n",
       "       [-1.26381174,  2.21906161],\n",
       "       [-1.28238428, -0.24628167],\n",
       "       [-1.39390411,  0.14080834],\n",
       "       [-1.27669979,  1.21670783],\n",
       "       [-1.36202232,  0.54534082],\n",
       "       [-1.44947097, -0.9905446 ],\n",
       "       [-1.25956597,  0.4649539 ],\n",
       "       [-1.3471499 ,  0.53495504],\n",
       "       [-1.3856985 , -1.91012906],\n",
       "       [-1.45769193, -0.6941023 ],\n",
       "       [-1.16989296,  0.38340481],\n",
       "       [-1.07451378,  0.88641648],\n",
       "       [-1.32008584, -0.5079171 ],\n",
       "       [-1.23434648,  1.02264423],\n",
       "       [-1.38088078, -0.46272444],\n",
       "       [-1.23674767,  1.17618947],\n",
       "       [-1.31469177,  0.21864095],\n",
       "       [ 0.6248335 ,  1.39086054],\n",
       "       [ 0.4534857 ,  0.64621021],\n",
       "       [ 0.71211617,  1.02364231],\n",
       "       [ 0.08915066, -1.6807384 ],\n",
       "       [ 0.5291639 ,  0.15141741],\n",
       "       [ 0.31205505, -0.84903186],\n",
       "       [ 0.53254741,  0.57543429],\n",
       "       [-0.36431163, -2.03990633],\n",
       "       [ 0.50777981,  0.46356958],\n",
       "       [-0.00425305, -1.46784021],\n",
       "       [-0.24697202, -2.5698934 ],\n",
       "       [ 0.24884808, -0.2110796 ],\n",
       "       [ 0.12886277, -1.1165618 ],\n",
       "       [ 0.47899111, -0.25337747],\n",
       "       [-0.08458299, -0.51734838],\n",
       "       [ 0.45123514,  0.948364  ],\n",
       "       [ 0.3211077 , -0.71652058],\n",
       "       [ 0.11482204, -0.67722245],\n",
       "       [ 0.45944076, -1.1025734 ],\n",
       "       [ 0.02199468, -1.18517082],\n",
       "       [ 0.54286829, -0.17177033],\n",
       "       [ 0.17404748, -0.13991628],\n",
       "       [ 0.63132983, -0.66540095],\n",
       "       [ 0.44825311, -0.37095366],\n",
       "       [ 0.34764584,  0.30258026],\n",
       "       [ 0.43777075,  0.66685678],\n",
       "       [ 0.64778709,  0.49620955],\n",
       "       [ 0.7575868 ,  0.54300982],\n",
       "       [ 0.39551766, -0.33159748],\n",
       "       [-0.14861081, -0.74756406],\n",
       "       [-0.03313112, -1.43148376],\n",
       "       [-0.09221677, -1.38096702],\n",
       "       [ 0.0663477 , -0.63747887],\n",
       "       [ 0.67113131, -0.85452785],\n",
       "       [ 0.28595795, -0.98309271],\n",
       "       [ 0.3923895 ,  0.39418579],\n",
       "       [ 0.59364361,  0.82745872],\n",
       "       [ 0.39639526, -0.75522697],\n",
       "       [ 0.11961358, -0.54509856],\n",
       "       [ 0.0809297 , -1.3842961 ],\n",
       "       [ 0.22604062, -1.36152954],\n",
       "       [ 0.43321922, -0.06996206],\n",
       "       [ 0.11211959, -0.82089429],\n",
       "       [-0.34262628, -2.05484142],\n",
       "       [ 0.17360643, -1.02495627],\n",
       "       [ 0.16142562, -0.43168428],\n",
       "       [ 0.18296034, -0.59522791],\n",
       "       [ 0.3124961 ,  0.03600813],\n",
       "       [-0.44083236, -1.53485274],\n",
       "       [ 0.14540941, -0.7082548 ],\n",
       "       [ 1.23096388, -0.01999347],\n",
       "       [ 0.68825429, -1.16706741],\n",
       "       [ 1.27253592,  0.69811576],\n",
       "       [ 0.95879049, -0.36484365],\n",
       "       [ 1.14284953, -0.08172883],\n",
       "       [ 1.65204014,  1.11818621],\n",
       "       [ 0.25348448, -2.42127372],\n",
       "       [ 1.42616907,  0.72165711],\n",
       "       [ 1.12885471, -0.49497253],\n",
       "       [ 1.41846769,  1.58905027],\n",
       "       [ 0.80815022,  0.49171829],\n",
       "       [ 0.87702633, -0.43773957],\n",
       "       [ 1.05316567,  0.43903463],\n",
       "       [ 0.65466321, -1.57692399],\n",
       "       [ 0.771265  , -1.09545866],\n",
       "       [ 0.92617089,  0.24207626],\n",
       "       [ 0.94816834,  0.08514389],\n",
       "       [ 1.69581683,  2.38672472],\n",
       "       [ 1.84588964,  0.52235992],\n",
       "       [ 0.63259806, -1.54511685],\n",
       "       [ 1.18069088,  0.7677295 ],\n",
       "       [ 0.58309549, -1.23035234],\n",
       "       [ 1.70207314,  0.93515819],\n",
       "       [ 0.67538158, -0.41492609],\n",
       "       [ 1.10658218,  0.68002349],\n",
       "       [ 1.27127853,  1.13861729],\n",
       "       [ 0.61203482, -0.36479674],\n",
       "       [ 0.6279004 , -0.23683477],\n",
       "       [ 1.03274856, -0.42574618],\n",
       "       [ 1.16132819,  0.94320848],\n",
       "       [ 1.38195584,  0.76178807],\n",
       "       [ 1.57113386,  2.7895246 ],\n",
       "       [ 1.0501728 , -0.44106866],\n",
       "       [ 0.70232121, -0.29112604],\n",
       "       [ 0.86627524, -1.01478931],\n",
       "       [ 1.49615644,  1.39679864],\n",
       "       [ 1.04278353,  0.28432722],\n",
       "       [ 0.92648299,  0.10007897],\n",
       "       [ 0.56866412, -0.33492657],\n",
       "       [ 1.02496865,  0.75573611],\n",
       "       [ 1.12541445,  0.37280802],\n",
       "       [ 0.9348329 ,  0.83067395],\n",
       "       [ 0.68825429, -1.16706741],\n",
       "       [ 1.24643883,  0.56405491],\n",
       "       [ 1.17627914,  0.61873357],\n",
       "       [ 0.94545505,  0.38068641],\n",
       "       [ 0.74268819, -0.76188514],\n",
       "       [ 0.85803259,  0.16008172],\n",
       "       [ 0.9244616 ,  0.23675217],\n",
       "       [ 0.67607348, -0.57379543]])"
      ]
     },
     "execution_count": 15,
     "metadata": {},
     "output_type": "execute_result"
    }
   ],
   "source": [
    "x_pca"
   ]
  },
  {
   "cell_type": "markdown",
   "metadata": {},
   "source": [
    "#### Testando se ficou bom"
   ]
  },
  {
   "cell_type": "code",
   "execution_count": 19,
   "metadata": {},
   "outputs": [
    {
     "name": "stdout",
     "output_type": "stream",
     "text": [
      "[0.92461872 0.05306648]\n",
      "0.977685206318798\n"
     ]
    }
   ],
   "source": [
    "print(pca.explained_variance_ratio_) # preservou 92% da variancia da primeira dimensão e mais 5% da segunda dimensão\n",
    "print(sum(pca.explained_variance_ratio_))# ainda preserva 97% da informação original "
   ]
  },
  {
   "cell_type": "markdown",
   "metadata": {},
   "source": [
    "#### representação dos dados (agora em 2D!)"
   ]
  },
  {
   "cell_type": "code",
   "execution_count": 22,
   "metadata": {},
   "outputs": [
    {
     "data": {
      "image/png": "[encoded data removed]",
      "text/plain": [
       "<Figure size 640x480 with 1 Axes>"
      ]
     },
     "metadata": {},
     "output_type": "display_data"
    }
   ],
   "source": [
    "colors = cycle('rgb')\n",
    "target_ids = range(len(iris.target_names))\n",
    "pl.figure()\n",
    "\n",
    "\"\"\"\n",
    "i será o indice da classe alvo (por exemplo, 0, 1, 2).\n",
    "c será a cor (alternando entre 'r', 'g', 'b').\n",
    "label será o nome da especie ('setosa', 'versicolor', 'virginica').\n",
    "\n",
    "\"\"\"\n",
    "\n",
    "for i, c, label in zip(target_ids, colors, iris.target_names):\n",
    "    pl.scatter(x_pca[iris.target == i, 0], x_pca[iris.target == i, 1],\n",
    "               c=c, label=label)\n",
    "    \n",
    "pl.legend()\n",
    "pl.show()\n",
    "\n",
    "# cada ponto no gráfico representa uma amostra do conjunto de dados Iris e cada cor no gráfico é de uma especie"
   ]
  }
 ],
 "metadata": {
  "kernelspec": {
   "display_name": "Python 3",
   "language": "python",
   "name": "python3"
  },
  "language_info": {
   "codemirror_mode": {
    "name": "ipython",
    "version": 3
   },
   "file_extension": ".py",
   "mimetype": "text/x-python",
   "name": "python",
   "nbconvert_exporter": "python",
   "pygments_lexer": "ipython3",
   "version": "3.12.4"
  }
 },
 "nbformat": 4,
 "nbformat_minor": 2
}
