{
 "cells": [
  {
   "cell_type": "code",
   "execution_count": 1,
   "metadata": {},
   "outputs": [],
   "source": [
    "import re\n",
    "import requests\n",
    "\n",
    "format_pat= re.compile(\n",
    "    r\"(?P<host>[\\d\\.]+)\\s\"\n",
    "    r\"(?P<identity>\\S*)\\s\"\n",
    "    r\"(?P<user>\\S*)\\s\"\n",
    "    r\"\\[(?P<time>.*?)\\]\\s\"\n",
    "    r'\"(?P<request>.*?)\"\\s'\n",
    "    r\"(?P<status>\\d+)\\s\"\n",
    "    r\"(?P<bytes>\\S*)\\s\"\n",
    "    r'\"(?P<referer>.*?)\"\\s'\n",
    "    r'\"(?P<user_agent>.*?)\"\\s*'\n",
    ")"
   ]
  },
  {
   "cell_type": "code",
   "execution_count": 2,
   "metadata": {},
   "outputs": [],
   "source": [
    "logPath = r\"Aquivos_de_Código\\access_log.txt\""
   ]
  },
  {
   "cell_type": "code",
   "execution_count": 65,
   "metadata": {},
   "outputs": [
    {
     "name": "stdout",
     "output_type": "stream",
     "text": [
      "/xmlrpc.php :  68494\n",
      "/wp-login.php :  1923\n",
      "/ :  440\n",
      "/blog/ :  138\n",
      "/robots.txt :  123\n",
      "/sitemap_index.xml :  118\n",
      "/post-sitemap.xml :  118\n",
      "/page-sitemap.xml :  117\n",
      "/category-sitemap.xml :  117\n",
      "/orlando-headlines/ :  95\n",
      "/san-jose-headlines/ :  85\n",
      "http://51.254.206.142/httptest.php :  81\n",
      "/comics-2/ :  76\n",
      "/travel/ :  74\n",
      "/entertainment/ :  72\n",
      "/business/ :  70\n",
      "/national/ :  70\n",
      "/national-headlines/ :  70\n",
      "/world/ :  70\n",
      "/weather/ :  70\n"
     ]
    }
   ],
   "source": [
    "urlcounts = {}\n",
    "\n",
    "with open(logPath, 'r') as file:\n",
    "    for line in (l.rstrip() for l in file):\n",
    "\n",
    "        match = format_pat.match(line) # procura o que bate com o regex\n",
    "        if match:  \n",
    "            access = match.groupdict()\n",
    "            request = access['request']\n",
    "            if ' ' in request:\n",
    "                (action, url, protocol) = request.split()\n",
    "                if url in urlcounts:\n",
    "                    urlcounts[url] += 1\n",
    "                else:\n",
    "                    urlcounts[url] = 1\n",
    "\n",
    "results = sorted(urlcounts, key=lambda i : int(urlcounts[i]), reverse=True)\n",
    "\n",
    "for result in results[:20]:\n",
    "    print(result,\": \", str(urlcounts[result]))                "
   ]
  },
  {
   "cell_type": "code",
   "execution_count": 66,
   "metadata": {},
   "outputs": [
    {
     "name": "stdout",
     "output_type": "stream",
     "text": [
      "/ :  434\n",
      "/blog/ :  138\n",
      "/robots.txt :  123\n",
      "/sitemap_index.xml :  118\n",
      "/post-sitemap.xml :  118\n",
      "/page-sitemap.xml :  117\n",
      "/category-sitemap.xml :  117\n",
      "/orlando-headlines/ :  95\n",
      "/san-jose-headlines/ :  85\n",
      "http://51.254.206.142/httptest.php :  81\n",
      "/comics-2/ :  76\n",
      "/travel/ :  74\n",
      "/entertainment/ :  72\n",
      "/business/ :  70\n",
      "/national/ :  70\n",
      "/national-headlines/ :  70\n",
      "/world/ :  70\n",
      "/weather/ :  70\n",
      "/about/ :  69\n",
      "/defense-sticking-head-sand/ :  69\n"
     ]
    }
   ],
   "source": [
    "urlcounts = {}\n",
    "\n",
    "with open(logPath, 'r') as file:\n",
    "    for line in (l.rstrip() for l in file):\n",
    "\n",
    "        match = format_pat.match(line) # procura o que bate com o regex\n",
    "        if match:  \n",
    "            access = match.groupdict()\n",
    "            request = access['request']\n",
    "            fields = request.split()\n",
    "            if len(fields) == 3:\n",
    "                (action, url, protocol) = fields\n",
    "                if action == 'GET': #procura só por ações GET\n",
    "                    if url in urlcounts:\n",
    "                        urlcounts[url] += 1\n",
    "                    else:\n",
    "                        urlcounts[url] = 1\n",
    "\n",
    "results = sorted(urlcounts, key=lambda i : int(urlcounts[i]), reverse=True)\n",
    "\n",
    "for result in results[:20]:\n",
    "    print(result,\": \", str(urlcounts[result]))      "
   ]
  },
  {
   "cell_type": "code",
   "execution_count": 70,
   "metadata": {},
   "outputs": [
    {
     "name": "stdout",
     "output_type": "stream",
     "text": [
      "Mozilla/4.0 (compatible: MSIE 7.0; Windows NT 6.0) :  68484\n",
      "- :  4035\n",
      "Mozilla/4.0 (compatible; MSIE 6.0; Windows NT 5.0) :  1724\n",
      "W3 Total Cache/0.9.4.1 :  468\n",
      "Mozilla/5.0 (compatible; Baiduspider/2.0; +http://www.baidu.com/search/spider.html) :  278\n",
      "Mozilla/5.0 (compatible; Googlebot/2.1; +http://www.google.com/bot.html) :  248\n",
      "Mozilla/5.0 (Windows NT 10.0; WOW64) AppleWebKit/537.36 (KHTML, like Gecko) Chrome/46.0.2490.86 Safari/537.36 :  158\n",
      "Mozilla/5.0 (Windows NT 6.1; WOW64; rv:40.0) Gecko/20100101 Firefox/40.0 :  144\n",
      "Mozilla/5.0 (iPad; CPU OS 8_4 like Mac OS X) AppleWebKit/600.1.4 (KHTML, like Gecko) Version/8.0 Mobile/12H143 Safari/600.1.4 :  120\n",
      "Mozilla/5.0 (Linux; Android 5.1.1; SM-G900T Build/LMY47X) AppleWebKit/537.36 (KHTML, like Gecko) Chrome/46.0.2490.76 Mobile Safari/537.36 :  47\n",
      "Mozilla/5.0 (compatible; bingbot/2.0; +http://www.bing.com/bingbot.htm) :  43\n",
      "Mozilla/5.0 (compatible; MJ12bot/v1.4.5; http://www.majestic12.co.uk/bot.php?+) :  41\n",
      "Opera/9.80 (Windows NT 6.0) Presto/2.12.388 Version/12.14 :  40\n",
      "Mozilla/5.0 (compatible; YandexBot/3.0; +http://yandex.com/bots) :  27\n",
      "Ruby :  15\n",
      "Mozilla/5.0 (Linux; Android 5.1.1; SM-G900T Build/LMY47X) AppleWebKit/537.36 (KHTML, like Gecko) Chrome/47.0.2526.76 Mobile Safari/537.36 :  15\n",
      "Mozilla/5.0 (Windows NT 6.1; WOW64) AppleWebKit/537.36 (KHTML, like Gecko) Chrome/46.0.2490.86 Safari/537.36 :  13\n",
      "Mozilla/5.0 (compatible; AhrefsBot/5.0; +http://ahrefs.com/robot/) :  11\n",
      "Mozilla/5.0 (Windows NT 5.1; rv:6.0.2) Gecko/20100101 Firefox/6.0.2 :  11\n",
      "MobileSafari/600.1.4 CFNetwork/711.4.6 Darwin/14.0.0 :  10\n"
     ]
    }
   ],
   "source": [
    "user_agents = {}\n",
    "\n",
    "with open(logPath, 'r') as file:\n",
    "    for line in (l.rstrip() for l in file):\n",
    "\n",
    "        match = format_pat.match(line) # procura o que bate com o regex\n",
    "        if match:  \n",
    "            access = match.groupdict()\n",
    "            agent = access['user_agent'] # encontra os tipos de acesso \n",
    "            if agent in user_agents:\n",
    "                user_agents[agent] += 1\n",
    "            else:\n",
    "                user_agents[agent] = 1\n",
    "\n",
    "results = sorted(user_agents, key=lambda i : int(user_agents[i]), reverse=True)\n",
    "\n",
    "for result in results[:20]:\n",
    "    print(result,\": \", str(user_agents[result]))"
   ]
  },
  {
   "cell_type": "code",
   "execution_count": 72,
   "metadata": {},
   "outputs": [
    {
     "name": "stdout",
     "output_type": "stream",
     "text": [
      "/ :  441\n",
      "/weather/ :  103\n",
      "/orlando-headlines/ :  66\n",
      "/san-jose-headlines/ :  53\n",
      "/national-headlines/ :  46\n",
      "/comics-2/ :  41\n",
      "/about/ :  21\n",
      "/technology/ :  19\n",
      "/travel/feed/ :  17\n",
      "/world/ :  12\n",
      "/feed/ :  8\n",
      "/australia/ :  4\n",
      "/sample-page/feed/ :  2\n",
      "/science/ :  2\n",
      "/entertainment/ :  1\n",
      "/business/ :  1\n"
     ]
    }
   ],
   "source": [
    "urlcounts = {}\n",
    "\n",
    "with open(logPath, 'r') as file:\n",
    "    for line in (l.rstrip() for l in file):\n",
    "\n",
    "        match = format_pat.match(line) # procura o que bate com o regex\n",
    "        if match:  \n",
    "            access = match.groupdict()\n",
    "            agent = access['user_agent']   \n",
    "            #exclui os acessos de bots \n",
    "            if (not('bot' in agent or 'spider' in agent or \n",
    "                    'Bot' in agent or 'Spider' in agent or\n",
    "                    'W3 Total Cache' in agent or agent =='-')):\n",
    "                request = access['request']\n",
    "                fields = request.split()\n",
    "            if len(fields) == 3:\n",
    "                (action, url, protocol) = fields\n",
    "                #para pegar apenas as paginas da web\n",
    "                if url.endswith('/'):\n",
    "                    if action == 'GET':\n",
    "                        if url in urlcounts:\n",
    "                            urlcounts[url] += 1\n",
    "                        else:\n",
    "                            urlcounts[url] = 1\n",
    "\n",
    "results = sorted(urlcounts, key=lambda i : int(urlcounts[i]), reverse=True)\n",
    "\n",
    "for result in results[:20]:\n",
    "    print(result,\": \", str(urlcounts[result]))    "
   ]
  }
 ],
 "metadata": {
  "kernelspec": {
   "display_name": "Python 3",
   "language": "python",
   "name": "python3"
  },
  "language_info": {
   "codemirror_mode": {
    "name": "ipython",
    "version": 3
   },
   "file_extension": ".py",
   "mimetype": "text/x-python",
   "name": "python",
   "nbconvert_exporter": "python",
   "pygments_lexer": "ipython3",
   "version": "3.12.4"
  }
 },
 "nbformat": 4,
 "nbformat_minor": 2
}
