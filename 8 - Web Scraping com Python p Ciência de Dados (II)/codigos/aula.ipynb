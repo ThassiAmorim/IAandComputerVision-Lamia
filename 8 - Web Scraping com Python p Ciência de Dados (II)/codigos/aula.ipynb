{
 "cells": [
  {
   "cell_type": "code",
   "execution_count": 1,
   "metadata": {},
   "outputs": [],
   "source": [
    "from bs4 import BeautifulSoup\n"
   ]
  },
  {
   "cell_type": "markdown",
   "metadata": {},
   "source": [
    "### Para ler um html com python"
   ]
  },
  {
   "cell_type": "code",
   "execution_count": 18,
   "metadata": {},
   "outputs": [
    {
     "name": "stdout",
     "output_type": "stream",
     "text": [
      "<!doctype html>\n",
      "<html lang=\"en\">\n",
      "   <head>\n",
      "      <meta charset=\"utf-8\">\n",
      "      <meta name=\"viewport\" content=\"width=device-width, initial-scale=1, shrink-to-fit=no\">\n",
      "      <link rel=\"stylesheet\" href=\"https://stackpath.bootstrapcdn.com/bootstrap/4.5.2/css/bootstrap.min.css\" integrity=\"sha384-JcKb8q3iqJ61gNV9KGb8thSsNjpSL0n8PARn9HuZOnIxN0hoP+VmmDGMN5t9UJ0Z\" crossorigin=\"anonymous\">\n",
      "      <title>My Courses</title>\n",
      "   </head>\n",
      "   <body>\n",
      "      <h1>Hello, Start Learning!</h1>\n",
      "      <div class=\"card\" id=\"card-python-for-beginners\">\n",
      "         <div class=\"card-header\">\n",
      "            Python\n",
      "         </div>\n",
      "         <div class=\"card-body\">\n",
      "            <h5 class=\"card-title\">Python for beginners</h5>\n",
      "            <p class=\"card-text\">If you are new to Python, this is the course that you should buy!</p>\n",
      "            <a href=\"#\" class=\"btn btn-primary\">Start for 20$</a>\n",
      "         </div>\n",
      "      </div>\n",
      "      <div class=\"card\" id=\"card-python-web-development\">\n",
      "         <div class=\"card-header\">\n",
      "            Python\n",
      "         </div>\n",
      "         <div class=\"card-body\">\n",
      "            <h5 class=\"card-title\">Python Web Development</h5>\n",
      "            <p class=\"card-text\">If you feel enough confident with python, you are ready to learn how to create your own website!</p>\n",
      "            <a href=\"#\" class=\"btn btn-primary\">Start for 50$</a>\n",
      "         </div>\n",
      "      </div>\n",
      "      <div class=\"card\" id=\"card-python-machine-learning\">\n",
      "         <div class=\"card-header\">\n",
      "            Python\n",
      "         </div>\n",
      "         <div class=\"card-body\">\n",
      "            <h5 class=\"card-title\">Python Machine Learning</h5>\n",
      "            <p class=\"card-text\">Become a Python Machine Learning master!</p>\n",
      "            <a href=\"#\" class=\"btn btn-primary\">Start for 100$</a>\n",
      "         </div>\n",
      "      </div>\n",
      "   </body>\n",
      "</html>\n"
     ]
    }
   ],
   "source": [
    "# abre para leitura apenas, caso for um site brasileiro passar o parametro -> encoding='utf8'\n",
    "with open('home.html', 'r') as html_file: \n",
    "    content = html_file.read()\n",
    "    print(content)"
   ]
  },
  {
   "cell_type": "code",
   "execution_count": 19,
   "metadata": {},
   "outputs": [
    {
     "name": "stdout",
     "output_type": "stream",
     "text": [
      "<!DOCTYPE html>\n",
      "<html lang=\"en\">\n",
      " <head>\n",
      "  <meta charset=\"utf-8\"/>\n",
      "  <meta content=\"width=device-width, initial-scale=1, shrink-to-fit=no\" name=\"viewport\"/>\n",
      "  <link crossorigin=\"anonymous\" href=\"https://stackpath.bootstrapcdn.com/bootstrap/4.5.2/css/bootstrap.min.css\" integrity=\"sha384-JcKb8q3iqJ61gNV9KGb8thSsNjpSL0n8PARn9HuZOnIxN0hoP+VmmDGMN5t9UJ0Z\" rel=\"stylesheet\"/>\n",
      "  <title>\n",
      "   My Courses\n",
      "  </title>\n",
      " </head>\n",
      " <body>\n",
      "  <h1>\n",
      "   Hello, Start Learning!\n",
      "  </h1>\n",
      "  <div class=\"card\" id=\"card-python-for-beginners\">\n",
      "   <div class=\"card-header\">\n",
      "    Python\n",
      "   </div>\n",
      "   <div class=\"card-body\">\n",
      "    <h5 class=\"card-title\">\n",
      "     Python for beginners\n",
      "    </h5>\n",
      "    <p class=\"card-text\">\n",
      "     If you are new to Python, this is the course that you should buy!\n",
      "    </p>\n",
      "    <a class=\"btn btn-primary\" href=\"#\">\n",
      "     Start for 20$\n",
      "    </a>\n",
      "   </div>\n",
      "  </div>\n",
      "  <div class=\"card\" id=\"card-python-web-development\">\n",
      "   <div class=\"card-header\">\n",
      "    Python\n",
      "   </div>\n",
      "   <div class=\"card-body\">\n",
      "    <h5 class=\"card-title\">\n",
      "     Python Web Development\n",
      "    </h5>\n",
      "    <p class=\"card-text\">\n",
      "     If you feel enough confident with python, you are ready to learn how to create your own website!\n",
      "    </p>\n",
      "    <a class=\"btn btn-primary\" href=\"#\">\n",
      "     Start for 50$\n",
      "    </a>\n",
      "   </div>\n",
      "  </div>\n",
      "  <div class=\"card\" id=\"card-python-machine-learning\">\n",
      "   <div class=\"card-header\">\n",
      "    Python\n",
      "   </div>\n",
      "   <div class=\"card-body\">\n",
      "    <h5 class=\"card-title\">\n",
      "     Python Machine Learning\n",
      "    </h5>\n",
      "    <p class=\"card-text\">\n",
      "     Become a Python Machine Learning master!\n",
      "    </p>\n",
      "    <a class=\"btn btn-primary\" href=\"#\">\n",
      "     Start for 100$\n",
      "    </a>\n",
      "   </div>\n",
      "  </div>\n",
      " </body>\n",
      "</html>\n",
      "\n"
     ]
    }
   ],
   "source": [
    "    \n",
    "with open('home.html', 'r') as html_file:\n",
    "    content = html_file.read()\n",
    "    soup = BeautifulSoup(content,'lxml')\n",
    "    print(soup.prettify())"
   ]
  },
  {
   "cell_type": "code",
   "execution_count": 20,
   "metadata": {},
   "outputs": [
    {
     "name": "stdout",
     "output_type": "stream",
     "text": [
      "<h5 class=\"card-title\">Python for beginners</h5>\n"
     ]
    }
   ],
   "source": [
    "    \n",
    "with open('home.html', 'r') as html_file:\n",
    "    content = html_file.read()\n",
    "    soup = BeautifulSoup(content,'lxml')\n",
    "    tags = soup.find('h5')\n",
    "    print(tags)"
   ]
  },
  {
   "cell_type": "markdown",
   "metadata": {},
   "source": [
    "### Filtrar tags especificas"
   ]
  },
  {
   "cell_type": "code",
   "execution_count": 21,
   "metadata": {},
   "outputs": [
    {
     "name": "stdout",
     "output_type": "stream",
     "text": [
      "[<h5 class=\"card-title\">Python for beginners</h5>, <h5 class=\"card-title\">Python Web Development</h5>, <h5 class=\"card-title\">Python Machine Learning</h5>]\n"
     ]
    }
   ],
   "source": [
    "with open('home.html', 'r') as html_file:\n",
    "    content = html_file.read()\n",
    "    soup = BeautifulSoup(content,'lxml')\n",
    "    tags = soup.find_all('h5')\n",
    "    print(tags)"
   ]
  },
  {
   "cell_type": "code",
   "execution_count": 22,
   "metadata": {},
   "outputs": [
    {
     "name": "stdout",
     "output_type": "stream",
     "text": [
      "<h5 class=\"card-title\">Python for beginners</h5>\n",
      "<h5 class=\"card-title\">Python Web Development</h5>\n",
      "<h5 class=\"card-title\">Python Machine Learning</h5>\n"
     ]
    }
   ],
   "source": [
    "with open('home.html', 'r') as html_file:\n",
    "    content = html_file.read()\n",
    "    soup = BeautifulSoup(content,'lxml')\n",
    "    cousers_html_tags = soup.find_all('h5')\n",
    "    \n",
    "    for course in cousers_html_tags:\n",
    "        print(course)"
   ]
  },
  {
   "cell_type": "code",
   "execution_count": 23,
   "metadata": {},
   "outputs": [
    {
     "name": "stdout",
     "output_type": "stream",
     "text": [
      "Python for beginners\n",
      "Python Web Development\n",
      "Python Machine Learning\n"
     ]
    }
   ],
   "source": [
    "with open('home.html', 'r') as html_file:\n",
    "    content = html_file.read()\n",
    "    soup = BeautifulSoup(content,'lxml')\n",
    "    cousers_html_tags = soup.find_all('h5')\n",
    "    \n",
    "    for course in cousers_html_tags:\n",
    "        print(course.text) # Para passar apenas as informações de dentro da tag utiliza-se o atributo .text"
   ]
  },
  {
   "cell_type": "markdown",
   "metadata": {},
   "source": [
    "### Verificar os preços dos cursos"
   ]
  },
  {
   "cell_type": "code",
   "execution_count": 24,
   "metadata": {},
   "outputs": [
    {
     "name": "stdout",
     "output_type": "stream",
     "text": [
      "[<div class=\"card\" id=\"card-python-for-beginners\">\n",
      "<div class=\"card-header\">\n",
      "            Python\n",
      "         </div>\n",
      "<div class=\"card-body\">\n",
      "<h5 class=\"card-title\">Python for beginners</h5>\n",
      "<p class=\"card-text\">If you are new to Python, this is the course that you should buy!</p>\n",
      "<a class=\"btn btn-primary\" href=\"#\">Start for 20$</a>\n",
      "</div>\n",
      "</div>, <div class=\"card\" id=\"card-python-web-development\">\n",
      "<div class=\"card-header\">\n",
      "            Python\n",
      "         </div>\n",
      "<div class=\"card-body\">\n",
      "<h5 class=\"card-title\">Python Web Development</h5>\n",
      "<p class=\"card-text\">If you feel enough confident with python, you are ready to learn how to create your own website!</p>\n",
      "<a class=\"btn btn-primary\" href=\"#\">Start for 50$</a>\n",
      "</div>\n",
      "</div>, <div class=\"card\" id=\"card-python-machine-learning\">\n",
      "<div class=\"card-header\">\n",
      "            Python\n",
      "         </div>\n",
      "<div class=\"card-body\">\n",
      "<h5 class=\"card-title\">Python Machine Learning</h5>\n",
      "<p class=\"card-text\">Become a Python Machine Learning master!</p>\n",
      "<a class=\"btn btn-primary\" href=\"#\">Start for 100$</a>\n",
      "</div>\n",
      "</div>]\n"
     ]
    }
   ],
   "source": [
    "with open('home.html', 'r') as html_file:\n",
    "    content = html_file.read()\n",
    "    soup = BeautifulSoup(content,'lxml')\n",
    "    \n",
    "    course_cards = soup.find_all('div', class_='card')\n",
    "    print(course_cards)\n",
    "        "
   ]
  },
  {
   "cell_type": "code",
   "execution_count": 25,
   "metadata": {},
   "outputs": [
    {
     "name": "stdout",
     "output_type": "stream",
     "text": [
      "<a class=\"btn btn-primary\" href=\"#\">Start for 20$</a>\n",
      "<h5 class=\"card-title\">Python for beginners</h5>\n",
      "<a class=\"btn btn-primary\" href=\"#\">Start for 50$</a>\n",
      "<h5 class=\"card-title\">Python Web Development</h5>\n",
      "<a class=\"btn btn-primary\" href=\"#\">Start for 100$</a>\n",
      "<h5 class=\"card-title\">Python Machine Learning</h5>\n"
     ]
    }
   ],
   "source": [
    "with open('home.html', 'r') as html_file:\n",
    "    content = html_file.read()\n",
    "    soup = BeautifulSoup(content,'lxml')\n",
    "    \n",
    "    course_cards = soup.find_all('div', class_='card')\n",
    "    \n",
    "    for course in course_cards:\n",
    "        #atributos para acessar diretamente alguma tag especifica podem ser adicionados ao \"course\"\n",
    "        print(course.a) \n",
    "        print(course.h5)\n",
    "    \n",
    "    "
   ]
  },
  {
   "cell_type": "code",
   "execution_count": 26,
   "metadata": {},
   "outputs": [
    {
     "name": "stdout",
     "output_type": "stream",
     "text": [
      "Python for beginners: 20$\n",
      "Python Web Development: 50$\n",
      "Python Machine Learning: 100$\n"
     ]
    }
   ],
   "source": [
    "with open('home.html', 'r') as html_file:\n",
    "    content = html_file.read()\n",
    "    soup = BeautifulSoup(content,'lxml')\n",
    "    \n",
    "    course_cards = soup.find_all('div', class_='card')\n",
    "    \n",
    "    for course in course_cards:\n",
    "        course_name = course.h5.text\n",
    "        course_price = course.a.text\n",
    "        \n",
    "        print(f'{course_name}: {course_price.split()[-1]}') # para pegar apenas a ultima string da frase, no caso o valor\n",
    "\n",
    "    "
   ]
  }
 ],
 "metadata": {
  "kernelspec": {
   "display_name": "Python 3",
   "language": "python",
   "name": "python3"
  },
  "language_info": {
   "codemirror_mode": {
    "name": "ipython",
    "version": 3
   },
   "file_extension": ".py",
   "mimetype": "text/x-python",
   "name": "python",
   "nbconvert_exporter": "python",
   "pygments_lexer": "ipython3",
   "version": "3.12.4"
  }
 },
 "nbformat": 4,
 "nbformat_minor": 2
}
