{
 "cells": [
  {
   "cell_type": "code",
   "execution_count": 1,
   "metadata": {},
   "outputs": [],
   "source": [
    "import re\n",
    "import requests\n",
    "\n",
    "format_pat= re.compile(\n",
    "    r\"(?P<host>[\\d\\.]+)\\s\"\n",
    "    r\"(?P<identity>\\S*)\\s\"\n",
    "    r\"(?P<user>\\S*)\\s\"\n",
    "    r\"\\[(?P<time>.*?)\\]\\s\"\n",
    "    r'\"(?P<request>.*?)\"\\s'\n",
    "    r\"(?P<status>\\d+)\\s\"\n",
    "    r\"(?P<bytes>\\S*)\\s\"\n",
    "    r'\"(?P<referer>.*?)\"\\s'\n",
    "    r'\"(?P<user_agent>.*?)\"\\s*'\n",
    ")"
   ]
  },
  {
   "cell_type": "code",
   "execution_count": 2,
   "metadata": {},
   "outputs": [],
   "source": [
    "logPath = r\"Aquivos_de_Código\\access_log.txt\""
   ]
  },
  {
   "cell_type": "code",
   "execution_count": 6,
   "metadata": {},
   "outputs": [],
   "source": [
    "urlcounts = {}\n",
    "\n",
    "with open(logPath, 'r') as file:\n",
    "    for l in file:\n",
    "        for line in l.rstrip():\n",
    "            match = format_pat.match(line) # procura o que bate com o regex\n",
    "            if match:  \n",
    "                access = match.groupdict()\n",
    "                request = access['request']\n",
    "                (action, url, protocol) = request.split()\n",
    "                if urlcounts.has_key(url):\n",
    "                    urlcounts[url] = urlcounts[url]+1\n",
    "                else:\n",
    "                    urlcounts = 1\n",
    "\n",
    "results = sorted(urlcounts, key=lambda i : int(urlcounts[i]), reverse=True)\n",
    "\n",
    "for result in results[:20]:\n",
    "    print(result,\": \", str(urlcounts[result]))                "
   ]
  }
 ],
 "metadata": {
  "kernelspec": {
   "display_name": "Python 3",
   "language": "python",
   "name": "python3"
  },
  "language_info": {
   "codemirror_mode": {
    "name": "ipython",
    "version": 3
   },
   "file_extension": ".py",
   "mimetype": "text/x-python",
   "name": "python",
   "nbconvert_exporter": "python",
   "pygments_lexer": "ipython3",
   "version": "3.12.4"
  }
 },
 "nbformat": 4,
 "nbformat_minor": 2
}
