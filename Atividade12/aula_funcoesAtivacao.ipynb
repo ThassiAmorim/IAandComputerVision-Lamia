{
 "cells": [
  {
   "cell_type": "code",
   "execution_count": 1,
   "metadata": {},
   "outputs": [],
   "source": [
    "import numpy as np"
   ]
  },
  {
   "cell_type": "code",
   "execution_count": 2,
   "metadata": {},
   "outputs": [
    {
     "name": "stdout",
     "output_type": "stream",
     "text": [
      "1\n",
      "0\n"
     ]
    }
   ],
   "source": [
    "degrau = lambda x: 1 if x >= 1 else 0 \n",
    "\n",
    "print(degrau(3))\n",
    "print(degrau(0))"
   ]
  },
  {
   "cell_type": "code",
   "execution_count": 5,
   "metadata": {},
   "outputs": [
    {
     "name": "stdout",
     "output_type": "stream",
     "text": [
      "4.5397868702434395e-05\n"
     ]
    }
   ],
   "source": [
    "sigmoid = lambda x: 1/(1 + np.exp(-x))\n",
    "print(sigmoid(-10))"
   ]
  },
  {
   "cell_type": "code",
   "execution_count": 10,
   "metadata": {},
   "outputs": [
    {
     "name": "stdout",
     "output_type": "stream",
     "text": [
      "0.964027580075817\n",
      "0.7615941559557649\n"
     ]
    }
   ],
   "source": [
    "hiperbolic = lambda x : (np.exp(x) - np.exp(-x)) / (np.exp(x) + np.exp(-x))\n",
    "print(hiperbolic(2))\n",
    "print(hiperbolic(1))"
   ]
  },
  {
   "cell_type": "code",
   "execution_count": 13,
   "metadata": {},
   "outputs": [
    {
     "name": "stdout",
     "output_type": "stream",
     "text": [
      "0\n",
      "0\n",
      "10\n",
      "3\n"
     ]
    }
   ],
   "source": [
    "relu = lambda x: x if x>= 0 else 0\n",
    "print(relu(-20))\n",
    "print(relu(0))\n",
    "print(relu(10))\n",
    "print(relu(3))"
   ]
  },
  {
   "cell_type": "code",
   "execution_count": 16,
   "metadata": {},
   "outputs": [
    {
     "name": "stdout",
     "output_type": "stream",
     "text": [
      "[0.99001676 0.00667068 0.00331256]\n",
      "[0.72747516 0.00490169 0.26762315]\n"
     ]
    }
   ],
   "source": [
    "softmax = lambda x: np.exp(x) / np.exp(x).sum() #probabilidade de ser de x classe\n",
    "print(softmax([7.0, 2.0, 1.3]))\n",
    "print(softmax([7.0, 2.0, 6]))"
   ]
  },
  {
   "cell_type": "code",
   "execution_count": 19,
   "metadata": {},
   "outputs": [
    {
     "name": "stdout",
     "output_type": "stream",
     "text": [
      "3\n"
     ]
    }
   ],
   "source": [
    "linear = lambda x: x\n",
    "print(linear(3))"
   ]
  }
 ],
 "metadata": {
  "kernelspec": {
   "display_name": "Python 3",
   "language": "python",
   "name": "python3"
  },
  "language_info": {
   "codemirror_mode": {
    "name": "ipython",
    "version": 3
   },
   "file_extension": ".py",
   "mimetype": "text/x-python",
   "name": "python",
   "nbconvert_exporter": "python",
   "pygments_lexer": "ipython3",
   "version": "3.12.4"
  }
 },
 "nbformat": 4,
 "nbformat_minor": 2
}
