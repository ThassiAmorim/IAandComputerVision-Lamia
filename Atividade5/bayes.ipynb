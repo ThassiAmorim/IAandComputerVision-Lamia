{
 "cells": [
  {
   "cell_type": "code",
   "execution_count": 1,
   "metadata": {},
   "outputs": [
    {
     "name": "stdout",
     "output_type": "stream",
     "text": [
      "Probabilidade de ter a doença dado um teste positivo: 15.38%\n"
     ]
    }
   ],
   "source": [
    "\n",
    "P_A = 0.01    # Probabilidade de ter a doença\n",
    "P_B_dado_A = 0.9    # Probabilidade de testar positivo se tiver a doença\n",
    "P_B_dado_nao_A = 0.05   # Probabilidade de testar positivo se não tiver a doença\n",
    "P_nao_A = 1 - P_A    # Probabilidade de não ter a doença\n",
    "\n",
    "P_B = P_B_dado_A * P_A + P_B_dado_nao_A * P_nao_A\n",
    "\n",
    "P_A_dado_B = (P_B_dado_A * P_A) / P_B\n",
    "\n",
    "print(f\"Probabilidade de ter a doença dado um teste positivo: {P_A_dado_B:.2%}\")\n"
   ]
  }
 ],
 "metadata": {
  "kernelspec": {
   "display_name": "Python 3",
   "language": "python",
   "name": "python3"
  },
  "language_info": {
   "codemirror_mode": {
    "name": "ipython",
    "version": 3
   },
   "file_extension": ".py",
   "mimetype": "text/x-python",
   "name": "python",
   "nbconvert_exporter": "python",
   "pygments_lexer": "ipython3",
   "version": "3.12.4"
  }
 },
 "nbformat": 4,
 "nbformat_minor": 2
}
