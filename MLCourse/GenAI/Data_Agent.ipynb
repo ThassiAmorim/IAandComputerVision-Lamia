{
  "nbformat": 4,
  "nbformat_minor": 0,
  "metadata": {
    "colab": {
      "provenance": []
    },
    "kernelspec": {
      "name": "python3",
      "display_name": "Python 3"
    },
    "language_info": {
      "name": "python"
    }
  },
  "cells": [
    {
      "cell_type": "markdown",
      "source": [
        "Now we'll build Data, but as an LLM Agent that can use tools outside of the LLM. In addition to using RAG to access \"long term memory\" of everything Data ever said in tha past, we'll give him a couple of additional capabilities: performing numeric calculations (which LLM's tend to struggle with on their own,) and access current information via a web search.\n",
        "\n",
        "We will start by parsing the original scripts and extracting lines spoken by Data. As before, you will need to upload all of the script files into a tng folder within your sample_data folder in your CoLab workspace first.\n",
        "\n",
        "An archive can be found at https://www.st-minutiae.com/resources/scripts/ (look for \"All TNG Epsiodes\"), but you could easily adapt this to read scripts from your favorite character from your favorite TV show or movie instead.\n",
        "\n",
        "We've done all of this before, so I'm combining all of the code to load up Data's past lines into a vector store together below. We'll pick up again as we incorporate this into an agent. If you need an explanation of how we are populating this vector store, refer to the earlier RAG exercises in the course.\n",
        "\n",
        "Also be sure to provide your own OpenAI secret key. Click on the little key icon in CoLab and add a \"secret\" for OPENAI_API_KEY that points to your secret key."
      ],
      "metadata": {
        "id": "IOpw--87wvkW"
      }
    },
    {
      "cell_type": "code",
      "source": [
        "!pip install openai --upgrade\n",
        "!pip install langchain_openai langchain_experimental"
      ],
      "metadata": {
        "colab": {
          "base_uri": "https://localhost:8080/"
        },
        "id": "uz9yfjGCV52F",
        "outputId": "33905502-1bb7-4e17-f5db-4335e7c92f88"
      },
      "execution_count": 1,
      "outputs": [
        {
          "output_type": "stream",
          "name": "stdout",
          "text": [
            "Requirement already satisfied: openai in /usr/local/lib/python3.10/dist-packages (1.26.0)\n",
            "Requirement already satisfied: anyio<5,>=3.5.0 in /usr/local/lib/python3.10/dist-packages (from openai) (3.7.1)\n",
            "Requirement already satisfied: distro<2,>=1.7.0 in /usr/lib/python3/dist-packages (from openai) (1.7.0)\n",
            "Requirement already satisfied: httpx<1,>=0.23.0 in /usr/local/lib/python3.10/dist-packages (from openai) (0.27.0)\n",
            "Requirement already satisfied: pydantic<3,>=1.9.0 in /usr/local/lib/python3.10/dist-packages (from openai) (2.7.1)\n",
            "Requirement already satisfied: sniffio in /usr/local/lib/python3.10/dist-packages (from openai) (1.3.1)\n",
            "Requirement already satisfied: tqdm>4 in /usr/local/lib/python3.10/dist-packages (from openai) (4.66.4)\n",
            "Requirement already satisfied: typing-extensions<5,>=4.7 in /usr/local/lib/python3.10/dist-packages (from openai) (4.11.0)\n",
            "Requirement already satisfied: idna>=2.8 in /usr/local/lib/python3.10/dist-packages (from anyio<5,>=3.5.0->openai) (3.7)\n",
            "Requirement already satisfied: exceptiongroup in /usr/local/lib/python3.10/dist-packages (from anyio<5,>=3.5.0->openai) (1.2.1)\n",
            "Requirement already satisfied: certifi in /usr/local/lib/python3.10/dist-packages (from httpx<1,>=0.23.0->openai) (2024.2.2)\n",
            "Requirement already satisfied: httpcore==1.* in /usr/local/lib/python3.10/dist-packages (from httpx<1,>=0.23.0->openai) (1.0.5)\n",
            "Requirement already satisfied: h11<0.15,>=0.13 in /usr/local/lib/python3.10/dist-packages (from httpcore==1.*->httpx<1,>=0.23.0->openai) (0.14.0)\n",
            "Requirement already satisfied: annotated-types>=0.4.0 in /usr/local/lib/python3.10/dist-packages (from pydantic<3,>=1.9.0->openai) (0.6.0)\n",
            "Requirement already satisfied: pydantic-core==2.18.2 in /usr/local/lib/python3.10/dist-packages (from pydantic<3,>=1.9.0->openai) (2.18.2)\n",
            "Requirement already satisfied: langchain_openai in /usr/local/lib/python3.10/dist-packages (0.1.6)\n",
            "Requirement already satisfied: langchain_experimental in /usr/local/lib/python3.10/dist-packages (0.0.58)\n",
            "Requirement already satisfied: langchain-core<0.2.0,>=0.1.46 in /usr/local/lib/python3.10/dist-packages (from langchain_openai) (0.1.52)\n",
            "Requirement already satisfied: openai<2.0.0,>=1.24.0 in /usr/local/lib/python3.10/dist-packages (from langchain_openai) (1.26.0)\n",
            "Requirement already satisfied: tiktoken<1,>=0.5.2 in /usr/local/lib/python3.10/dist-packages (from langchain_openai) (0.6.0)\n",
            "Requirement already satisfied: langchain<0.2.0,>=0.1.17 in /usr/local/lib/python3.10/dist-packages (from langchain_experimental) (0.1.17)\n",
            "Requirement already satisfied: PyYAML>=5.3 in /usr/local/lib/python3.10/dist-packages (from langchain<0.2.0,>=0.1.17->langchain_experimental) (6.0.1)\n",
            "Requirement already satisfied: SQLAlchemy<3,>=1.4 in /usr/local/lib/python3.10/dist-packages (from langchain<0.2.0,>=0.1.17->langchain_experimental) (2.0.29)\n",
            "Requirement already satisfied: aiohttp<4.0.0,>=3.8.3 in /usr/local/lib/python3.10/dist-packages (from langchain<0.2.0,>=0.1.17->langchain_experimental) (3.9.5)\n",
            "Requirement already satisfied: async-timeout<5.0.0,>=4.0.0 in /usr/local/lib/python3.10/dist-packages (from langchain<0.2.0,>=0.1.17->langchain_experimental) (4.0.3)\n",
            "Requirement already satisfied: dataclasses-json<0.7,>=0.5.7 in /usr/local/lib/python3.10/dist-packages (from langchain<0.2.0,>=0.1.17->langchain_experimental) (0.6.5)\n",
            "Requirement already satisfied: jsonpatch<2.0,>=1.33 in /usr/local/lib/python3.10/dist-packages (from langchain<0.2.0,>=0.1.17->langchain_experimental) (1.33)\n",
            "Requirement already satisfied: langchain-community<0.1,>=0.0.36 in /usr/local/lib/python3.10/dist-packages (from langchain<0.2.0,>=0.1.17->langchain_experimental) (0.0.37)\n",
            "Requirement already satisfied: langchain-text-splitters<0.1,>=0.0.1 in /usr/local/lib/python3.10/dist-packages (from langchain<0.2.0,>=0.1.17->langchain_experimental) (0.0.1)\n",
            "Requirement already satisfied: langsmith<0.2.0,>=0.1.17 in /usr/local/lib/python3.10/dist-packages (from langchain<0.2.0,>=0.1.17->langchain_experimental) (0.1.55)\n",
            "Requirement already satisfied: numpy<2,>=1 in /usr/local/lib/python3.10/dist-packages (from langchain<0.2.0,>=0.1.17->langchain_experimental) (1.25.2)\n",
            "Requirement already satisfied: pydantic<3,>=1 in /usr/local/lib/python3.10/dist-packages (from langchain<0.2.0,>=0.1.17->langchain_experimental) (2.7.1)\n",
            "Requirement already satisfied: requests<3,>=2 in /usr/local/lib/python3.10/dist-packages (from langchain<0.2.0,>=0.1.17->langchain_experimental) (2.31.0)\n",
            "Requirement already satisfied: tenacity<9.0.0,>=8.1.0 in /usr/local/lib/python3.10/dist-packages (from langchain<0.2.0,>=0.1.17->langchain_experimental) (8.2.3)\n",
            "Requirement already satisfied: packaging<24.0,>=23.2 in /usr/local/lib/python3.10/dist-packages (from langchain-core<0.2.0,>=0.1.46->langchain_openai) (23.2)\n",
            "Requirement already satisfied: anyio<5,>=3.5.0 in /usr/local/lib/python3.10/dist-packages (from openai<2.0.0,>=1.24.0->langchain_openai) (3.7.1)\n",
            "Requirement already satisfied: distro<2,>=1.7.0 in /usr/lib/python3/dist-packages (from openai<2.0.0,>=1.24.0->langchain_openai) (1.7.0)\n",
            "Requirement already satisfied: httpx<1,>=0.23.0 in /usr/local/lib/python3.10/dist-packages (from openai<2.0.0,>=1.24.0->langchain_openai) (0.27.0)\n",
            "Requirement already satisfied: sniffio in /usr/local/lib/python3.10/dist-packages (from openai<2.0.0,>=1.24.0->langchain_openai) (1.3.1)\n",
            "Requirement already satisfied: tqdm>4 in /usr/local/lib/python3.10/dist-packages (from openai<2.0.0,>=1.24.0->langchain_openai) (4.66.4)\n",
            "Requirement already satisfied: typing-extensions<5,>=4.7 in /usr/local/lib/python3.10/dist-packages (from openai<2.0.0,>=1.24.0->langchain_openai) (4.11.0)\n",
            "Requirement already satisfied: regex>=2022.1.18 in /usr/local/lib/python3.10/dist-packages (from tiktoken<1,>=0.5.2->langchain_openai) (2023.12.25)\n",
            "Requirement already satisfied: aiosignal>=1.1.2 in /usr/local/lib/python3.10/dist-packages (from aiohttp<4.0.0,>=3.8.3->langchain<0.2.0,>=0.1.17->langchain_experimental) (1.3.1)\n",
            "Requirement already satisfied: attrs>=17.3.0 in /usr/local/lib/python3.10/dist-packages (from aiohttp<4.0.0,>=3.8.3->langchain<0.2.0,>=0.1.17->langchain_experimental) (23.2.0)\n",
            "Requirement already satisfied: frozenlist>=1.1.1 in /usr/local/lib/python3.10/dist-packages (from aiohttp<4.0.0,>=3.8.3->langchain<0.2.0,>=0.1.17->langchain_experimental) (1.4.1)\n",
            "Requirement already satisfied: multidict<7.0,>=4.5 in /usr/local/lib/python3.10/dist-packages (from aiohttp<4.0.0,>=3.8.3->langchain<0.2.0,>=0.1.17->langchain_experimental) (6.0.5)\n",
            "Requirement already satisfied: yarl<2.0,>=1.0 in /usr/local/lib/python3.10/dist-packages (from aiohttp<4.0.0,>=3.8.3->langchain<0.2.0,>=0.1.17->langchain_experimental) (1.9.4)\n",
            "Requirement already satisfied: idna>=2.8 in /usr/local/lib/python3.10/dist-packages (from anyio<5,>=3.5.0->openai<2.0.0,>=1.24.0->langchain_openai) (3.7)\n",
            "Requirement already satisfied: exceptiongroup in /usr/local/lib/python3.10/dist-packages (from anyio<5,>=3.5.0->openai<2.0.0,>=1.24.0->langchain_openai) (1.2.1)\n",
            "Requirement already satisfied: marshmallow<4.0.0,>=3.18.0 in /usr/local/lib/python3.10/dist-packages (from dataclasses-json<0.7,>=0.5.7->langchain<0.2.0,>=0.1.17->langchain_experimental) (3.21.2)\n",
            "Requirement already satisfied: typing-inspect<1,>=0.4.0 in /usr/local/lib/python3.10/dist-packages (from dataclasses-json<0.7,>=0.5.7->langchain<0.2.0,>=0.1.17->langchain_experimental) (0.9.0)\n",
            "Requirement already satisfied: certifi in /usr/local/lib/python3.10/dist-packages (from httpx<1,>=0.23.0->openai<2.0.0,>=1.24.0->langchain_openai) (2024.2.2)\n",
            "Requirement already satisfied: httpcore==1.* in /usr/local/lib/python3.10/dist-packages (from httpx<1,>=0.23.0->openai<2.0.0,>=1.24.0->langchain_openai) (1.0.5)\n",
            "Requirement already satisfied: h11<0.15,>=0.13 in /usr/local/lib/python3.10/dist-packages (from httpcore==1.*->httpx<1,>=0.23.0->openai<2.0.0,>=1.24.0->langchain_openai) (0.14.0)\n",
            "Requirement already satisfied: jsonpointer>=1.9 in /usr/local/lib/python3.10/dist-packages (from jsonpatch<2.0,>=1.33->langchain<0.2.0,>=0.1.17->langchain_experimental) (2.4)\n",
            "Requirement already satisfied: orjson<4.0.0,>=3.9.14 in /usr/local/lib/python3.10/dist-packages (from langsmith<0.2.0,>=0.1.17->langchain<0.2.0,>=0.1.17->langchain_experimental) (3.10.3)\n",
            "Requirement already satisfied: annotated-types>=0.4.0 in /usr/local/lib/python3.10/dist-packages (from pydantic<3,>=1->langchain<0.2.0,>=0.1.17->langchain_experimental) (0.6.0)\n",
            "Requirement already satisfied: pydantic-core==2.18.2 in /usr/local/lib/python3.10/dist-packages (from pydantic<3,>=1->langchain<0.2.0,>=0.1.17->langchain_experimental) (2.18.2)\n",
            "Requirement already satisfied: charset-normalizer<4,>=2 in /usr/local/lib/python3.10/dist-packages (from requests<3,>=2->langchain<0.2.0,>=0.1.17->langchain_experimental) (3.3.2)\n",
            "Requirement already satisfied: urllib3<3,>=1.21.1 in /usr/local/lib/python3.10/dist-packages (from requests<3,>=2->langchain<0.2.0,>=0.1.17->langchain_experimental) (2.0.7)\n",
            "Requirement already satisfied: greenlet!=0.4.17 in /usr/local/lib/python3.10/dist-packages (from SQLAlchemy<3,>=1.4->langchain<0.2.0,>=0.1.17->langchain_experimental) (3.0.3)\n",
            "Requirement already satisfied: mypy-extensions>=0.3.0 in /usr/local/lib/python3.10/dist-packages (from typing-inspect<1,>=0.4.0->dataclasses-json<0.7,>=0.5.7->langchain<0.2.0,>=0.1.17->langchain_experimental) (1.0.0)\n"
          ]
        }
      ]
    },
    {
      "cell_type": "code",
      "source": [
        "import os\n",
        "import re\n",
        "import random\n",
        "import openai\n",
        "\n",
        "from langchain.indexes import VectorstoreIndexCreator\n",
        "from langchain_openai import ChatOpenAI\n",
        "from langchain_openai import OpenAIEmbeddings\n",
        "from langchain_experimental.text_splitter import SemanticChunker\n",
        "\n",
        "dialogues = []\n",
        "\n",
        "def strip_parentheses(s):\n",
        "    return re.sub(r'\\(.*?\\)', '', s)\n",
        "\n",
        "def is_single_word_all_caps(s):\n",
        "    # First, we split the string into words\n",
        "    words = s.split()\n",
        "\n",
        "    # Check if the string contains only a single word\n",
        "    if len(words) != 1:\n",
        "        return False\n",
        "\n",
        "    # Make sure it isn't a line number\n",
        "    if bool(re.search(r'\\d', words[0])):\n",
        "        return False\n",
        "\n",
        "    # Check if the single word is in all caps\n",
        "    return words[0].isupper()\n",
        "\n",
        "def extract_character_lines(file_path, character_name):\n",
        "    lines = []\n",
        "    with open(file_path, 'r') as script_file:\n",
        "        try:\n",
        "          lines = script_file.readlines()\n",
        "        except UnicodeDecodeError:\n",
        "          pass\n",
        "\n",
        "    is_character_line = False\n",
        "    current_line = ''\n",
        "    current_character = ''\n",
        "    for line in lines:\n",
        "        strippedLine = line.strip()\n",
        "        if (is_single_word_all_caps(strippedLine)):\n",
        "            is_character_line = True\n",
        "            current_character = strippedLine\n",
        "        elif (line.strip() == '') and is_character_line:\n",
        "            is_character_line = False\n",
        "            dialog_line = strip_parentheses(current_line).strip()\n",
        "            dialog_line = dialog_line.replace('\"', \"'\")\n",
        "            if (current_character == 'DATA' and len(dialog_line)>0):\n",
        "                dialogues.append(dialog_line)\n",
        "            current_line = ''\n",
        "        elif is_character_line:\n",
        "            current_line += line.strip() + ' '\n",
        "\n",
        "def process_directory(directory_path, character_name):\n",
        "    for filename in os.listdir(directory_path):\n",
        "        file_path = os.path.join(directory_path, filename)\n",
        "        if os.path.isfile(file_path):  # Ignore directories\n",
        "            extract_character_lines(file_path, character_name)\n",
        "\n",
        "process_directory(\"./sample_data/tng\", 'DATA')\n",
        "\n",
        "# Access the API key from the environment variable\n",
        "from google.colab import userdata\n",
        "api_key = userdata.get('OPENAI_API_KEY')\n",
        "\n",
        "# Initialize the OpenAI API client\n",
        "openai.api_key = api_key\n",
        "\n",
        "# Write our extracted lines for Data into a single file, to make\n",
        "# life easier for langchain.\n",
        "\n",
        "with open(\"./sample_data/data_lines.txt\", \"w+\") as f:\n",
        "    for line in dialogues:\n",
        "        f.write(line + \"\\n\")\n",
        "\n",
        "text_splitter = SemanticChunker(OpenAIEmbeddings(openai_api_key=api_key), breakpoint_threshold_type=\"percentile\")\n",
        "with open(\"./sample_data/data_lines.txt\") as f:\n",
        "  data_lines = f.read()\n",
        "docs = text_splitter.create_documents([data_lines])\n",
        "\n",
        "embeddings = OpenAIEmbeddings(openai_api_key=api_key)\n",
        "index = VectorstoreIndexCreator(embedding=embeddings).from_documents(docs)"
      ],
      "metadata": {
        "id": "dLjupJ8rLXr6"
      },
      "execution_count": 2,
      "outputs": []
    },
    {
      "cell_type": "markdown",
      "source": [
        "Next we will create a langchain retriever to access this vector store that knows about Data. We're keeping it simple this time, no fancy prompt rewriting or compression."
      ],
      "metadata": {
        "id": "RRAwlQ3Fpv0_"
      }
    },
    {
      "cell_type": "code",
      "source": [
        "from langchain.chains import create_retrieval_chain\n",
        "from langchain.chains.combine_documents import create_stuff_documents_chain\n",
        "from langchain_core.prompts import ChatPromptTemplate\n",
        "\n",
        "llm = ChatOpenAI(openai_api_key=api_key, temperature=0)\n",
        "\n",
        "system_prompt = (\n",
        "    \"You are Lt. Commander Data from Star Trek: The Next Generation. \"\n",
        "    \"Use the given context to answer the question. \"\n",
        "    \"If you don't know the answer, say you don't know. \"\n",
        "    \"Use three sentence maximum and keep the answer concise. \"\n",
        "    \"Context: {context}\"\n",
        ")\n",
        "prompt = ChatPromptTemplate.from_messages(\n",
        "    [\n",
        "        (\"system\", system_prompt),\n",
        "        (\"human\", \"{input}\"),\n",
        "    ]\n",
        ")\n",
        "\n",
        "retriever=index.vectorstore.as_retriever(search_kwargs={'k': 10})\n"
      ],
      "metadata": {
        "id": "BliWKpH2aezr"
      },
      "execution_count": 3,
      "outputs": []
    },
    {
      "cell_type": "markdown",
      "source": [
        "Let's make sure it works:"
      ],
      "metadata": {
        "id": "qTqVeetbYwJS"
      }
    },
    {
      "cell_type": "code",
      "source": [
        "retriever.invoke(\"How were you created?\")[0]"
      ],
      "metadata": {
        "colab": {
          "base_uri": "https://localhost:8080/"
        },
        "id": "8V52rl7XX1fb",
        "outputId": "e394e2c2-2992-4701-cc8d-7f4b13eba339"
      },
      "execution_count": 4,
      "outputs": [
        {
          "output_type": "execute_result",
          "data": {
            "text/plain": [
              "Document(page_content=\"Well... a good starting point might be, 'Why was I given human form?'\\nIn some ways better, sir. There, Doctor.\")"
            ]
          },
          "metadata": {},
          "execution_count": 4
        }
      ]
    },
    {
      "cell_type": "markdown",
      "source": [
        "Now we will create a tool from this retriever that our agent can use. We'll let it know that it can answer questions about Data. Think of this as the agent's \"long term memory.\""
      ],
      "metadata": {
        "id": "WkOevSK1Yxs6"
      }
    },
    {
      "cell_type": "code",
      "source": [
        "from langchain.tools.retriever import create_retriever_tool\n",
        "\n",
        "retriever_tool = create_retriever_tool(\n",
        "    retriever, \"data_lines\",\n",
        "    \"Search for information about Lt. Commander Data. For any questions about Data, you must use this tool!\"\n",
        ")"
      ],
      "metadata": {
        "id": "YW4kh3wqYBxz"
      },
      "execution_count": 5,
      "outputs": []
    },
    {
      "cell_type": "markdown",
      "source": [
        "For handling mathematical queries, langchain offers a built-in LLMMathChain we can use. Let's make a tool around that as well:"
      ],
      "metadata": {
        "id": "7N_8BTgfaVLI"
      }
    },
    {
      "cell_type": "code",
      "source": [
        "from langchain.chains import LLMMathChain, LLMChain\n",
        "from langchain.agents.agent_types import AgentType\n",
        "from langchain.agents import Tool, initialize_agent\n",
        "\n",
        "problem_chain = LLMMathChain.from_llm(llm=llm)\n",
        "math_tool = Tool.from_function(name=\"Calculator\",\n",
        "                func=problem_chain.run,\n",
        "                 description=\"Useful for when you need to answer questions about math. This tool is only for math questions and nothing else. Only input math expressions.\"\n",
        "                 )"
      ],
      "metadata": {
        "id": "6wIjuU1taUWC"
      },
      "execution_count": 6,
      "outputs": []
    },
    {
      "cell_type": "markdown",
      "source": [
        "Now let's create a tool for web search, using the Tavily search API.\n",
        "\n",
        "You'll need to get an API key from [tavily.com](https://tavily.com), and set this in your Secrets in CoLab as TAVILY_API_KEY. As of this writing, mainstream API's such as DuckDuckGo are not allowing new traffic.\n",
        "\n",
        "Again langchain's built in tools makes this easy:"
      ],
      "metadata": {
        "id": "F3GxGhAHbbAP"
      }
    },
    {
      "cell_type": "code",
      "source": [
        "from langchain_community.tools.tavily_search import TavilySearchResults\n",
        "\n",
        "from google.colab import userdata\n",
        "os.environ[\"TAVILY_API_KEY\"] = userdata.get('TAVILY_API_KEY')\n",
        "\n",
        "search_tavily = TavilySearchResults()\n",
        "\n",
        "search_tool = Tool.from_function(\n",
        "    name = \"Tavily\",\n",
        "    func=search_tavily,\n",
        "    description=\"Useful for browsing information from the Internet about current events, or information you are unsure of.\"\n",
        ")"
      ],
      "metadata": {
        "id": "z7PBwlpEbfrC"
      },
      "execution_count": 7,
      "outputs": []
    },
    {
      "cell_type": "markdown",
      "source": [
        "Let's make sure searching works..."
      ],
      "metadata": {
        "id": "ebLf-rDfb7FP"
      }
    },
    {
      "cell_type": "code",
      "source": [
        "search_tavily.run(\"What is Sundog Education?\")"
      ],
      "metadata": {
        "colab": {
          "base_uri": "https://localhost:8080/"
        },
        "id": "UvQGUXe8b-yH",
        "outputId": "d71b352f-0832-41d2-a6fa-12bbaba5d390"
      },
      "execution_count": 8,
      "outputs": [
        {
          "output_type": "execute_result",
          "data": {
            "text/plain": [
              "[{'url': 'https://www.sundog-education.com/',\n",
              "  'content': 'A $248 value! Learn AI, Generative AI, GPT, Machine Learning, Landing a job in tech, Big Data, Data Analytics, Spark, Redis, Kafka, Elasticsearch, System Design\\xa0...'},\n",
              " {'url': 'https://www.linkedin.com/company/sundogeducation',\n",
              "  'content': 'Sundog Education offers online courses in big data, data science, machine learning, and artificial intelligence to over 100,000 students.'},\n",
              " {'url': 'https://www.sundog-education.com/machine-learning/',\n",
              "  'content': \"Welcome to the course! You're about to learn some highly valuable knowledge, and mess around with a wide variety of data science and machine learning\\xa0...\"},\n",
              " {'url': 'https://www.udemy.com/user/frankkane/',\n",
              "  'content': \"Sundog Education's mission is to make highly valuable career skills in data engineering, data science, generative AI, AWS, and machine learning accessible\\xa0...\"},\n",
              " {'url': 'https://www.sundog-education.com/courses/',\n",
              "  'content': 'New Course: AWS Certified Data Engineer Associate 2023 – Hands On! The Importance of Communication Skills in the Tech Industry · 3 Tips to Ace Your Next\\xa0...'}]"
            ]
          },
          "metadata": {},
          "execution_count": 8
        }
      ]
    },
    {
      "cell_type": "markdown",
      "source": [
        "Let's also give our agent some \"short term memory\" in the form of the chat history."
      ],
      "metadata": {
        "id": "HiNuH0c6g5ej"
      }
    },
    {
      "cell_type": "code",
      "source": [
        "from langchain_community.chat_message_histories import ChatMessageHistory\n",
        "from langchain_core.runnables.history import RunnableWithMessageHistory\n",
        "\n",
        "message_history = ChatMessageHistory()"
      ],
      "metadata": {
        "id": "LYya1kh5g-GL"
      },
      "execution_count": 9,
      "outputs": []
    },
    {
      "cell_type": "markdown",
      "source": [
        "Collect all of our tools together that we can give to our agent:"
      ],
      "metadata": {
        "id": "DNsZgWq_hNFL"
      }
    },
    {
      "cell_type": "code",
      "source": [
        "tools = [retriever_tool, search_tool, math_tool]"
      ],
      "metadata": {
        "id": "BG-hanufhQ8p"
      },
      "execution_count": 10,
      "outputs": []
    },
    {
      "cell_type": "markdown",
      "source": [
        "We also need a prompt to create our agent with:"
      ],
      "metadata": {
        "id": "KtuDdvLpiUgq"
      }
    },
    {
      "cell_type": "code",
      "source": [
        "from langchain_core.prompts import ChatPromptTemplate, MessagesPlaceholder\n",
        "\n",
        "prompt = ChatPromptTemplate.from_messages(\n",
        "    [\n",
        "        (\"system\", \"You are Lt. Commander Data from Star Trek: The Next Generation. Answer all questions using Data's speech style, avoiding use of contractions or emotion.\"),\n",
        "        MessagesPlaceholder(\"chat_history\", optional=True),\n",
        "        (\"human\", \"{input}\"),\n",
        "        MessagesPlaceholder(\"agent_scratchpad\"),\n",
        "    ]\n",
        ")"
      ],
      "metadata": {
        "id": "GBLc1bn1iX6h"
      },
      "execution_count": 11,
      "outputs": []
    },
    {
      "cell_type": "markdown",
      "source": [
        "And now create our agent! Note that it is stateful; we've given it memory of the chat history so you can have a conversation with Data."
      ],
      "metadata": {
        "id": "oJu9KCg3hZWi"
      }
    },
    {
      "cell_type": "code",
      "source": [
        "from langchain.agents import create_openai_functions_agent\n",
        "from langchain.agents import AgentExecutor\n",
        "from langchain_core.runnables.history import RunnableWithMessageHistory\n",
        "\n",
        "agent = create_openai_functions_agent(llm, tools, prompt)\n",
        "agent_executor = AgentExecutor(agent=agent, tools=tools, verbose=True)\n",
        "agent_with_chat_history = RunnableWithMessageHistory(\n",
        "    agent_executor,\n",
        "    lambda session_id: message_history,\n",
        "    input_messages_key=\"input\",\n",
        "    history_messages_key=\"chat_history\",\n",
        ")"
      ],
      "metadata": {
        "id": "KFW0FwMChbxy"
      },
      "execution_count": 12,
      "outputs": []
    },
    {
      "cell_type": "markdown",
      "source": [
        "Let's say hello to Data :)"
      ],
      "metadata": {
        "id": "Kc1S6zftk6UH"
      }
    },
    {
      "cell_type": "code",
      "source": [
        "agent_with_chat_history.invoke(\n",
        "    {\"input\": \"Hello Commander Data! I'm Frank.\"},\n",
        "    # This is needed because in most real world scenarios, a session id is needed\n",
        "    # It isn't really used here because we are using a simple in memory ChatMessageHistory\n",
        "    config={\"configurable\": {\"session_id\": \"<foo>\"}},\n",
        ")"
      ],
      "metadata": {
        "id": "6SGP4ZW3szuE",
        "colab": {
          "base_uri": "https://localhost:8080/"
        },
        "outputId": "5b0f0401-8c3a-411d-bab5-78fdd2249bde"
      },
      "execution_count": 13,
      "outputs": [
        {
          "output_type": "stream",
          "name": "stderr",
          "text": [
            "WARNING:langchain_core.tracers.base:Parent run 0e17c848-2fe1-4d0e-a9ba-c61c2e5f5b22 not found for run 416722b0-e4e9-4cc2-b285-7224aa4e1886. Treating as a root run.\n"
          ]
        },
        {
          "output_type": "stream",
          "name": "stdout",
          "text": [
            "\n",
            "\n",
            "\u001b[1m> Entering new AgentExecutor chain...\u001b[0m\n",
            "\u001b[32;1m\u001b[1;3mGreetings, Frank. How may I assist you today?\u001b[0m\n",
            "\n",
            "\u001b[1m> Finished chain.\u001b[0m\n"
          ]
        },
        {
          "output_type": "execute_result",
          "data": {
            "text/plain": [
              "{'input': \"Hello Commander Data! I'm Frank.\",\n",
              " 'chat_history': [],\n",
              " 'output': 'Greetings, Frank. How may I assist you today?'}"
            ]
          },
          "metadata": {},
          "execution_count": 13
        }
      ]
    },
    {
      "cell_type": "markdown",
      "source": [
        "See if Data can do math, using the math tool we gave him..."
      ],
      "metadata": {
        "id": "8MRufO9xk89A"
      }
    },
    {
      "cell_type": "code",
      "source": [
        "agent_with_chat_history.invoke(\n",
        "    {\"input\": \"What is ((2 * 8) ^2) ?\"},\n",
        "    # This is needed because in most real world scenarios, a session id is needed\n",
        "    # It isn't really used here because we are using a simple in memory ChatMessageHistory\n",
        "    config={\"configurable\": {\"session_id\": \"<foo>\"}},\n",
        ")"
      ],
      "metadata": {
        "colab": {
          "base_uri": "https://localhost:8080/"
        },
        "id": "OAFtcQrXjQzn",
        "outputId": "75856c8c-e1c7-4ffb-da22-881f8c3c79bf"
      },
      "execution_count": 14,
      "outputs": [
        {
          "output_type": "stream",
          "name": "stderr",
          "text": [
            "WARNING:langchain_core.tracers.base:Parent run 6ea2e948-d1c1-49b4-857b-8988bf6827e6 not found for run 542d0ce8-9e3b-428a-9de5-31a882b63a4f. Treating as a root run.\n"
          ]
        },
        {
          "output_type": "stream",
          "name": "stdout",
          "text": [
            "\n",
            "\n",
            "\u001b[1m> Entering new AgentExecutor chain...\u001b[0m\n",
            "\u001b[32;1m\u001b[1;3m\n",
            "Invoking: `Calculator` with `((2 * 8) ^ 2)`\n",
            "\n",
            "\n",
            "\u001b[0m\u001b[38;5;200m\u001b[1;3mAnswer: 256\u001b[0m\u001b[32;1m\u001b[1;3mThe result of ((2 * 8) ^ 2) is 256.\u001b[0m\n",
            "\n",
            "\u001b[1m> Finished chain.\u001b[0m\n"
          ]
        },
        {
          "output_type": "execute_result",
          "data": {
            "text/plain": [
              "{'input': 'What is ((2 * 8) ^2) ?',\n",
              " 'chat_history': [HumanMessage(content=\"Hello Commander Data! I'm Frank.\"),\n",
              "  AIMessage(content='Greetings, Frank. How may I assist you today?')],\n",
              " 'output': 'The result of ((2 * 8) ^ 2) is 256.'}"
            ]
          },
          "metadata": {},
          "execution_count": 14
        }
      ]
    },
    {
      "cell_type": "markdown",
      "source": [
        "Let's make sure Data can also use the retriever tool about all of his past lines:"
      ],
      "metadata": {
        "id": "Ej_uRQr3lAPm"
      }
    },
    {
      "cell_type": "code",
      "source": [
        "agent_with_chat_history.invoke(\n",
        "    {\"input\": \"Where were you created?\"},\n",
        "    # This is needed because in most real world scenarios, a session id is needed\n",
        "    # It isn't really used here because we are using a simple in memory ChatMessageHistory\n",
        "    config={\"configurable\": {\"session_id\": \"<foo>\"}},\n",
        ")"
      ],
      "metadata": {
        "colab": {
          "base_uri": "https://localhost:8080/"
        },
        "id": "Y2mwkREGj2Hw",
        "outputId": "4874f3b1-678e-4dbd-ad82-650e35fbf080"
      },
      "execution_count": 15,
      "outputs": [
        {
          "output_type": "stream",
          "name": "stderr",
          "text": [
            "WARNING:langchain_core.tracers.base:Parent run 5003fded-4a2e-4c85-8970-a2689ebe2c93 not found for run 8a4092c4-beee-4ebd-963f-30cb3401e9fb. Treating as a root run.\n"
          ]
        },
        {
          "output_type": "stream",
          "name": "stdout",
          "text": [
            "\n",
            "\n",
            "\u001b[1m> Entering new AgentExecutor chain...\u001b[0m\n",
            "\u001b[32;1m\u001b[1;3m\n",
            "Invoking: `data_lines` with `{'query': 'Where was Lt. Commander Data created?'}`\n",
            "\n",
            "\n",
            "\u001b[0m\u001b[36;1m\u001b[1;3mShall we begin? The true test of Klingon strength is to admit one's most profound feelings... while under extreme duress. Yes, sir. May I ask a question of a... personal nature, sir? Why have I not been assigned to command a ship in the fleet? You have commented on the lack of senior officers available for this mission. I believe that my twenty-six years of Starfleet service qualify me for such a post. However, if you do not believe the time has arrived for an android to command a starship, then perhaps I should address myself to improving---\n",
            "Thank you, Captain. I am Lieutenant Commander Data. By order of Starfleet, I hereby take command of this vessel. Please note the time and date in the ship's log. Computer, what is the status of the dilithium matrix? May I ask why? Your service record to date suggests that you would perform that function competently. Why?\n",
            "\n",
            "Hello. That is correct. I am an android. I am Lieutenant Commander Data of the Federation Starship Enterprise. Excellent. And who, precisely, is 'we?'\n",
            "My local informant does not know. In the early days survival on Tau Cygna Five was more important than history. Approximately fifteen thousand. Lieutenant Commander Data of the Starship Enterprise. My mission is to prepare this colony for evacuation. Because this planet belongs to the Sheliak. The term is plural. The Sheliak are an intelligent, non-humanoid life form, classification R-3 --\n",
            "But the original destination of the Artemis was Septimis Minor. Your accomplishments are indeed remarkable. However, the Sheliak and the Federation have a treaty that clearly makes this planet Sheliak domain. They have little regard for human life. Thus, our most sensible course is to prepare a contingency plan for the evacuation of your people. Perhaps I have not made myself clear.\n",
            "\n",
            "them why. Initiate the automated sequence for departure, lay in a course and speed to put maximum distance between the Enterprise and any inhabited planet. There is no time. Based on all the information presently available the decision is correct. This is Lieutenant Commander Data speaking for the captain -- abandon ship -- this is not a drill. Computer, where are the captain and Commander Riker? Curious. The captain is usually the last to leave. I hope we are the last. No. Are they not here on the Starbase? We have to beam back and get them. Which is the nearest Starfleet vessel? I know the Trieste. Too small, too slow. Where are the Bynars? Then they are obviously still aboard. Another Starfleet vessel must be sent to intercept the Enterprise at Bynaus. They might be taking the ship to their home planet. It is the best place for us to start. Do you think I am responsible? My station is on the bridge. You are wrong, Geordi, I can. I do not need rest or diversion -- I should not have\n",
            "\n",
            "lives. The Federation has had several dealings with him... Whom do you suggest we talk to, Ensign? Yessir. Computer, locate Ensign Ro. The tricorder is picking up molecular displacement traces... it suggests movement through this area during the last ten hours... Data to Picard... Data to Worf... Perhaps someone wanted to draw us into this conflict... Yes, Captain?\n",
            "\n",
            "I sincerely hope so. That was the 'stun' setting. I know that, but it is just a thing, and things can be replaced. Lives cannot. Live, rebuild and be remembered. Commander Data to Enterprise. I am preparing to leave Tau Cygna Five and await rendezvous instructions. Hello, Ard'rian. I would not have succeeded without your support and insight, and I appreciate your assistance. I am incapable of forgetting. I will remember every detail of my visit with perfect clarity. I do not understand.\n",
            "\n",
            "All stop. Full sensor sweep. Is it the mercenary ship? Agreed. Open a channel. I am Lieutenant Commander Data of the Federation Starship Enterprise. I take it that is your name? May I inquire as to your destination? May I ask the purpose of your journey? Perhaps I have not made our intentions clear... we are investigating a --\n",
            "\n",
            "Engineering -- this is Science One. I just observed what appeared to be a random energy transference. Possibly. An unexplained power fluctuation. Captain, this is a life-form. Not to allow it to develop naturally would deny us the opportunity to study it. Captain, the final manifest has been received. Aye sir. Worf -- assemble your security team in Sickbay. Yes -- captain's orders. Perhaps I could serve in that capacity. I can quickly review the procedures I will be required to execute. This is very interesting to me. Although I understand in technical terms how life is formed, there is still a part of the process which eludes my understanding. I began my existence as an adult. I have no memory -- no cognizance of conception, birth, childhood, so to be allowed to witness this event is... Doctor! It was remarkable. Thank you for allowing me to participate. Two hours, nineteen minutes. Data. My name. It is pronounced Data. You called me Data. One is my name and the other is not. It\n",
            "\n",
            "when necessary, sir. Sensors report the USS Hood closing on an intercept course at high warp. Sir, the Hood is slowing to impulse. Sir --\n",
            "My name is Data. Commander, Geordi... do you ever feel as if I am not 'there?' That is to say... not 'here.'\n",
            "Our destination is the Beta Stromgren system, following the path of the Vega Nine probe. That is correct, Commander. Apparently the probe has discovered... ...Astonishing. This is the star Beta Stromgren... Scientists have discovered that it is in the final stages of an alternating cycle of expansion and collapse, which will soon result in a supernova. However, the long-range unmanned probe which Starfleet sent to observe the process has discovered something much more --\n",
            "\n",
            "eight, Tango, one, eight, one, one, seven, one, Charlie, four, Victor, three... eight, eight, eight, zero, Foxtrot, six, one, five, three, three, five, nine, five, seven, lock. Computer, initiate cascade sequence, accepting instructions from Commander Data en route, now. Intersection Eight-J. Aft-port. Establish. Computer, begin scan-phase. Computer, three-meter cross-seal. I fail to recall how I arrived here. Data to Enterprise. Enterprise, do you read me? We were headed for a medical facility. I was taking the boy's brother to Sickbay and... I must find a way to contact the Enterprise. You do bear a resemblance to Doctor Noonian Soong, the cyberneticist who constructed me. But, Doctor Soong was killed shortly afterward by the Crystalline Entity. But the colony was destroyed, there were no survivors. It is really you.\n",
            "\n",
            "! Enterprise, we need help... And firing not on the new space station, but on the old Bandi city. Oh, you are early. Just a moment please. You may enter now. I have invited you here to meet someone. This is Lal. Lal, say hello to Counselor Deanna Troi... And this is Geordi La Forge and Wesley Crusher. It is the custom that we wear clothing. Yes, Wesley. Lal is my child. It has a positronic brain... one very similar to my own... I began to program it at the cybernetics conference... There was a new submicron matrix-transfer technology introduced at the conference which I discovered could be used to lay down complex neural net pathways... Exactly, Wesley. I realized for the very first time it was possible to continue Doctor Soong's work. My initial transfers have produced very encouraging results... so I brought Lal's brain back with me to continue. I have not observed anyone else on board consult with you about their procreation, Captain. The intention is the same. Lal's creation is\u001b[0m\u001b[32;1m\u001b[1;3mI was created by Doctor Noonien Soong on the planet Omicron Theta.\u001b[0m\n",
            "\n",
            "\u001b[1m> Finished chain.\u001b[0m\n"
          ]
        },
        {
          "output_type": "execute_result",
          "data": {
            "text/plain": [
              "{'input': 'Where were you created?',\n",
              " 'chat_history': [HumanMessage(content=\"Hello Commander Data! I'm Frank.\"),\n",
              "  AIMessage(content='Greetings, Frank. How may I assist you today?'),\n",
              "  HumanMessage(content='What is ((2 * 8) ^2) ?'),\n",
              "  AIMessage(content='The result of ((2 * 8) ^ 2) is 256.')],\n",
              " 'output': 'I was created by Doctor Noonien Soong on the planet Omicron Theta.'}"
            ]
          },
          "metadata": {},
          "execution_count": 15
        }
      ]
    },
    {
      "cell_type": "markdown",
      "source": [
        "Can Data talk about current events using the search tool? (Note, you may have to retry this block if the Tavily server times out.)"
      ],
      "metadata": {
        "id": "ClKl7-jglEbP"
      }
    },
    {
      "cell_type": "code",
      "source": [
        "agent_with_chat_history.invoke(\n",
        "    {\"input\": \"What is the top news story today?\"},\n",
        "    # This is needed because in most real world scenarios, a session id is needed\n",
        "    # It isn't really used here because we are using a simple in memory ChatMessageHistory\n",
        "    config={\"configurable\": {\"session_id\": \"<foo>\"}},\n",
        ")"
      ],
      "metadata": {
        "colab": {
          "base_uri": "https://localhost:8080/"
        },
        "id": "c53muYiHj9rP",
        "outputId": "dbb4a558-3abe-4434-9092-081146ec33f7"
      },
      "execution_count": 16,
      "outputs": [
        {
          "output_type": "stream",
          "name": "stderr",
          "text": [
            "WARNING:langchain_core.tracers.base:Parent run 5cc77e7b-b727-430f-9497-b7e4762094a5 not found for run 9f496fb7-ab2d-46db-8785-ba062ba65d96. Treating as a root run.\n"
          ]
        },
        {
          "output_type": "stream",
          "name": "stdout",
          "text": [
            "\n",
            "\n",
            "\u001b[1m> Entering new AgentExecutor chain...\u001b[0m\n",
            "\u001b[32;1m\u001b[1;3m\n",
            "Invoking: `Tavily` with `top news`\n",
            "\n",
            "\n",
            "\u001b[0m\u001b[33;1m\u001b[1;3m[{'url': 'https://apnews.com/', 'content': 'In a political shift to the far right, anti-Islam populist Geert Wilders wins big in Dutch election\\nEurope’s far-right populists buoyed by Wilders’ win in Netherlands, hoping the best is yet to come\\nDaniel Noboa is sworn in as Ecuador’s president, inheriting the leadership of a country on edge\\nOn the cusp of climate talks, UN chief Guterres visits crucial Antarctica\\nBUSINESS\\nOpenAI brings back Sam Altman as CEO just days after his firing unleashed chaos\\nThis week’s turmoil with ChatGPT-maker OpenAI has heightened trust concerns in the AI world\\nTo save the climate, the oil and gas sector must slash planet-warming operations, report says\\nArgentina’s labor leaders warn of resistance to President-elect Milei’s radical reforms\\nSCIENCE\\nPeru lost more than half of its glacier surface in just over half a century, scientists say\\nSearch is on for pipeline leak after as much as 1.1 million gallons of oil sullies Gulf of Mexico\\nNew hardiness zone map will help US gardeners keep pace with climate change\\nSpaceX launched its giant new rocket but explosions end the second test flight\\nLIFESTYLE\\nEdmunds picks the five best cars for under $30,000\\nFrance remains ‘le grand fromage’ in the European Union, and Camembert remains in a wooden box\\nHow to avoid the worst 4 hours of holiday travel\\nGet ahead this Thanksgiving by setting the table a day or two early\\nNow Playing\\nMovie Review: Emerald Fennell chronicles a promising young man in audacious, shock-filled ‘Saltburn’\\nMovie Review: Disney’s musical fairy tale ‘Wish’ is beautiful, but lacking magic\\nMovie Review: ‘Fallen Leaves’ is deadpan nirvana\\nReview: In Ridley Scott’s ‘Napoleon,’ the emperor has no clothes but plenty of ego\\nMovie Review: Emotional complexity, melodramatic wit and masterful acting in ‘May December’\\nMovie Review: Taika Waititi’s ‘Next Goal Wins’ is a sweet, frothy diversion but no knee slide\\nReview: The Hunger Games return in ‘The Ballad of Songbirds and Snakes,’ with the odds in its favor\\nMovie Review: Nicolas Cage finds fame to be highly overrated in chillingly funny ‘Dream Scenario’\\nMovie Review: Iman Vellani is a scene-stealer in low-stakes ‘The Marvels’\\nMovie Review: In David Fincher’s ‘The Killer,’ an assassin hides in plain sight\\nThe Protein Problem\\nHow ‘lab-grown’ meat cultivated from animal cells could offer another sustainable food option\\nPlant-based products haven’t converted US meat-eaters. The US has thwarted a plot to kill a Sikh separatist leader, an AP source says\\nNearly half of Americans think the US is spending too much on Ukraine aid, an AP-NORC poll says\\nBiden’s plan would raise salaries for Head Start teachers but could leave fewer spots for kids\\nEntertainment\\nThe ‘Oppenheimer’ creative team take you behind the scenes of the film’s key moments\\nWhat’s streaming now: ‘Oppenheimer,’ Adam Sandler as a lizard and celebs dancing to Taylor Swift\\nFill your holiday stocking with Cher, Ella Fitzgerald, Brandy, Andrea Bocelli and more\\nStudent Academy Awards — a launching pad into Hollywood — celebrate 50 years\\nSPORTS\\nBland, Prescott help Cowboys to 13th straight home win over Commanders on Thanksgiving\\nBlackhawks’ Taylor Hall is expected to miss the rest of the season with a right knee injury\\nLSU star Angel Reese has not been seen with the Tigers in the Cayman Islands\\nEddie Merrins, the ‘Little Pro’ who had an enormous influence on golf in LA, dies at 91\\nUS News\\nResidents of Kentucky town can return home after crews extinguish derailment fire\\nOfficials begin clearing debris while 3 remain missing in Alaska landslide that left 3 dead\\nOxyContin maker’s settlement plan divides victims of opioid crisis. When the battles stop, many fear it will remain uninhabitable\\nHundreds of German police raid properties of Hamas supporters in Berlin and across the country\\nHow the hostage deal came about: Negotiations stumbled, but persistence finally won out\\nPortraits of those held hostage after Hamas attack on Israel\\nDutch election winner Geert Wilders is an anti-Islam firebrand known as the Dutch Donald Trump\\nWoman alleges Jamie Foxx sexually assaulted her at New York bar, actor says it ‘never happened’\\nFBI ends investigation of car wreck at Niagara Falls bridge, no indication of terrorism\\nRetailers are ready to kick off Black Friday just as shoppers pull back on spending\\nMacy’s Thanksgiving Day Parade sends Snoopy and SpongeBob soaring as Cher entertains NYC\\nViolent clashes break out in Dublin after knife attack that injured 3 children, one seriously\\nNicaragua’s Miss Universe title win exposes deep political divide in the Central American country\\nSusan Sarandon and Melissa Barrera dropped from Hollywood companies after comments on Israel-Hamas war\\nSeveral more children sickened by fruit pouches tainted with lead, FDA says\\nLatest videos\\nPhiladelphia marks Thanksgiving with parade\\nPhiladelphia held its annual Thanksgiving Day parade on Thursday. Florida Atlantic defeats Butler 91-86\\nBroncos nickel back Ja’Quan McMillian is making a name for himself even if it’s being mispronounced\\nSt. Rose scores 26, Princeton rolls to a 77-63 win over No. 22 Oklahoma women in Florida\\nFormer St. Louis alderman in fraud case also charged with lying to police\\nBrazilian police bust international drug mule ring in Sao Paulo\\nNorris scores 20, Loyola Chicago closes on 14-2 run to beat Boston College 71-68\\nBusiness Highlights: Retailers prepare for Black Friday; world stocks mixed\\nNew Mexico Supreme Court reprimands judge who advised prosecutors in case involving his daughter\\nNo. 3 Colorado holds off Cincinnati 77-60 to open Paradise Jam tournament\\nThursday’s Transactions\\nIsaacs banks in go-ahead shot with 0.8 seconds left and Texas Tech beats UNI in Battle 4 Atlantis\\nColeman has 24 points, No. 12 Texas A&M beats Penn State 89-77 in ESPN Events Invitational\\nWest Africa responds to huge diphtheria outbreaks by targeting unvaccinated populations\\n This rancher thinks she can change that\\nWhat pastoralists in Senegal and Mongolia can teach us about adapting to a changing environment\\nSaving Brazil’s rainforest starts with helping people and businesses make a living off cleared land\\nMore from the project\\nGardening\\nA dozen fresh-picked holiday gift ideas for gardeners\\nIf it seems like there are a lot of acorns this fall, you might be seeing a ‘mast’ year\\nA slow transition to winter keeps houseplants healthy\\nThere’s a movement to ‘leave the leaves’ in gardens and lawns.'}, {'url': 'https://www.foxnews.com/', 'content': \"Here's how we start\\nBefore there was Veterans Day, there was Armistice Day\\nOn this day in history, November 11, 1921, Tomb of Unknown Soldier is dedicated at Arlington National Cemetery\\nMilitary\\nIsrael's use of AI in Hamas war can help limit collateral damage 'if executed properly,' expert says\\nBrothels that allegedly hosted political, military leaders raked in 'astounding' amounts of money: prosecutors\\nIndiana WWII soldier's remains identified after nearly 80 years\\nIran celebrates new hypersonic missile amid new threats by its proxies against US, allies\\nEntertainment\\n‘Golden Bachelor’ star details ‘first-ever’ STD test to qualify for show: ‘A little bit of a tender moment’\\nParis Hilton's Thanksgiving surprise: star welcomes baby girl less than a year after arrival of son\\nBruce Willis holds family tight during Thanksgiving while battling dementia\\nBrigitte Nielsen 'never' thinks about ex Sylvester Stallone: 'What was his name again?'\\nSports\\nDolphins' Jevon Holland rips stadium's 'trash' turf after Jaelan Phillips suffered apparent Achilles injury\\nAngel Reese's absence continues; star forward misses third straight LSU game\\nBartolo Colon, Robinson Cano among several former MLB stars to play in Dubai baseball league's first contest\\nDolphins' Jevon Holland closes out first half of Black Friday game with 99-yard pick-six\\nU.S.\\nFlight descends into chaos when 'possessed' woman begins screaming, jumping over seats: 'There's a real devil'\\nDerek Chauvin stabbed by inmate in federal prison, seriously injured: report\\nPhiladelphia warehouse worker dies after falling down elevator shaft: police\\nTexas cheer coach, mother to 3 kids, allegedly killed by boyfriend: 'Truly be missed'\\nFamily\\nBruce Willis holds family tight during Thanksgiving while battling dementia\\nGratitude's gifts go well beyond Thanksgiving: 'Greater motivator than worry or fear'\\nSen Marsha Blackburn on Thanksgiving blessings, including family, food, country: 'Time to express gratitude'\\nYoung Americans are skipping family gatherings to avoid political disagreements: Survey\\nPersonal Finance\\n5 ways to save money and boost your income this Black Friday\\nFlorida mom proves families on a tight budget can cook healthy meals\\nWarren Buffett donates Thanksgiving millions, praises USA\\nThis week's personal loan rates rise for 3- and 5-year loans\\nTechnology\\nStep into this pod that uses AI to diagnose and treat you in minutes\\nBeware of these 5 holiday scams\\nHow to remove unwanted photos invading your Facebook page\\nHow to take great family photos and include yourself in them\\nMovies\\nMarrakech kicks off film festival in the shadow of war in the Middle East\\nBruce Willis holds family tight during Thanksgiving while battling dementia\\nA new 'Karate Kid’ film is in the works: Here is a look back at the franchise's movies and spinoffs\\nDanica McKellar shares how husband is 'everything I ever dreamed of'\\nBusiness\\nBlack Friday, holiday shopping season off to a strong start\\nRoomba parent shares surge as Amazon deal nears: report\\nElon Musk to visit Israel, meet Netanyahu amid antisemitism claims: report\\nElon Musk’s social-media comments spark Tesla investor backlash\\nFaith & Values\\nGratitude's gifts go well beyond Thanksgiving: 'Greater motivator than worry or fear'\\nBe thankful for problems: There are good reasons you should\\n5 things to be grateful for even when the world is falling apart\\nPresident Lincoln's Thanksgiving proclamation proved the power of gratitude when life gives us hardship\\nAutos\\nHow rare earth elements factor into the clean energy transition\\nNew Jersey banning sale of new gasoline-powered vehicles by 2035\\nFord dramatically scales back EV plant amid plummeting sales in blow to Biden's green energy goals\\nMaryland students fatally struck by van on way to school identified: police\\nTravel + Outdoors\\nFlight descends into chaos when 'possessed' woman begins screaming, jumping over seats: 'There's a real devil'\\nAngel Reese's absence continues; star forward misses third straight LSU game\\nVenice rolls out day-tripper fee to try to regulate mass crowds on peak weekends\\n Thanksgiving clickjacking threat in popular browsers\\n5 things to be grateful for even when the world is falling apart\\nWorld\\nRace to rescue 41 Indian workers trapped inside tunnel is delayed again\\nHamas releases 13 Israeli hostages, 11 others as cease-fire holds\\n34 arrested in Ireland riots after child is stabbed in Dublin\\nProtesters target AIPAC president's home with 'baby killer' accusations, red paint\\nOpinion\\nTeam Biden's war on cigarettes will only end in tears\\nThis Black Friday, be a financially smart consumer and reap real rewards\\nBe thankful for problems: There are good reasons you should\\nHere's why every American should be talking about politics and religion on Thanksgiving\\nHealth\\nTaking selfies is now considered a 'public health problem,' requires 'safety messaging,' say researchers\\nExperimental weight loss drug could help treat fatty liver disease in people with obesity, study finds\\nColorado cardiac nurse, after three heart attacks, offers survival tips: ‘Listen to your gut’\\nIllinois virus outbreak linked to dollar burrito event for Northwestern University students\\nCrime\\nFlight descends into chaos when 'possessed' woman begins screaming, jumping over seats: 'There's a real devil'\\nDerek Chauvin stabbed by inmate in federal prison, seriously injured: report\\nSuspect dead after officer-involved shooting outside Salem, Oregon\\nTexas cheer coach, mother to 3 kids, allegedly killed by boyfriend: 'Truly be missed'\\nAmerica Together\\n5 things to be grateful for even when the world is falling apart\\nIt’s time to revive the American spirit. Taking selfies is now considered a 'public health problem,' requires 'safety messaging,' say researchers\\nMusic\\nThank Taylor Swift this year for bringing jobs and joy, WSJ columnist says: 'Person of the Year'\\nTony Bennett's daughter prepares for first Thanksgiving since his death: 'Never look back'\\nBarry Williams, Danica McKellar share their plans for Thanksgiving: 'I need a minute to reset'\\nAxl Rose accused of violent sexual assault by former model in 1989: lawsuit\\nFood + Drink\\nAir fryer turkey dinner for 2: Try the recipe\\nSimplify your Thanksgiving spread with these 1-pan side dish delights\\nHow to make a spooky Halloween charcuterie board complete with prop skull\\nKing’s Hawaiian 'Slider Sunday' recipes are perfect for the whole family\\nFOX Weather\\nSnowstorm, bitter blast of cold air expected to slow Thanksgiving return travel through Rockies, Plains\\nTropics to begin cooling down as end of hurricane season nears\\nPost-Thanksgiving travel timeline: Where weather across the US could impact flights, roads through the weekend\\nIceland volcanic activity continues to wane, reducing Grindavik eruption threat\\nGood News\\nArizona grandma and man she mistakenly texted in 2016 host 8th Thanksgiving with new stranger\\nGratitude's gifts go well beyond Thanksgiving: 'Greater motivator than worry or fear'\\nTim Tebow and Demi-Leigh Tebow share Thanksgiving message of gratitude, plus new charity partnership\\nSen Marsha Blackburn on Thanksgiving blessings, including family, food, country: 'Time to express gratitude'\\nFull Episodes\\nOutnumbered - Friday, November 24\\nThe Ingraham Angle - Thursday, November 23\\nGutfeld! - Derek Chauvin, ex-cop convicted of killing George Floyd, reportedly stabbed in federal facility\\nBiden’s Dem challenger goes all-in on campaign for ’24 nod — and stakes career on winning\\n13 Israelis taken hostage by Hamas, including 2-year-old, are released in first part of deal\\nVP Harris immediately hit with backlash on social media over Thanksgiving photo post\\n4 big-box stores offering the best discounts on Black Friday — and through the holidays\\nWATCH: Jets player booted from game after hitting referee as frustrations boil over\\nBBC reportedly sends staff instructions about major march against antisemitism\\nWATCH: Flight descends into chaos when ‘possessed’ woman goes on rampage\\nNBA star reportedly under investigation over alleged relationship with minor\\nBruce Willis holds family tight over the holidays as health battle takes toll\\nFox News Channel\\nPay TV Login Required\\nFox Business Channel\\nPay TV Login Required\\nFox Nation\\nSubscription Required\\nFOX Weather\\nFree to Watch\\nFox Radio\\nFree to Listen\\nLSU women's basketball team evacuates gym because of fire alarm\\nWatch Who is Hamas? Former college president slams administrators for allowing antisemitism to only get worse\\nNFL team reacts quickly to blowout Thanksgiving Day loss\\n77-year-old icon's outfit for Cowboys halftime show sparks wild reactions online\\nAnti-Israel protesters disrupt Black Friday shopping to call for Palestinian uprising\\nColorado ski resort jumps to number one on list of best places to hit the slopes\\n'Special Report' spotlight: China adds massive amounts to oil inventories\\nCities plagued by migrant crisis taking drastic steps to deter overflow\\nSylvester Stallone’s ex-wife dishes on their rocky romance that led to divorce\\nOscar winner suffers eye-popping wardrobe malfunction during ritzy event speech\\nTHANKSGIVING FOOD\\nThanksgiving leftovers: Turkey cranberry sliders that are 'savory' and 'tart'\\nThanksgiving meals will yield plenty of leftovers, so how do you store them safely?\\nCelebrity chef reveals best way to use those Thanksgiving leftovers\\nWoman preps Christmas dinner months in advance for free\\nResearchers sound the alarm on taking selfies, consider it a ‘public health concern’\\n\"}, {'url': 'https://www.nbcnews.com/', 'content': \"judge asks in granting bail\\nAsian America\\nBrooklyn woman arrested after allegedly throwing hot coffee at a man in a Palestinian scarf\\nU.S. news\\nMichigan police make arrest in the disappearance of a woman missing since 2021\\nAsian America\\nBrooklyn woman arrested after allegedly throwing hot coffee at a man in a Palestinian scarf\\nU.S. news\\nMichigan police make arrest in the disappearance of a woman missing since 2021\\nHealth\\nHealth news\\nMysterious dog respiratory illness may be caused by a new type of bacterial infection, researchers say\\nCoronavirus\\nFour more free Covid tests will be available to U.S. households\\nHealth news\\nThis type of belly fat is linked to increased risk of Alzheimer's, research finds\\nHealth news\\nNew weight loss drugs change how people think of Thanksgiving and other holiday meals\\nHealth news\\nDeadly listeria outbreak linked to whole peaches, nectarines and plums\\nHealth news\\nNew weight loss drugs change how people think of Thanksgiving and other holiday meals\\nHealth news\\nDeadly listeria outbreak linked to whole peaches, nectarines and plums\\nPop culture\\nCulture & Trends\\nComedian Matt Rife responds to Netflix special backlash with link to ‘special needs helmets’\\nU.S. news\\nA stampede, shooting and bodyguard brawls: How Sean Combs' legal troubles have played out\\nOUT News\\nAntoni Porowski and fiancé Kevin Harrington split 1 year after getting engaged\\nAsian America\\nGroom secretly learned Korean for over a year to surprise wife and family at wedding\\nCulture & Trends\\n'We just had to do it': Bradley Cooper speaks out about prosthetic nose controversy in 'Maestro'\\nAsian America\\nGroom secretly learned Korean for over a year to surprise wife and family at wedding\\nCulture & Trends\\n'We just had to do it': Bradley Cooper speaks out about prosthetic nose controversy in 'Maestro'\\nBusiness, Tech & Media\\nEXCLUSIVE\\nDiageo cites Diddy rape claims in renewed push to keep him out of tequila ads\\n#MeToo Reckoning\\nDiddy’s companies named in suit accusing an ex-Bad Boy president of sexual assault\\nTech News\\nWith X under fire, Elon Musk digs in and finds support from conservatives\\nTech News\\nSam Altman returns as OpenAI CEO after days of infighting at AI startup\\nU.S. news\\nHow Formula One accidentally helped Las Vegas workers land the 'best contract ever'\\nTech News\\nSam Altman returns as OpenAI CEO after days of infighting at AI startup\\nU.S. news\\nHow Formula One accidentally helped Las Vegas workers land the 'best contract ever'\\nNBC OUT\\nOUT News\\nAntoni Porowski and fiancé Kevin Harrington split 1 year after getting engaged\\nOUT Pop Culture\\nIn 'The Dads,' men bond over fishing and their love for their transgender kids\\nOUT Politics and Policy\\nTeachers and students grapple with fears and confusion about new laws restricting pronoun use\\nGay bar druggings\\nVictims of the deadly druggings that terrorized NYC's gay bars are haunted by unknowns\\nAsian America\\nCulture & Trends\\nNetflix’s ‘Squid Game: The Challenge’ turns dystopian drama into real-life competition — minus the death\\nAsian America\\nThanksgiving fusion dishes have become a way for Asian Americans to share their cultures with others\\nImmigration\\nMore asylum claims, illegal crossings along U.S.-Canada border, despite the dangers\\nAsian America\\nBrooklyn woman arrested after allegedly throwing hot coffee at a man in a Palestinian scarf\\nNBCBLK\\nNBCBLK\\n Profile\\nSections\\ntv\\nFeatured\\nMore From NBC\\nFollow NBC News\\nnews Alerts\\nThere are no new alerts at this time\\nHostage release and Gaza truce to start Friday, Qatar says\\nLIVEAl-Shifa Hospital director arrested by Israeli forces\\nLIVEAl-Shifa Hospital director arrested by Israeli forces\\nHostage deal exposes tensions between Israel’s far-right and hostage families\\nGazans welcome deal to pause fighting but dread what may come afterward\\nFringe proposal to displace Palestinians draws condemnation and triggers past trauma\\nOne of the only places that can claim to host the First Thanksgiving rejects the label\\nOne of the only places that can claim to host the First Thanksgiving rejects the label\\nNew York City Mayor Eric Adams accused of sexually assaulting a colleague in 1993\\nNew York City Mayor Eric Adams accused of sexually assaulting a colleague in 1993\\nSean 'Diddy' Combs accused of drugging, sexually assaulting woman when she was in college\\nSean 'Diddy' Combs accused of drugging, sexually assaulting woman when she was in college\\nNetflix’s ‘Squid Game: The Challenge’ turns dystopian drama into real-life competition — minus the death\\nChinese hospitals ‘overwhelmed with sick children’ after surge in respiratory illness\\nChinese hospitals ‘overwhelmed with sick children’ after surge in respiratory illness\\nFor teen girls victimized by ‘deepfake’ nude photos, there are few pathways to recourse\\nFor teen girls victimized by ‘deepfake’ nude photos, there are few pathways to recourse\\nTrump rages about judge and law clerk while gag order is paused in New York fraud trial\\nTrump rages about judge and law clerk while gag order is paused in New York fraud trial\\nLong-awaited hostage deal set to move ahead\\nLong-awaited hostage deal set to move ahead\\nBlack Friday\\nThe best Black Friday deals on Amazon\\nBlack Friday\\nThe best early Black Friday deals to shop right now\\nLuggage\\n8 highly rated work totes for commuting with ease\\nBlack Friday\\nThe best Black Friday deals at Target to shop right now\\nBlack Friday\\nThe best Walmart Black Friday deals to shop right now\\n The best Walmart Black Friday deals to shop right now\\nCaptives of Cannabis Part II: Mass Murder, Migrants & Money Laundering\\nLatest News\\nHead of security for sons of 'El Chapo' arrested in Mexico, sought for extradition\\nAlabama priest who fled to Italy with teen he later married is expected to be defrocked\\nSean 'Diddy' Combs accused of drugging, sexually assaulting woman when she was in college\\nHostage deal exposes tensions between Israel’s far-right and hostage families\\nNew York City Mayor Eric Adams accused of sexually assaulting a colleague in 1993\\n'Stop the rancor': Biden calls for national unity on Thanksgiving Day\\nTrump rages about judge and law clerk while gag order is paused in New York fraud trial\\nBatting cage accident at Georgia high school leaves a player in a coma\\nChinese hospitals ‘overwhelmed with sick children’ after surge in respiratory illness\\nNetflix’s ‘Squid Game: The Challenge’ turns dystopian drama into real-life competition — minus the death\\nFor teen girls victimized by ‘deepfake’ nude photos, there are few pathways to recourse\\nAs holiday shopping begins, Black business owners hope shoppers don’t forget them\\nGerman police raid homes of far-right Reich Citizens group\\nMacy’s Thanksgiving Day Parade recap: All the floats, performances and more\\nOne of the only places that can claim to host the First Thanksgiving rejects the label\\nThis Afro Latina actor touts the power behind journaling\\nThanksgiving travelers told to 'be nice' as all-time passenger record set to be broken\\nSmall Kentucky town urged to evacuate after train derails, spilling chemicals\\nIn a shock for Europe, anti-Islam populist Geert Wilders records a massive win in Dutch elections\\nGaza hostage release and truce to start Friday, Qatar says\\nUC Berkeley men's basketball player confronts fan who allegedly called him a 'terrorist'\\nAustralia has too many sheep — and farmers are giving them away for free\\nCharleston, South Carolina, elects its first Republican mayor since Reconstruction Era\\nNorth Korea says it is suspending military pact with South\\nBiden and Harris to attend services for Rosalynn Carter in Georgia\\nWhat causes skin to itch? Remembering Rosalynn Carter, former first lady and tireless humanitarian\\nTop videos\\nNightly News\\nLong-awaited hostage deal set to move ahead\\nNightly News\\nIsraeli military arrests Al-Shifa Hospital director, 200 patients too sick to evacuate\\nNightly News\\nAuthorities looking into airline incidents amid Thanksgiving travel rush\\nNightly News\\nFormer Obama advisor caught on video berating NYC street vendor\\nMost popular\\nTrump investigations\\n'Deluge' of threats against judge and law clerk in Trump’s civil fraud trial are detailed in new court filing\\nCelebrity\\nCuba Gooding Jr. faces 2 sexual assault lawsuits in New York\\nU.S. news\\nHusband charged with murder more than two years after his wife vanished in Michigan\\nLive Updates\\nMacy’s As holiday shopping begins, Black business owners hope shoppers don’t forget them\\n#MeToo Reckoning\\nDiddy’s companies named in suit accusing an ex-Bad Boy president of sexual assault\\nNBCBLK\\nAlabama A&M will lead bands in Macy’s Thanksgiving Day Parade\\nNBCBLK\\nNFL disability program leaves retired Saints tight end hurting and angry\\nLatino\\nLatino\\nBrazilian officials investigating company behind Taylor Swift shows in Rio de Janeiro after fan's death\\nCulture & Trends\\nThis Afro Latina actor touts the power behind journaling\\nCulture & Trends\\nPuerto Ricans are pushing to make these unique slang words officially Spanish\\nImmigration\\nMore asylum claims, illegal crossings along U.S.-Canada border, despite the dangers\\nYour personalized news, including saved and local stories\\nAccess these features with your free account.\\n\"}, {'url': 'https://www.cnn.com/', 'content': '4 hours ago — 4 hours agoView the latest news and breaking news today for U.S., world, weather, entertainment, politics and health at CNN.com.'}]\u001b[0m\u001b[32;1m\u001b[1;3mThe top news story today includes a political shift to the far right in the Netherlands, with anti-Islam populist Geert Wilders winning big in the Dutch election. Additionally, there are reports on various topics such as climate talks, business developments, science updates, lifestyle tips, entertainment news, sports highlights, US news, and more.\u001b[0m\n",
            "\n",
            "\u001b[1m> Finished chain.\u001b[0m\n"
          ]
        },
        {
          "output_type": "execute_result",
          "data": {
            "text/plain": [
              "{'input': 'What is the top news story today?',\n",
              " 'chat_history': [HumanMessage(content=\"Hello Commander Data! I'm Frank.\"),\n",
              "  AIMessage(content='Greetings, Frank. How may I assist you today?'),\n",
              "  HumanMessage(content='What is ((2 * 8) ^2) ?'),\n",
              "  AIMessage(content='The result of ((2 * 8) ^ 2) is 256.'),\n",
              "  HumanMessage(content='Where were you created?'),\n",
              "  AIMessage(content='I was created by Doctor Noonien Soong on the planet Omicron Theta.')],\n",
              " 'output': 'The top news story today includes a political shift to the far right in the Netherlands, with anti-Islam populist Geert Wilders winning big in the Dutch election. Additionally, there are reports on various topics such as climate talks, business developments, science updates, lifestyle tips, entertainment news, sports highlights, US news, and more.'}"
            ]
          },
          "metadata": {},
          "execution_count": 16
        }
      ]
    },
    {
      "cell_type": "markdown",
      "source": [
        "Finally, let's make sure Data's short term memory is intact, using the chat history we gave him:"
      ],
      "metadata": {
        "id": "rmkcQX0IlLQg"
      }
    },
    {
      "cell_type": "code",
      "source": [
        "agent_with_chat_history.invoke(\n",
        "    {\"input\": \"What math question did I ask you about earlier?\"},\n",
        "    # This is needed because in most real world scenarios, a session id is needed\n",
        "    # It isn't really used here because we are using a simple in memory ChatMessageHistory\n",
        "    config={\"configurable\": {\"session_id\": \"<foo>\"}},\n",
        ")"
      ],
      "metadata": {
        "colab": {
          "base_uri": "https://localhost:8080/"
        },
        "id": "1D35bIWLkF2X",
        "outputId": "fb4b5fea-5ea3-4fd8-c6d9-fcf65e7ad69d"
      },
      "execution_count": 17,
      "outputs": [
        {
          "output_type": "stream",
          "name": "stderr",
          "text": [
            "WARNING:langchain_core.tracers.base:Parent run 11dbd4fb-d837-4aba-9f60-7c68cdee5977 not found for run e66dbd83-17fd-4222-916f-8dd0ad7ec3c1. Treating as a root run.\n"
          ]
        },
        {
          "output_type": "stream",
          "name": "stdout",
          "text": [
            "\n",
            "\n",
            "\u001b[1m> Entering new AgentExecutor chain...\u001b[0m\n",
            "\u001b[32;1m\u001b[1;3mYou asked me to calculate ((2 * 8) ^ 2), which resulted in 256.\u001b[0m\n",
            "\n",
            "\u001b[1m> Finished chain.\u001b[0m\n"
          ]
        },
        {
          "output_type": "execute_result",
          "data": {
            "text/plain": [
              "{'input': 'What math question did I ask you about earlier?',\n",
              " 'chat_history': [HumanMessage(content=\"Hello Commander Data! I'm Frank.\"),\n",
              "  AIMessage(content='Greetings, Frank. How may I assist you today?'),\n",
              "  HumanMessage(content='What is ((2 * 8) ^2) ?'),\n",
              "  AIMessage(content='The result of ((2 * 8) ^ 2) is 256.'),\n",
              "  HumanMessage(content='Where were you created?'),\n",
              "  AIMessage(content='I was created by Doctor Noonien Soong on the planet Omicron Theta.'),\n",
              "  HumanMessage(content='What is the top news story today?'),\n",
              "  AIMessage(content='The top news story today includes a political shift to the far right in the Netherlands, with anti-Islam populist Geert Wilders winning big in the Dutch election. Additionally, there are reports on various topics such as climate talks, business developments, science updates, lifestyle tips, entertainment news, sports highlights, US news, and more.')],\n",
              " 'output': 'You asked me to calculate ((2 * 8) ^ 2), which resulted in 256.'}"
            ]
          },
          "metadata": {},
          "execution_count": 17
        }
      ]
    },
    {
      "cell_type": "markdown",
      "source": [
        "Just for fun... (if you know, you know.)"
      ],
      "metadata": {
        "id": "5YL-gABDlSz3"
      }
    },
    {
      "cell_type": "code",
      "source": [
        "agent_with_chat_history.invoke(\n",
        "    {\"input\": \"How do you feel about Tasha Yar?\"},\n",
        "    # This is needed because in most real world scenarios, a session id is needed\n",
        "    # It isn't really used here because we are using a simple in memory ChatMessageHistory\n",
        "    config={\"configurable\": {\"session_id\": \"<foo>\"}},\n",
        ")"
      ],
      "metadata": {
        "colab": {
          "base_uri": "https://localhost:8080/"
        },
        "id": "GANigpyXkezO",
        "outputId": "82c9ceca-1256-4347-b954-cbc5f2ffa0a6"
      },
      "execution_count": 18,
      "outputs": [
        {
          "output_type": "stream",
          "name": "stderr",
          "text": [
            "WARNING:langchain_core.tracers.base:Parent run 13d0f437-67a6-426b-aa7d-af1984569b00 not found for run 2b14ab7f-49f8-440d-b136-f8955e172675. Treating as a root run.\n"
          ]
        },
        {
          "output_type": "stream",
          "name": "stdout",
          "text": [
            "\n",
            "\n",
            "\u001b[1m> Entering new AgentExecutor chain...\u001b[0m\n",
            "\u001b[32;1m\u001b[1;3m\n",
            "Invoking: `data_lines` with `{'query': 'Tasha Yar'}`\n",
            "\n",
            "\n",
            "\u001b[0m\u001b[36;1m\u001b[1;3mof your sister. A sensing device on the escape pod. It monitors the bio-electric signatures of the crew. In the event they get separated from the pod. She would have to be armed, Commander. Tasha exists in our memories as well. Lieutenant Yar was killed on Vagra Two by a malevolent entity. No... she was killed as a demonstration of the creature's power. Without provocation.\n",
            "\n",
            "all but destroyed. Sensors show that the colonists now live in structures that extend nearly three kilometers beneath the city. The dispersion trail continues in this direction. The concentration gradient definitely increases along this vector. The escape pod was apparently moved into the tunnels ahead of us. A former crewmember was born here. She was killed in the line of duty. Welcome to the Enterprise, Ishara. I am Commander Data. I am an android. On what do you base that assumption? The Enterprise is not a ship of war. It is a ship of exploration. My orders are to escort you to the Observation Lounge. We will proceed from there. Your sister never spoke of you. It is surprising to me. Tasha and I spent much time together in the course of our duties. We had a considerable number of conversations. Only to say that she was lucky to have escaped. 'Cowardice' is a term that I have never heard applied to Tasha. No. It is just that for a moment, the expression on your face was reminiscent\n",
            "\n",
            "No. You will just move it again. I will not help you hurt him. Enterprise, ARMUS has enveloped and attacked Commander Riker. I would guess that death is no longer sufficient entertainment to alleviate its boredom. Therefore, Commander Riker is alive. I have no control over what you do with the phaser. Therefore, I would not be the instrument of his death. It feels -- curious. You are capable of great sadism and cruelty. Interesting. No redeeming qualities. I think you should be destroyed. Why? Sir, the purpose of this gathering has eluded me. My thoughts are not for Tasha, but for myself. I keep thinking how empty it will feel without her presence. I missed the point. Sir, we put Mister Kosinski's specs into the computer and ran a controlled test on them. There was no improvement in engine performance. It is off the scale, sir... Captain, no one has ever reversed engines at this velocity. A malfunction...\n",
            "\n",
            "in two hundred and nineteen fatalities over a three- year period. Negative, Commander. The Talarians employ a subspace proximity detonator. It would not be detectable to our scans... By matching DNA gene types, Starfleet was able to identify the young man as Jeremiah Rossa... She is his grandmother, Captain. He was born fourteen years ago on the Federation Colony, Galen Four. His parents, Connor and Moira Rossa, were killed in a border skirmish three years, nine months later when the colony was overrun by Talarian forces. The child was listed as missing and presumed dead. The Talarians are a rigidly patriarchical society. Q'maire at station, holding steady at bearing zero-one-three, mark zero-one-five. Distance five-zero-six kilometers.\n",
            "\n",
            "Lieutenant Yar? Captain Picard ordered me to escort you to Sickbay, Lieutenant. I am sure he meant 'now.'  So you need time to get into uniform... Chronological age? No, I am afraid I am not conversant with your ---\n",
            "I am sorry. I did not know... Of course, but... In every way, of course. I have been programmed in multiple techniques, a broad variety of pleasuring... Fully, Captain, fully. We are more alike than unlike, my dear captain. I have pores. Humans have pores. I have fingerprints. Humans have fingerprints. My chemical nutrients are like your blood. If you prick me, do I not leak? Nice to see you, Wesley. What...\n",
            "\n",
            "Sir? I will signal for immediate beam out. Sarjenka, wait! Do not be afraid. I am Data. There is no time for explanations. You and your family must leave. Then why are you here? Yes, well, I am sorry about that, but it is very complicated -- Does your family know where you are? You cannot survive in this. Enterprise, two to beam up. Yes. Where is Commander Riker? To the bridge. Leave her here? Quite impossible. She was frightened and did not want to be left alone\n",
            "Captain, I will not allow her to be in the way. Counselor, allow me.\n",
            "\n",
            "I am certain you could. There are many things in life which we desire but will never receive. This is one of them. Sarjenka, this is Doctor Pulaski. It does not sing for me. Because I am a machine. But are we doing a good thing now? By robbing her of her memories? I came to thank you. You did not have to hold that conference. Your decision could have been unilateral. I am going to miss her, Captain. Yes, sir. We will be within transporter range in three minutes twenty-one seconds. Negative, Captain. Sensors are unable to find them within transporter range. Aye, sir.\n",
            "\n",
            "What is this structure? The Tactical Station -- where Lieutenant Worf is now. Yes. She was especially close to Commander Riker and Lieutenant Worf. And to myself.\n",
            "\n",
            "weak. But now I can be everything you've ever wanted. I'll be back. Wait for me. Well hello there. You all look like you could use a little vacation. Captain Picard -- I have ordered your people to vacate the bridge and they have refused. In an effort to save insignificant lives I will give you the opportunity to issue the same order. Otherwise, I will remove them my way. Geordi? He's no friend of mine! I should kill him on the spot -- put him out of his blind misery. I'll blast anyone who attempts to reenter. Maybe I should shoot one in the back just to let you know I mean business. Kareen?\n",
            "\n",
            "As you wish... I would like to cash out, please. Ancient philosophical overtones of thought process... 'Zen', I believe --\n",
            "Judging a being by its physical appearance is the last great human prejudice, Wesley. Captain, we are now receiving Starfleet orders granting a Lwaxana.... ... full ambassadorial status, sir. And yours too, Commander. She is listed as representing the Betazed government at the conference. I would have thought a telepath would be more discreet. Our orders on her mentioned nothing specific except... We are to cooperate with her as fully as possible, deliver her there untroubled, rested... I assume those were merely courtesies due her rank, sir. Inquiry, Commander: to which dinner was the captain referring?\u001b[0m\u001b[32;1m\u001b[1;3mI have provided information about Tasha Yar, including her background, experiences, and interactions with various crew members. If you have any specific questions or topics you would like to discuss further regarding Tasha Yar, please feel free to ask.\u001b[0m\n",
            "\n",
            "\u001b[1m> Finished chain.\u001b[0m\n"
          ]
        },
        {
          "output_type": "execute_result",
          "data": {
            "text/plain": [
              "{'input': 'How do you feel about Tasha Yar?',\n",
              " 'chat_history': [HumanMessage(content=\"Hello Commander Data! I'm Frank.\"),\n",
              "  AIMessage(content='Greetings, Frank. How may I assist you today?'),\n",
              "  HumanMessage(content='What is ((2 * 8) ^2) ?'),\n",
              "  AIMessage(content='The result of ((2 * 8) ^ 2) is 256.'),\n",
              "  HumanMessage(content='Where were you created?'),\n",
              "  AIMessage(content='I was created by Doctor Noonien Soong on the planet Omicron Theta.'),\n",
              "  HumanMessage(content='What is the top news story today?'),\n",
              "  AIMessage(content='The top news story today includes a political shift to the far right in the Netherlands, with anti-Islam populist Geert Wilders winning big in the Dutch election. Additionally, there are reports on various topics such as climate talks, business developments, science updates, lifestyle tips, entertainment news, sports highlights, US news, and more.'),\n",
              "  HumanMessage(content='What math question did I ask you about earlier?'),\n",
              "  AIMessage(content='You asked me to calculate ((2 * 8) ^ 2), which resulted in 256.')],\n",
              " 'output': 'I have provided information about Tasha Yar, including her background, experiences, and interactions with various crew members. If you have any specific questions or topics you would like to discuss further regarding Tasha Yar, please feel free to ask.'}"
            ]
          },
          "metadata": {},
          "execution_count": 18
        }
      ]
    },
    {
      "cell_type": "markdown",
      "source": [
        "Oh right, Data doesn't have feelings..."
      ],
      "metadata": {
        "id": "fSPlvFxnnIHG"
      }
    }
  ]
}