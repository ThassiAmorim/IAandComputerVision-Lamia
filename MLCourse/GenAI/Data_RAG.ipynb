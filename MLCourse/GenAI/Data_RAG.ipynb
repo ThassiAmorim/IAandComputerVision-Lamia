{
  "nbformat": 4,
  "nbformat_minor": 0,
  "metadata": {
    "colab": {
      "provenance": []
    },
    "kernelspec": {
      "name": "python3",
      "display_name": "Python 3"
    },
    "language_info": {
      "name": "python"
    }
  },
  "cells": [
    {
      "cell_type": "markdown",
      "source": [
        "Instead of using fine-tuning, we'll use RAG to build our own \"Commander Data\" based on everything he ever said in the scripts.\n",
        "\n",
        "To summarize the high level approach:\n",
        "\n",
        "- We'll first parse all of the scripts to extract every line from Data, much as we did in the fine-tuning example.\n",
        "- Then we'll use the OpenAI embeddings API to compute embedding vectors for every one of his lines. This basically gives us similarity measures between every line.\n",
        "- RAG calls for use of a vector database to store these lines with the associated embedding vectors. To keep things simple, we'll use a local database called vectordb. There are plenty of cloud-based vector database services out there as well.\n",
        "- Then we'll make a little retrieval function that retrieves the N most-similar lines from the vector database for a given query\n",
        "- Those similar lines are then added as context to the prompt before it is handed off the the chat API.\n",
        "\n",
        "I'm intentionally not using langchain or some other higher-level framework, because this is actually pretty simple without it.\n",
        "\n",
        "First, let's install vectordb:"
      ],
      "metadata": {
        "id": "IOpw--87wvkW"
      }
    },
    {
      "cell_type": "code",
      "execution_count": 1,
      "metadata": {
        "colab": {
          "base_uri": "https://localhost:8080/"
        },
        "id": "2J2I0mlbLWba",
        "outputId": "7c94ad51-76ee-42ed-8a8c-605b40b7f833"
      },
      "outputs": [
        {
          "output_type": "stream",
          "name": "stdout",
          "text": [
            "Requirement already satisfied: vectordb in /usr/local/lib/python3.10/dist-packages (0.0.20)\n",
            "Requirement already satisfied: jina>=3.20.0 in /usr/local/lib/python3.10/dist-packages (from vectordb) (3.23.2)\n",
            "Requirement already satisfied: docarray[hnswlib]>=0.34.0 in /usr/local/lib/python3.10/dist-packages (from vectordb) (0.40.0)\n",
            "Requirement already satisfied: numpy>=1.17.3 in /usr/local/lib/python3.10/dist-packages (from docarray[hnswlib]>=0.34.0->vectordb) (1.23.5)\n",
            "Requirement already satisfied: orjson>=3.8.2 in /usr/local/lib/python3.10/dist-packages (from docarray[hnswlib]>=0.34.0->vectordb) (3.9.13)\n",
            "Requirement already satisfied: pydantic>=1.10.8 in /usr/local/lib/python3.10/dist-packages (from docarray[hnswlib]>=0.34.0->vectordb) (1.10.14)\n",
            "Requirement already satisfied: rich>=13.1.0 in /usr/local/lib/python3.10/dist-packages (from docarray[hnswlib]>=0.34.0->vectordb) (13.7.0)\n",
            "Requirement already satisfied: types-requests>=2.28.11.6 in /usr/local/lib/python3.10/dist-packages (from docarray[hnswlib]>=0.34.0->vectordb) (2.31.0.6)\n",
            "Requirement already satisfied: typing-inspect>=0.8.0 in /usr/local/lib/python3.10/dist-packages (from docarray[hnswlib]>=0.34.0->vectordb) (0.9.0)\n",
            "Requirement already satisfied: hnswlib>=0.7.0 in /usr/local/lib/python3.10/dist-packages (from docarray[hnswlib]>=0.34.0->vectordb) (0.8.0)\n",
            "Requirement already satisfied: protobuf>=3.20.0 in /usr/local/lib/python3.10/dist-packages (from docarray[hnswlib]>=0.34.0->vectordb) (4.25.2)\n",
            "Requirement already satisfied: urllib3<2.0.0,>=1.25.9 in /usr/local/lib/python3.10/dist-packages (from jina>=3.20.0->vectordb) (1.26.18)\n",
            "Requirement already satisfied: opentelemetry-instrumentation-grpc>=0.35b0 in /usr/local/lib/python3.10/dist-packages (from jina>=3.20.0->vectordb) (0.40b0)\n",
            "Requirement already satisfied: grpcio<=1.57.0,>=1.46.0 in /usr/local/lib/python3.10/dist-packages (from jina>=3.20.0->vectordb) (1.57.0)\n",
            "Requirement already satisfied: opentelemetry-sdk<1.20.0,>=1.14.0 in /usr/local/lib/python3.10/dist-packages (from jina>=3.20.0->vectordb) (1.19.0)\n",
            "Requirement already satisfied: jcloud>=0.0.35 in /usr/local/lib/python3.10/dist-packages (from jina>=3.20.0->vectordb) (0.3)\n",
            "Requirement already satisfied: jina-hubble-sdk>=0.30.4 in /usr/local/lib/python3.10/dist-packages (from jina>=3.20.0->vectordb) (0.39.0)\n",
            "Requirement already satisfied: websockets in /usr/local/lib/python3.10/dist-packages (from jina>=3.20.0->vectordb) (12.0)\n",
            "Requirement already satisfied: filelock in /usr/local/lib/python3.10/dist-packages (from jina>=3.20.0->vectordb) (3.13.1)\n",
            "Requirement already satisfied: fastapi>=0.76.0 in /usr/local/lib/python3.10/dist-packages (from jina>=3.20.0->vectordb) (0.109.2)\n",
            "Requirement already satisfied: opentelemetry-api>=1.12.0 in /usr/local/lib/python3.10/dist-packages (from jina>=3.20.0->vectordb) (1.19.0)\n",
            "Requirement already satisfied: opentelemetry-instrumentation-aiohttp-client>=0.33b0 in /usr/local/lib/python3.10/dist-packages (from jina>=3.20.0->vectordb) (0.40b0)\n",
            "Requirement already satisfied: pyyaml>=5.3.1 in /usr/local/lib/python3.10/dist-packages (from jina>=3.20.0->vectordb) (6.0.1)\n",
            "Requirement already satisfied: requests in /usr/local/lib/python3.10/dist-packages (from jina>=3.20.0->vectordb) (2.31.0)\n",
            "Requirement already satisfied: opentelemetry-instrumentation-fastapi>=0.33b0 in /usr/local/lib/python3.10/dist-packages (from jina>=3.20.0->vectordb) (0.40b0)\n",
            "Requirement already satisfied: opentelemetry-exporter-prometheus>=0.33b0 in /usr/local/lib/python3.10/dist-packages (from jina>=3.20.0->vectordb) (0.41b0)\n",
            "Requirement already satisfied: python-multipart in /usr/local/lib/python3.10/dist-packages (from jina>=3.20.0->vectordb) (0.0.7)\n",
            "Requirement already satisfied: opentelemetry-exporter-otlp>=1.12.0 in /usr/local/lib/python3.10/dist-packages (from jina>=3.20.0->vectordb) (1.19.0)\n",
            "Requirement already satisfied: pathspec in /usr/local/lib/python3.10/dist-packages (from jina>=3.20.0->vectordb) (0.12.1)\n",
            "Requirement already satisfied: aiofiles in /usr/local/lib/python3.10/dist-packages (from jina>=3.20.0->vectordb) (23.2.1)\n",
            "Requirement already satisfied: grpcio-health-checking<=1.57.0,>=1.46.0 in /usr/local/lib/python3.10/dist-packages (from jina>=3.20.0->vectordb) (1.57.0)\n",
            "Requirement already satisfied: packaging>=20.0 in /usr/local/lib/python3.10/dist-packages (from jina>=3.20.0->vectordb) (23.2)\n",
            "Requirement already satisfied: uvicorn[standard]<=0.23.1 in /usr/local/lib/python3.10/dist-packages (from jina>=3.20.0->vectordb) (0.23.1)\n",
            "Requirement already satisfied: docker in /usr/local/lib/python3.10/dist-packages (from jina>=3.20.0->vectordb) (7.0.0)\n",
            "Requirement already satisfied: prometheus-client>=0.12.0 in /usr/local/lib/python3.10/dist-packages (from jina>=3.20.0->vectordb) (0.19.0)\n",
            "Requirement already satisfied: opentelemetry-exporter-otlp-proto-grpc>=1.13.0 in /usr/local/lib/python3.10/dist-packages (from jina>=3.20.0->vectordb) (1.19.0)\n",
            "Requirement already satisfied: grpcio-reflection<=1.57.0,>=1.46.0 in /usr/local/lib/python3.10/dist-packages (from jina>=3.20.0->vectordb) (1.57.0)\n",
            "Requirement already satisfied: aiohttp in /usr/local/lib/python3.10/dist-packages (from jina>=3.20.0->vectordb) (3.9.3)\n",
            "Requirement already satisfied: uvloop in /usr/local/lib/python3.10/dist-packages (from jina>=3.20.0->vectordb) (0.19.0)\n",
            "Requirement already satisfied: starlette<0.37.0,>=0.36.3 in /usr/local/lib/python3.10/dist-packages (from fastapi>=0.76.0->jina>=3.20.0->vectordb) (0.36.3)\n",
            "Requirement already satisfied: typing-extensions>=4.8.0 in /usr/local/lib/python3.10/dist-packages (from fastapi>=0.76.0->jina>=3.20.0->vectordb) (4.9.0)\n",
            "Requirement already satisfied: python-dotenv in /usr/local/lib/python3.10/dist-packages (from jcloud>=0.0.35->jina>=3.20.0->vectordb) (1.0.1)\n",
            "Requirement already satisfied: python-dateutil in /usr/local/lib/python3.10/dist-packages (from jcloud>=0.0.35->jina>=3.20.0->vectordb) (2.8.2)\n",
            "Requirement already satisfied: aiosignal>=1.1.2 in /usr/local/lib/python3.10/dist-packages (from aiohttp->jina>=3.20.0->vectordb) (1.3.1)\n",
            "Requirement already satisfied: attrs>=17.3.0 in /usr/local/lib/python3.10/dist-packages (from aiohttp->jina>=3.20.0->vectordb) (23.2.0)\n",
            "Requirement already satisfied: frozenlist>=1.1.1 in /usr/local/lib/python3.10/dist-packages (from aiohttp->jina>=3.20.0->vectordb) (1.4.1)\n",
            "Requirement already satisfied: multidict<7.0,>=4.5 in /usr/local/lib/python3.10/dist-packages (from aiohttp->jina>=3.20.0->vectordb) (6.0.4)\n",
            "Requirement already satisfied: yarl<2.0,>=1.0 in /usr/local/lib/python3.10/dist-packages (from aiohttp->jina>=3.20.0->vectordb) (1.9.4)\n",
            "Requirement already satisfied: async-timeout<5.0,>=4.0 in /usr/local/lib/python3.10/dist-packages (from aiohttp->jina>=3.20.0->vectordb) (4.0.3)\n",
            "Requirement already satisfied: importlib-metadata in /usr/local/lib/python3.10/dist-packages (from jina-hubble-sdk>=0.30.4->jina>=3.20.0->vectordb) (6.11.0)\n",
            "Requirement already satisfied: python-jose in /usr/local/lib/python3.10/dist-packages (from jina-hubble-sdk>=0.30.4->jina>=3.20.0->vectordb) (3.3.0)\n",
            "Requirement already satisfied: deprecated>=1.2.6 in /usr/local/lib/python3.10/dist-packages (from opentelemetry-api>=1.12.0->jina>=3.20.0->vectordb) (1.2.14)\n",
            "Requirement already satisfied: opentelemetry-exporter-otlp-proto-http==1.19.0 in /usr/local/lib/python3.10/dist-packages (from opentelemetry-exporter-otlp>=1.12.0->jina>=3.20.0->vectordb) (1.19.0)\n",
            "Requirement already satisfied: backoff<3.0.0,>=1.10.0 in /usr/local/lib/python3.10/dist-packages (from opentelemetry-exporter-otlp-proto-grpc>=1.13.0->jina>=3.20.0->vectordb) (2.2.1)\n",
            "Requirement already satisfied: googleapis-common-protos~=1.52 in /usr/local/lib/python3.10/dist-packages (from opentelemetry-exporter-otlp-proto-grpc>=1.13.0->jina>=3.20.0->vectordb) (1.62.0)\n",
            "Requirement already satisfied: opentelemetry-exporter-otlp-proto-common==1.19.0 in /usr/local/lib/python3.10/dist-packages (from opentelemetry-exporter-otlp-proto-grpc>=1.13.0->jina>=3.20.0->vectordb) (1.19.0)\n",
            "Requirement already satisfied: opentelemetry-proto==1.19.0 in /usr/local/lib/python3.10/dist-packages (from opentelemetry-exporter-otlp-proto-grpc>=1.13.0->jina>=3.20.0->vectordb) (1.19.0)\n",
            "Requirement already satisfied: opentelemetry-instrumentation==0.40b0 in /usr/local/lib/python3.10/dist-packages (from opentelemetry-instrumentation-aiohttp-client>=0.33b0->jina>=3.20.0->vectordb) (0.40b0)\n",
            "Requirement already satisfied: opentelemetry-semantic-conventions==0.40b0 in /usr/local/lib/python3.10/dist-packages (from opentelemetry-instrumentation-aiohttp-client>=0.33b0->jina>=3.20.0->vectordb) (0.40b0)\n",
            "Requirement already satisfied: opentelemetry-util-http==0.40b0 in /usr/local/lib/python3.10/dist-packages (from opentelemetry-instrumentation-aiohttp-client>=0.33b0->jina>=3.20.0->vectordb) (0.40b0)\n",
            "Requirement already satisfied: wrapt<2.0.0,>=1.0.0 in /usr/local/lib/python3.10/dist-packages (from opentelemetry-instrumentation-aiohttp-client>=0.33b0->jina>=3.20.0->vectordb) (1.14.1)\n",
            "Requirement already satisfied: setuptools>=16.0 in /usr/local/lib/python3.10/dist-packages (from opentelemetry-instrumentation==0.40b0->opentelemetry-instrumentation-aiohttp-client>=0.33b0->jina>=3.20.0->vectordb) (67.7.2)\n",
            "Requirement already satisfied: opentelemetry-instrumentation-asgi==0.40b0 in /usr/local/lib/python3.10/dist-packages (from opentelemetry-instrumentation-fastapi>=0.33b0->jina>=3.20.0->vectordb) (0.40b0)\n",
            "Requirement already satisfied: asgiref~=3.0 in /usr/local/lib/python3.10/dist-packages (from opentelemetry-instrumentation-asgi==0.40b0->opentelemetry-instrumentation-fastapi>=0.33b0->jina>=3.20.0->vectordb) (3.7.2)\n",
            "Requirement already satisfied: charset-normalizer<4,>=2 in /usr/local/lib/python3.10/dist-packages (from requests->jina>=3.20.0->vectordb) (3.3.2)\n",
            "Requirement already satisfied: idna<4,>=2.5 in /usr/local/lib/python3.10/dist-packages (from requests->jina>=3.20.0->vectordb) (3.6)\n",
            "Requirement already satisfied: certifi>=2017.4.17 in /usr/local/lib/python3.10/dist-packages (from requests->jina>=3.20.0->vectordb) (2023.11.17)\n",
            "Requirement already satisfied: markdown-it-py>=2.2.0 in /usr/local/lib/python3.10/dist-packages (from rich>=13.1.0->docarray[hnswlib]>=0.34.0->vectordb) (3.0.0)\n",
            "Requirement already satisfied: pygments<3.0.0,>=2.13.0 in /usr/local/lib/python3.10/dist-packages (from rich>=13.1.0->docarray[hnswlib]>=0.34.0->vectordb) (2.16.1)\n",
            "Requirement already satisfied: types-urllib3 in /usr/local/lib/python3.10/dist-packages (from types-requests>=2.28.11.6->docarray[hnswlib]>=0.34.0->vectordb) (1.26.25.14)\n",
            "Requirement already satisfied: mypy-extensions>=0.3.0 in /usr/local/lib/python3.10/dist-packages (from typing-inspect>=0.8.0->docarray[hnswlib]>=0.34.0->vectordb) (1.0.0)\n",
            "Requirement already satisfied: click>=7.0 in /usr/local/lib/python3.10/dist-packages (from uvicorn[standard]<=0.23.1->jina>=3.20.0->vectordb) (8.1.7)\n",
            "Requirement already satisfied: h11>=0.8 in /usr/local/lib/python3.10/dist-packages (from uvicorn[standard]<=0.23.1->jina>=3.20.0->vectordb) (0.14.0)\n",
            "Requirement already satisfied: httptools>=0.5.0 in /usr/local/lib/python3.10/dist-packages (from uvicorn[standard]<=0.23.1->jina>=3.20.0->vectordb) (0.6.1)\n",
            "Requirement already satisfied: watchfiles>=0.13 in /usr/local/lib/python3.10/dist-packages (from uvicorn[standard]<=0.23.1->jina>=3.20.0->vectordb) (0.21.0)\n",
            "Requirement already satisfied: zipp>=0.5 in /usr/local/lib/python3.10/dist-packages (from importlib-metadata->jina-hubble-sdk>=0.30.4->jina>=3.20.0->vectordb) (3.17.0)\n",
            "Requirement already satisfied: mdurl~=0.1 in /usr/local/lib/python3.10/dist-packages (from markdown-it-py>=2.2.0->rich>=13.1.0->docarray[hnswlib]>=0.34.0->vectordb) (0.1.2)\n",
            "Requirement already satisfied: anyio<5,>=3.4.0 in /usr/local/lib/python3.10/dist-packages (from starlette<0.37.0,>=0.36.3->fastapi>=0.76.0->jina>=3.20.0->vectordb) (3.7.1)\n",
            "Requirement already satisfied: six>=1.5 in /usr/local/lib/python3.10/dist-packages (from python-dateutil->jcloud>=0.0.35->jina>=3.20.0->vectordb) (1.16.0)\n",
            "Requirement already satisfied: ecdsa!=0.15 in /usr/local/lib/python3.10/dist-packages (from python-jose->jina-hubble-sdk>=0.30.4->jina>=3.20.0->vectordb) (0.18.0)\n",
            "Requirement already satisfied: rsa in /usr/local/lib/python3.10/dist-packages (from python-jose->jina-hubble-sdk>=0.30.4->jina>=3.20.0->vectordb) (4.9)\n",
            "Requirement already satisfied: pyasn1 in /usr/local/lib/python3.10/dist-packages (from python-jose->jina-hubble-sdk>=0.30.4->jina>=3.20.0->vectordb) (0.5.1)\n",
            "Requirement already satisfied: sniffio>=1.1 in /usr/local/lib/python3.10/dist-packages (from anyio<5,>=3.4.0->starlette<0.37.0,>=0.36.3->fastapi>=0.76.0->jina>=3.20.0->vectordb) (1.3.0)\n",
            "Requirement already satisfied: exceptiongroup in /usr/local/lib/python3.10/dist-packages (from anyio<5,>=3.4.0->starlette<0.37.0,>=0.36.3->fastapi>=0.76.0->jina>=3.20.0->vectordb) (1.2.0)\n"
          ]
        }
      ],
      "source": [
        "!pip install vectordb"
      ]
    },
    {
      "cell_type": "markdown",
      "source": [
        "Now we'll parse out all of the scripts and extract every line of dialog from \"DATA\". This is almost exactly the same code as from our fine tuning example's preprocessing script. Note you will need to upload all of the script files into a tng folder within your sample_data folder in your CoLab workspace first.\n",
        "\n",
        "An archive can be found at https://www.st-minutiae.com/resources/scripts/ (look for \"All TNG Epsiodes\"), but you could easily adapt this to read scripts from your favorite character from your favorite TV show or movie instead."
      ],
      "metadata": {
        "id": "L4_ysgbQx-jF"
      }
    },
    {
      "cell_type": "code",
      "source": [
        "import os\n",
        "import re\n",
        "import random\n",
        "\n",
        "dialogues = []\n",
        "\n",
        "def strip_parentheses(s):\n",
        "    return re.sub(r'\\(.*?\\)', '', s)\n",
        "\n",
        "def is_single_word_all_caps(s):\n",
        "    # First, we split the string into words\n",
        "    words = s.split()\n",
        "\n",
        "    # Check if the string contains only a single word\n",
        "    if len(words) != 1:\n",
        "        return False\n",
        "\n",
        "    # Make sure it isn't a line number\n",
        "    if bool(re.search(r'\\d', words[0])):\n",
        "        return False\n",
        "\n",
        "    # Check if the single word is in all caps\n",
        "    return words[0].isupper()\n",
        "\n",
        "def extract_character_lines(file_path, character_name):\n",
        "    lines = []\n",
        "    with open(file_path, 'r') as script_file:\n",
        "        try:\n",
        "          lines = script_file.readlines()\n",
        "        except UnicodeDecodeError:\n",
        "          pass\n",
        "\n",
        "    is_character_line = False\n",
        "    current_line = ''\n",
        "    current_character = ''\n",
        "    for line in lines:\n",
        "        strippedLine = line.strip()\n",
        "        if (is_single_word_all_caps(strippedLine)):\n",
        "            is_character_line = True\n",
        "            current_character = strippedLine\n",
        "        elif (line.strip() == '') and is_character_line:\n",
        "            is_character_line = False\n",
        "            dialog_line = strip_parentheses(current_line).strip()\n",
        "            dialog_line = dialog_line.replace('\"', \"'\")\n",
        "            if (current_character == 'DATA' and len(dialog_line)>0):\n",
        "                dialogues.append(dialog_line)\n",
        "            current_line = ''\n",
        "        elif is_character_line:\n",
        "            current_line += line.strip() + ' '\n",
        "\n",
        "def process_directory(directory_path, character_name):\n",
        "    for filename in os.listdir(directory_path):\n",
        "        file_path = os.path.join(directory_path, filename)\n",
        "        if os.path.isfile(file_path):  # Ignore directories\n",
        "            extract_character_lines(file_path, character_name)\n",
        "\n"
      ],
      "metadata": {
        "id": "dLjupJ8rLXr6"
      },
      "execution_count": 2,
      "outputs": []
    },
    {
      "cell_type": "code",
      "source": [
        "process_directory(\"./sample_data/tng\", 'DATA')"
      ],
      "metadata": {
        "id": "Yh3peBSuMiyx"
      },
      "execution_count": 3,
      "outputs": []
    },
    {
      "cell_type": "markdown",
      "source": [
        "Let's do a little sanity check to make sure the lines imported correctly, and print out the first one."
      ],
      "metadata": {
        "id": "jqjo_OdEyeNF"
      }
    },
    {
      "cell_type": "code",
      "source": [
        "print (dialogues[0])"
      ],
      "metadata": {
        "colab": {
          "base_uri": "https://localhost:8080/"
        },
        "id": "x5dPI-29Myxo",
        "outputId": "8f061770-2351-4e80-83d4-109d0cc04808"
      },
      "execution_count": 4,
      "outputs": [
        {
          "output_type": "stream",
          "name": "stdout",
          "text": [
            "The only permanent solution would be to re-liquefy the core.\n"
          ]
        }
      ]
    },
    {
      "cell_type": "markdown",
      "source": [
        "Now we'll set up what a document in our vector database looks like; it's just a string and its embedding vector. We're going with 128 dimensions in our embeddings to keep it simple, but you could go larger. The OpenAI model we're using has up to 1536 I believe."
      ],
      "metadata": {
        "id": "7x4s4hOnyqIr"
      }
    },
    {
      "cell_type": "code",
      "source": [
        "from docarray import BaseDoc\n",
        "from docarray.typing import NdArray\n",
        "\n",
        "embedding_dimensions = 128\n",
        "\n",
        "class DialogLine(BaseDoc):\n",
        "  text: str = ''\n",
        "  embedding: NdArray[embedding_dimensions]"
      ],
      "metadata": {
        "id": "S15N5wi2QMvn"
      },
      "execution_count": 5,
      "outputs": []
    },
    {
      "cell_type": "markdown",
      "source": [
        "It's time to start computing embeddings for each line in OpenAI, so let's make sure OpenAI is installed:"
      ],
      "metadata": {
        "id": "8W1jJUxty9kk"
      }
    },
    {
      "cell_type": "code",
      "source": [
        "!pip install openai --upgrade"
      ],
      "metadata": {
        "colab": {
          "base_uri": "https://localhost:8080/"
        },
        "id": "4Sqtgr4kQQG9",
        "outputId": "869de3f7-9d55-4614-965c-bb015a94b251"
      },
      "execution_count": 6,
      "outputs": [
        {
          "output_type": "stream",
          "name": "stdout",
          "text": [
            "Requirement already satisfied: openai in /usr/local/lib/python3.10/dist-packages (1.11.1)\n",
            "Requirement already satisfied: anyio<5,>=3.5.0 in /usr/local/lib/python3.10/dist-packages (from openai) (3.7.1)\n",
            "Requirement already satisfied: distro<2,>=1.7.0 in /usr/lib/python3/dist-packages (from openai) (1.7.0)\n",
            "Requirement already satisfied: httpx<1,>=0.23.0 in /usr/local/lib/python3.10/dist-packages (from openai) (0.26.0)\n",
            "Requirement already satisfied: pydantic<3,>=1.9.0 in /usr/local/lib/python3.10/dist-packages (from openai) (1.10.14)\n",
            "Requirement already satisfied: sniffio in /usr/local/lib/python3.10/dist-packages (from openai) (1.3.0)\n",
            "Requirement already satisfied: tqdm>4 in /usr/local/lib/python3.10/dist-packages (from openai) (4.66.1)\n",
            "Requirement already satisfied: typing-extensions<5,>=4.7 in /usr/local/lib/python3.10/dist-packages (from openai) (4.9.0)\n",
            "Requirement already satisfied: idna>=2.8 in /usr/local/lib/python3.10/dist-packages (from anyio<5,>=3.5.0->openai) (3.6)\n",
            "Requirement already satisfied: exceptiongroup in /usr/local/lib/python3.10/dist-packages (from anyio<5,>=3.5.0->openai) (1.2.0)\n",
            "Requirement already satisfied: certifi in /usr/local/lib/python3.10/dist-packages (from httpx<1,>=0.23.0->openai) (2023.11.17)\n",
            "Requirement already satisfied: httpcore==1.* in /usr/local/lib/python3.10/dist-packages (from httpx<1,>=0.23.0->openai) (1.0.2)\n",
            "Requirement already satisfied: h11<0.15,>=0.13 in /usr/local/lib/python3.10/dist-packages (from httpcore==1.*->httpx<1,>=0.23.0->openai) (0.14.0)\n"
          ]
        }
      ]
    },
    {
      "cell_type": "markdown",
      "source": [
        "Let's initialize the OpenAI client, and test creating an embedding for a single line of dialog just to make sure it works.\n",
        "\n",
        "You will need to provide your own OpenAI secret key here. To use this code as-is, click on the little key icon in CoLab and add a \"secret\" for OPENAI_API_KEY that points to your secret key."
      ],
      "metadata": {
        "id": "Y8oMwMzOzFLD"
      }
    },
    {
      "cell_type": "code",
      "source": [
        "from google.colab import userdata\n",
        "\n",
        "from openai import OpenAI\n",
        "client = OpenAI(api_key=userdata.get('OPENAI_API_KEY'))\n",
        "\n",
        "embedding_model = \"text-embedding-3-small\"\n",
        "\n",
        "response = client.embeddings.create(\n",
        "    input=dialogues[1],\n",
        "    dimensions=embedding_dimensions,\n",
        "    model= embedding_model\n",
        ")\n",
        "\n",
        "print(response.data[0].embedding)"
      ],
      "metadata": {
        "colab": {
          "base_uri": "https://localhost:8080/"
        },
        "id": "4kJhWeYySMWL",
        "outputId": "ac5229f3-ed86-4a51-b12b-0162e6af65f6"
      },
      "execution_count": 7,
      "outputs": [
        {
          "output_type": "stream",
          "name": "stdout",
          "text": [
            "[-0.012653457932174206, 0.1878061145544052, 0.06242372468113899, 0.05711544305086136, -0.029895080253481865, 0.07711408287286758, 0.04201359301805496, 0.06258831918239594, 0.015657367184758186, -0.11883962899446487, 0.07929500192403793, -0.02032783068716526, -0.02041012980043888, -0.11159732192754745, 0.13159595429897308, -0.07991224527359009, 0.10846996307373047, -0.11349020153284073, -0.09793570637702942, 0.08131132274866104, 0.02429875358939171, 0.059008318930864334, 0.02514231763780117, -0.01591455191373825, 0.014916677959263325, -0.04162267595529556, 0.08698994666337967, 0.09596052765846252, -0.001743708155117929, -0.0023995277006179094, 0.19356703758239746, -0.06081889569759369, 0.045346699655056, -0.0030656345188617706, 0.020379267632961273, -0.0014942395500838757, 0.017714841291308403, 0.19504842162132263, -0.0978534072637558, 0.0042306785471737385, 0.03197312727570534, -0.01794116199016571, -0.08888282626867294, 0.04567589610815048, 0.055551763623952866, -0.047033827751874924, -0.26714226603507996, -0.07225844264030457, 0.10493110865354538, 0.03440094366669655, 0.03205542638897896, 0.09250397235155106, -0.07011867314577103, -0.01869213953614235, -0.04460601136088371, -0.1436115950345993, 0.02195323444902897, 0.02322886697947979, -0.1384267657995224, 0.046087391674518585, -0.06797890365123749, 0.05941981449723244, 0.17414449155330658, 0.028660595417022705, 0.06814349442720413, 0.09168098866939545, -0.09275086969137192, 0.15735551714897156, -0.010302795097231865, 0.07221729308366776, 0.00018372588965576142, 0.027302663773298264, -0.10665939003229141, -0.15653252601623535, 0.04448256269097328, -0.19801117479801178, -0.11554767191410065, -0.005097388755530119, -0.012684319168329239, -0.023599212989211082, 0.13134905695915222, -0.09834720194339752, 0.12583503127098083, -0.09085799753665924, -0.15101850032806396, -0.042548537254333496, 0.11908652633428574, 0.05345314368605614, -0.1468212604522705, -0.055428314954042435, -0.04538784921169281, 0.10929295420646667, -0.0007940558716654778, -0.022261856123805046, -0.020626164972782135, 0.013692481443285942, -0.01563679240643978, -0.0819285660982132, 0.0863315537571907, 0.10863456130027771, 0.15225298702716827, -0.05596325919032097, 0.055387165397405624, -0.08048833161592484, 0.2585831880569458, -0.021191969513893127, -0.12065020203590393, 0.18879370391368866, -0.011151502840220928, 0.010035322979092598, 0.13455872237682343, -0.029607033357024193, 0.02314656786620617, 0.00872882828116417, 0.011130928061902523, 0.05645705386996269, 0.07217614352703094, 0.055551763623952866, -0.06468694657087326, 0.04621083661913872, -0.1316782534122467, 0.017159322276711464, -0.05822648108005524, 0.006640493404120207, 0.04555244743824005, -0.0692133828997612, 0.06871958822011948, -0.024010706692934036]\n"
          ]
        }
      ]
    },
    {
      "cell_type": "markdown",
      "source": [
        "Let's double check that we do in fact have embeddings of 128 dimensions as we specified."
      ],
      "metadata": {
        "id": "NQVaAlcwzeCM"
      }
    },
    {
      "cell_type": "code",
      "source": [
        "print(len(response.data[0].embedding))"
      ],
      "metadata": {
        "colab": {
          "base_uri": "https://localhost:8080/"
        },
        "id": "PtXBxhTmShNs",
        "outputId": "9cb121a8-c902-41a3-8e0b-e79b37badd3c"
      },
      "execution_count": 8,
      "outputs": [
        {
          "output_type": "stream",
          "name": "stdout",
          "text": [
            "128\n"
          ]
        }
      ]
    },
    {
      "cell_type": "markdown",
      "source": [
        "OK, now let's compute embeddings for every line Data ever said. The OpenAI API currently can't handle computing them all at once, so we're breaking it up into 128 lines at a time here."
      ],
      "metadata": {
        "id": "mRk4NnRVzjDz"
      }
    },
    {
      "cell_type": "code",
      "source": [
        "#Generate embeddings for everything Data ever said, 128 lines at a time.\n",
        "embeddings = []\n",
        "\n",
        "for i in range(0, len(dialogues), 128):\n",
        "  dialog_slice = dialogues[i:i+128]\n",
        "  slice_embeddings = client.embeddings.create(\n",
        "    input=dialog_slice,\n",
        "    dimensions=embedding_dimensions,\n",
        "    model=embedding_model\n",
        "  )\n",
        "\n",
        "  embeddings.extend(slice_embeddings.data)"
      ],
      "metadata": {
        "id": "TyFFTJmGcdlt"
      },
      "execution_count": 9,
      "outputs": []
    },
    {
      "cell_type": "markdown",
      "source": [
        "Let's check how many embeddings we actually got back in total."
      ],
      "metadata": {
        "id": "aA5XuIUZzs_b"
      }
    },
    {
      "cell_type": "code",
      "source": [
        "print (len(embeddings))"
      ],
      "metadata": {
        "colab": {
          "base_uri": "https://localhost:8080/"
        },
        "id": "kuBDo7PUsVJZ",
        "outputId": "46dafd9e-8238-436b-e016-f5524b24fcbe"
      },
      "execution_count": 10,
      "outputs": [
        {
          "output_type": "stream",
          "name": "stdout",
          "text": [
            "6502\n"
          ]
        }
      ]
    },
    {
      "cell_type": "markdown",
      "source": [
        "Now let's insert every line and its embedding vector into our vector database. The syntax here will vary depending on which vector database you are using, but it's pretty simple.\n",
        "\n",
        "With vectordb, we need to set up a workspace folder for it to use, so be sure to create that within your CoLab drive first."
      ],
      "metadata": {
        "id": "sKrU5tvcz1Vq"
      }
    },
    {
      "cell_type": "code",
      "source": [
        "from docarray import DocList\n",
        "import numpy as np\n",
        "from vectordb import InMemoryExactNNVectorDB\n",
        "\n",
        "# Specify your workspace path\n",
        "db = InMemoryExactNNVectorDB[DialogLine](workspace='./sample_data/workspace')\n",
        "\n",
        "# Index our list of documents\n",
        "doc_list = [DialogLine(text=dialogues[i], embedding=embeddings[i].embedding) for i in range(len(embeddings))]\n",
        "db.index(inputs=DocList[DialogLine](doc_list))\n"
      ],
      "metadata": {
        "colab": {
          "base_uri": "https://localhost:8080/"
        },
        "id": "vVLSnCO7bRo1",
        "outputId": "8b8742b2-e3da-442f-e6ff-7201ad5b1106"
      },
      "execution_count": 11,
      "outputs": [
        {
          "output_type": "stream",
          "name": "stderr",
          "text": [
            "WARNING - docarray - Index file does not exist: /content/sample_data/workspace/InMemoryExactNNIndexer[DialogLine][DialogLineWithMatchesAndScores]/index.bin. Initializing empty InMemoryExactNNIndex.\n",
            "WARNING:docarray:Index file does not exist: /content/sample_data/workspace/InMemoryExactNNIndexer[DialogLine][DialogLineWithMatchesAndScores]/index.bin. Initializing empty InMemoryExactNNIndex.\n"
          ]
        },
        {
          "output_type": "execute_result",
          "data": {
            "text/plain": [
              "<DocList[DialogLine] (length=6502)>"
            ]
          },
          "metadata": {},
          "execution_count": 11
        }
      ]
    },
    {
      "cell_type": "markdown",
      "source": [
        "Let's try querying our vector database for lines similar to a query string.\n",
        "\n",
        "First we need to compute the embedding vector for our query string, then we'll query the vector database for the top 10 matches based on the similarities encoded by their embedding vectors."
      ],
      "metadata": {
        "id": "Fxormngx0IFz"
      }
    },
    {
      "cell_type": "code",
      "source": [
        "# Perform a search query\n",
        "queryText = 'Lal, my daughter'\n",
        "response = client.embeddings.create(\n",
        "    input=queryText,\n",
        "    dimensions=embedding_dimensions,\n",
        "    model=embedding_model\n",
        ")\n",
        "query = DialogLine(text=queryText, embedding=response.data[0].embedding)\n",
        "results = db.search(inputs=DocList[DialogLine]([query]), limit=10)\n",
        "\n",
        "# Print out the matches\n",
        "for m in results[0].matches:\n",
        "  print(m)"
      ],
      "metadata": {
        "colab": {
          "base_uri": "https://localhost:8080/",
          "height": 1000
        },
        "id": "woU_o_qS0FuD",
        "outputId": "4834fab3-6b71-4676-8453-044478d29d30"
      },
      "execution_count": 12,
      "outputs": [
        {
          "output_type": "display_data",
          "data": {
            "text/plain": [],
            "text/html": [
              "<pre style=\"white-space:pre;overflow-x:auto;line-height:normal;font-family:Menlo,'DejaVu Sans Mono',consolas,'Courier New',monospace\"></pre>\n"
            ]
          },
          "metadata": {}
        },
        {
          "output_type": "stream",
          "name": "stdout",
          "text": [
            "\u001b[1;35mDialogLine\u001b[0m\u001b[1m(\u001b[0m\n",
            "    \u001b[33mid\u001b[0m=\u001b[32m'e4002ce0ac1a555c5412551ebeca6b2e'\u001b[0m,\n",
            "    \u001b[33mtext\u001b[0m=\u001b[32m'That is Lal, my daughter.'\u001b[0m,\n",
            "    \u001b[33membedding\u001b[0m=\u001b[1;35mNdArray\u001b[0m\u001b[1m(\u001b[0m\u001b[1m[\u001b[0m \u001b[1;36m1.27129272e-01\u001b[0m, \u001b[1;36m-2.03528721e-03\u001b[0m, \u001b[1;36m-1.36807682e-02\u001b[0m,\n",
            "          \u001b[1;36m1.59366392e-02\u001b[0m,  \u001b[1;36m5.45047633e-02\u001b[0m, \u001b[1;36m-2.07394622e-02\u001b[0m,\n",
            "          \u001b[1;36m1.57365222e-02\u001b[0m,  \u001b[1;36m8.31033960e-02\u001b[0m, \u001b[1;36m-1.62277207e-01\u001b[0m,\n",
            "          \u001b[1;36m1.60185061e-02\u001b[0m,  \u001b[1;36m3.74038033e-02\u001b[0m, \u001b[1;36m-1.14394508e-01\u001b[0m,\n",
            "         \u001b[1;36m-4.85740043e-02\u001b[0m, \u001b[1;36m-2.47418150e-01\u001b[0m,  \u001b[1;36m3.91138978e-02\u001b[0m,\n",
            "          \u001b[1;36m4.99566346e-02\u001b[0m,  \u001b[1;36m2.97811404e-02\u001b[0m, \u001b[1;36m-1.34697348e-01\u001b[0m,\n",
            "         \u001b[1;36m-1.76540136e-01\u001b[0m,  \u001b[1;36m1.35570601e-01\u001b[0m,  \u001b[1;36m1.45394549e-01\u001b[0m,\n",
            "          \u001b[1;36m3.51115465e-02\u001b[0m,  \u001b[1;36m6.64026663e-02\u001b[0m, \u001b[1;36m-7.42618293e-02\u001b[0m,\n",
            "          \u001b[1;36m6.95317760e-02\u001b[0m, \u001b[1;36m-2.21380126e-03\u001b[0m,  \u001b[1;36m1.92549542e-01\u001b[0m,\n",
            "         \u001b[1;36m-7.93193504e-02\u001b[0m, \u001b[1;36m-3.13275047e-02\u001b[0m, \u001b[1;36m-6.27641678e-02\u001b[0m,\n",
            "          \u001b[1;36m7.94648901e-02\u001b[0m, \u001b[1;36m-1.12720802e-01\u001b[0m, \u001b[1;36m-3.74765731e-02\u001b[0m,\n",
            "         \u001b[1;36m-3.83861996e-02\u001b[0m, \u001b[1;36m-8.36855546e-02\u001b[0m,  \u001b[1;36m9.27818120e-02\u001b[0m,\n",
            "         \u001b[1;36m-7.24061951e-03\u001b[0m, \u001b[1;36m-2.10669283e-02\u001b[0m, \u001b[1;36m-4.71913740e-02\u001b[0m,\n",
            "         \u001b[1;36m-8.78334418e-02\u001b[0m, \u001b[1;36m-1.85854703e-01\u001b[0m, \u001b[1;36m-1.15704373e-01\u001b[0m,\n",
            "          \u001b[1;36m5.83251901e-02\u001b[0m,  \u001b[1;36m6.38921037e-02\u001b[0m,  \u001b[1;36m6.96773157e-02\u001b[0m,\n",
            "          \u001b[1;36m9.05987099e-02\u001b[0m, \u001b[1;36m-2.15108261e-01\u001b[0m,  \u001b[1;36m1.16286531e-01\u001b[0m,\n",
            "         \u001b[1;36m-5.90165071e-02\u001b[0m,  \u001b[1;36m3.17277387e-02\u001b[0m, \u001b[1;36m-3.17277387e-02\u001b[0m,\n",
            "          \u001b[1;36m6.84038401e-02\u001b[0m,  \u001b[1;36m9.12536383e-02\u001b[0m,  \u001b[1;36m2.14089468e-01\u001b[0m,\n",
            "         \u001b[1;36m-9.96221900e-02\u001b[0m, \u001b[1;36m-5.44865709e-03\u001b[0m,  \u001b[1;36m3.12001575e-02\u001b[0m,\n",
            "          \u001b[1;36m1.86291322e-01\u001b[0m,  \u001b[1;36m3.35106067e-02\u001b[0m, \u001b[1;36m-3.67670655e-02\u001b[0m,\n",
            "         \u001b[1;36m-1.42410979e-01\u001b[0m,  \u001b[1;36m6.72395229e-02\u001b[0m,  \u001b[1;36m5.08662611e-02\u001b[0m,\n",
            "         \u001b[1;36m-4.18063924e-02\u001b[0m, \u001b[1;36m-9.13991779e-02\u001b[0m, \u001b[1;36m-4.67547541e-03\u001b[0m,\n",
            "         \u001b[1;36m-1.11192629e-01\u001b[0m,  \u001b[1;36m4.23885509e-02\u001b[0m, \u001b[1;36m-3.12729254e-02\u001b[0m,\n",
            "          \u001b[1;36m7.49531463e-02\u001b[0m,  \u001b[1;36m4.18427773e-02\u001b[0m,  \u001b[1;36m8.14296827e-02\u001b[0m,\n",
            "         \u001b[1;36m-1.53253719e-01\u001b[0m,  \u001b[1;36m3.08726914e-02\u001b[0m, \u001b[1;36m-7.17876479e-02\u001b[0m,\n",
            "         \u001b[1;36m-1.13957889e-01\u001b[0m, \u001b[1;36m-1.35934442e-01\u001b[0m, \u001b[1;36m-2.52875909e-02\u001b[0m,\n",
            "          \u001b[1;36m1.41974360e-01\u001b[0m, \u001b[1;36m-1.93204470e-02\u001b[0m,  \u001b[1;36m7.27245631e-03\u001b[0m,\n",
            "         \u001b[1;36m-2.25041360e-02\u001b[0m, \u001b[1;36m-1.52180362e-02\u001b[0m,  \u001b[1;36m2.42870022e-02\u001b[0m,\n",
            "          \u001b[1;36m3.55845541e-02\u001b[0m, \u001b[1;36m-1.09882772e-01\u001b[0m, \u001b[1;36m-5.47594577e-02\u001b[0m,\n",
            "         \u001b[1;36m-1.46085871e-02\u001b[0m, \u001b[1;36m-5.17031178e-02\u001b[0m, \u001b[1;36m-4.05238196e-03\u001b[0m,\n",
            "         \u001b[1;36m-5.14484234e-02\u001b[0m,  \u001b[1;36m2.46326607e-02\u001b[0m, \u001b[1;36m-1.12939112e-01\u001b[0m,\n",
            "         \u001b[1;36m-1.72828864e-02\u001b[0m,  \u001b[1;36m6.36374056e-02\u001b[0m,  \u001b[1;36m7.16421083e-02\u001b[0m,\n",
            "          \u001b[1;36m3.59302089e-02\u001b[0m,  \u001b[1;36m3.19642425e-02\u001b[0m, \u001b[1;36m-3.24736312e-02\u001b[0m,\n",
            "         \u001b[1;36m-1.93022545e-02\u001b[0m,  \u001b[1;36m9.13264081e-02\u001b[0m, \u001b[1;36m-7.77911767e-02\u001b[0m,\n",
            "         \u001b[1;36m-4.66456003e-02\u001b[0m, \u001b[1;36m-1.28220826e-01\u001b[0m, \u001b[1;36m-3.13138613e-03\u001b[0m,\n",
            "          \u001b[1;36m1.30840540e-01\u001b[0m,  \u001b[1;36m7.58991614e-02\u001b[0m, \u001b[1;36m-2.47236229e-02\u001b[0m,\n",
            "         \u001b[1;36m-1.13739580e-01\u001b[0m,  \u001b[1;36m9.52559933e-02\u001b[0m, \u001b[1;36m-2.13070691e-01\u001b[0m,\n",
            "         \u001b[1;36m-7.30975121e-02\u001b[0m, \u001b[1;36m-6.31280169e-02\u001b[0m, \u001b[1;36m-2.39686342e-03\u001b[0m,\n",
            "          \u001b[1;36m7.91010410e-02\u001b[0m, \u001b[1;36m-7.70634785e-02\u001b[0m, \u001b[1;36m-2.34910799e-03\u001b[0m,\n",
            "         \u001b[1;36m-5.61693776e-03\u001b[0m, \u001b[1;36m-3.31831425e-02\u001b[0m, \u001b[1;36m-1.29457906e-01\u001b[0m,\n",
            "          \u001b[1;36m7.13510290e-02\u001b[0m,  \u001b[1;36m2.76890025e-02\u001b[0m, \u001b[1;36m-2.84167025e-02\u001b[0m,\n",
            "         \u001b[1;36m-2.07831249e-01\u001b[0m, \u001b[1;36m-9.48921368e-02\u001b[0m, \u001b[1;36m-1.69918053e-02\u001b[0m,\n",
            "         \u001b[1;36m-1.61316406e-04\u001b[0m,  \u001b[1;36m1.64187420e-02\u001b[0m\u001b[1m]\u001b[0m\u001b[1m)\u001b[0m\n",
            "\u001b[1m)\u001b[0m\n"
          ]
        },
        {
          "output_type": "display_data",
          "data": {
            "text/plain": [],
            "text/html": [
              "<pre style=\"white-space:pre;overflow-x:auto;line-height:normal;font-family:Menlo,'DejaVu Sans Mono',consolas,'Courier New',monospace\"></pre>\n"
            ]
          },
          "metadata": {}
        },
        {
          "output_type": "stream",
          "name": "stdout",
          "text": [
            "\u001b[1;35mDialogLine\u001b[0m\u001b[1m(\u001b[0m\n",
            "    \u001b[33mid\u001b[0m=\u001b[32m'432248aaa8a81ebdd28e6ff55ed9b157'\u001b[0m,\n",
            "    \u001b[33mtext\u001b[0m=\u001b[32m'Lal...'\u001b[0m,\n",
            "    \u001b[33membedding\u001b[0m=\u001b[1;35mNdArray\u001b[0m\u001b[1m(\u001b[0m\u001b[1m[\u001b[0m \u001b[1;36m0.12602141\u001b[0m, \u001b[1;36m-0.00787136\u001b[0m,  \u001b[1;36m0.07228519\u001b[0m, \u001b[1;36m-0.01194139\u001b[0m,  \u001b[1;36m0.08780899\u001b[0m,\n",
            "         \u001b[1;36m-0.0861372\u001b[0m ,  \u001b[1;36m0.07216577\u001b[0m,  \u001b[1;36m0.05365663\u001b[0m, \u001b[1;36m-0.12729517\u001b[0m,  \u001b[1;36m0.05286053\u001b[0m,\n",
            "          \u001b[1;36m0.01232948\u001b[0m, \u001b[1;36m-0.15460114\u001b[0m, \u001b[1;36m-0.00170165\u001b[0m, \u001b[1;36m-0.08239556\u001b[0m,  \u001b[1;36m0.09370007\u001b[0m,\n",
            "          \u001b[1;36m0.01691696\u001b[0m,  \u001b[1;36m0.02444004\u001b[0m, \u001b[1;36m-0.08008689\u001b[0m, \u001b[1;36m-0.08653524\u001b[0m,  \u001b[1;36m0.1749811\u001b[0m ,\n",
            "          \u001b[1;36m0.08995844\u001b[0m,  \u001b[1;36m0.09163023\u001b[0m, \u001b[1;36m-0.05389545\u001b[0m, \u001b[1;36m-0.01919578\u001b[0m,  \u001b[1;36m0.12530494\u001b[0m,\n",
            "          \u001b[1;36m0.01854895\u001b[0m,  \u001b[1;36m0.09521265\u001b[0m, \u001b[1;36m-0.01378235\u001b[0m,  \u001b[1;36m0.04026237\u001b[0m,  \u001b[1;36m0.0171956\u001b[0m ,\n",
            "         \u001b[1;36m-0.00565723\u001b[0m, \u001b[1;36m-0.10994036\u001b[0m, \u001b[1;36m-0.00869731\u001b[0m, \u001b[1;36m-0.10675599\u001b[0m, \u001b[1;36m-0.08422657\u001b[0m,\n",
            "          \u001b[1;36m0.17179674\u001b[0m,  \u001b[1;36m0.02748509\u001b[0m, \u001b[1;36m-0.11169176\u001b[0m, \u001b[1;36m-0.05998556\u001b[0m, \u001b[1;36m-0.08207712\u001b[0m,\n",
            "         \u001b[1;36m-0.19981918\u001b[0m, \u001b[1;36m-0.1276136\u001b[0m ,  \u001b[1;36m0.0654786\u001b[0m ,  \u001b[1;36m0.07288226\u001b[0m,  \u001b[1;36m0.10158139\u001b[0m,\n",
            "          \u001b[1;36m0.05636334\u001b[0m, \u001b[1;36m-0.23134445\u001b[0m,  \u001b[1;36m0.03984442\u001b[0m, \u001b[1;36m-0.01744437\u001b[0m,  \u001b[1;36m0.05799533\u001b[0m,\n",
            "         \u001b[1;36m-0.09608835\u001b[0m,  \u001b[1;36m0.07339972\u001b[0m,  \u001b[1;36m0.09250593\u001b[0m,  \u001b[1;36m0.20969073\u001b[0m, \u001b[1;36m-0.07634526\u001b[0m,\n",
            "         \u001b[1;36m-0.01803149\u001b[0m, \u001b[1;36m-0.01945451\u001b[0m,  \u001b[1;36m0.10731325\u001b[0m,  \u001b[1;36m0.0474073\u001b[0m , \u001b[1;36m-0.01596165\u001b[0m,\n",
            "         \u001b[1;36m-0.11622949\u001b[0m, \u001b[1;36m-0.03624211\u001b[0m,  \u001b[1;36m0.08000728\u001b[0m, \u001b[1;36m-0.09385929\u001b[0m, \u001b[1;36m-0.08629641\u001b[0m,\n",
            "         \u001b[1;36m-0.10866661\u001b[0m, \u001b[1;36m-0.15316817\u001b[0m,  \u001b[1;36m0.11829933\u001b[0m,  \u001b[1;36m0.02034016\u001b[0m,  \u001b[1;36m0.15348661\u001b[0m,\n",
            "         \u001b[1;36m-0.02718655\u001b[0m,  \u001b[1;36m0.01041886\u001b[0m, \u001b[1;36m-0.10389005\u001b[0m,  \u001b[1;36m0.06086126\u001b[0m,  \u001b[1;36m0.00918989\u001b[0m,\n",
            "         \u001b[1;36m-0.05055187\u001b[0m, \u001b[1;36m-0.03504797\u001b[0m,  \u001b[1;36m0.00815497\u001b[0m,  \u001b[1;36m0.13700749\u001b[0m, \u001b[1;36m-0.06647372\u001b[0m,\n",
            "         \u001b[1;36m-0.03064956\u001b[0m, \u001b[1;36m-0.09457577\u001b[0m, \u001b[1;36m-0.07531033\u001b[0m, \u001b[1;36m-0.0292962\u001b[0m ,  \u001b[1;36m0.12610103\u001b[0m,\n",
            "         \u001b[1;36m-0.15953691\u001b[0m, \u001b[1;36m-0.12442924\u001b[0m,  \u001b[1;36m0.01087661\u001b[0m, \u001b[1;36m-0.10404927\u001b[0m, \u001b[1;36m-0.05106933\u001b[0m,\n",
            "          \u001b[1;36m0.06838433\u001b[0m,  \u001b[1;36m0.01221007\u001b[0m, \u001b[1;36m-0.11686636\u001b[0m, \u001b[1;36m-0.03283881\u001b[0m,  \u001b[1;36m0.09322242\u001b[0m,\n",
            "          \u001b[1;36m0.04692965\u001b[0m,  \u001b[1;36m0.02925639\u001b[0m, \u001b[1;36m-0.01987245\u001b[0m,  \u001b[1;36m0.06368739\u001b[0m,  \u001b[1;36m0.00444817\u001b[0m,\n",
            "          \u001b[1;36m0.04661121\u001b[0m, \u001b[1;36m-0.04927812\u001b[0m, \u001b[1;36m-0.04183465\u001b[0m, \u001b[1;36m-0.11041801\u001b[0m,  \u001b[1;36m0.08924195\u001b[0m,\n",
            "          \u001b[1;36m0.04533746\u001b[0m, \u001b[1;36m-0.02290756\u001b[0m, \u001b[1;36m-0.01150353\u001b[0m, \u001b[1;36m-0.00630903\u001b[0m,  \u001b[1;36m0.05986615\u001b[0m,\n",
            "         \u001b[1;36m-0.08979922\u001b[0m, \u001b[1;36m-0.03041073\u001b[0m, \u001b[1;36m-0.04191426\u001b[0m, \u001b[1;36m-0.03256018\u001b[0m,  \u001b[1;36m0.06519996\u001b[0m,\n",
            "         \u001b[1;36m-0.06599606\u001b[0m,  \u001b[1;36m0.08096259\u001b[0m, \u001b[1;36m-0.127534\u001b[0m  ,  \u001b[1;36m0.01335445\u001b[0m, \u001b[1;36m-0.17163752\u001b[0m,\n",
            "          \u001b[1;36m0.02734577\u001b[0m, \u001b[1;36m-0.08900312\u001b[0m,  \u001b[1;36m0.02272844\u001b[0m, \u001b[1;36m-0.24376348\u001b[0m, \u001b[1;36m-0.15197404\u001b[0m,\n",
            "         \u001b[1;36m-0.11575183\u001b[0m,  \u001b[1;36m0.06348836\u001b[0m,  \u001b[1;36m0.06559801\u001b[0m\u001b[1m]\u001b[0m\u001b[1m)\u001b[0m\n",
            "\u001b[1m)\u001b[0m\n"
          ]
        },
        {
          "output_type": "display_data",
          "data": {
            "text/plain": [],
            "text/html": [
              "<pre style=\"white-space:pre;overflow-x:auto;line-height:normal;font-family:Menlo,'DejaVu Sans Mono',consolas,'Courier New',monospace\"></pre>\n"
            ]
          },
          "metadata": {}
        },
        {
          "output_type": "stream",
          "name": "stdout",
          "text": [
            "\u001b[1;35mDialogLine\u001b[0m\u001b[1m(\u001b[0m\n",
            "    \u001b[33mid\u001b[0m=\u001b[32m'efc111982ace31e2129f160676db9e39'\u001b[0m,\n",
            "    \u001b[33mtext\u001b[0m=\u001b[32m'What do you feel, Lal?'\u001b[0m,\n",
            "    \u001b[33membedding\u001b[0m=\u001b[1;35mNdArray\u001b[0m\u001b[1m(\u001b[0m\u001b[1m[\u001b[0m \u001b[1;36m0.12457579\u001b[0m, \u001b[1;36m-0.0550159\u001b[0m , \u001b[1;36m-0.01717105\u001b[0m,  \u001b[1;36m0.04991408\u001b[0m,  \u001b[1;36m0.1378253\u001b[0m ,\n",
            "         \u001b[1;36m-0.00798111\u001b[0m,  \u001b[1;36m0.01482955\u001b[0m, \u001b[1;36m-0.00798111\u001b[0m, \u001b[1;36m-0.04306089\u001b[0m,  \u001b[1;36m0.10569144\u001b[0m,\n",
            "          \u001b[1;36m0.00157885\u001b[0m, \u001b[1;36m-0.10675749\u001b[0m, \u001b[1;36m-0.10995565\u001b[0m, \u001b[1;36m-0.13287577\u001b[0m,  \u001b[1;36m0.00797635\u001b[0m,\n",
            "          \u001b[1;36m0.00701976\u001b[0m,  \u001b[1;36m0.06773238\u001b[0m, \u001b[1;36m-0.10119879\u001b[0m, \u001b[1;36m-0.1110217\u001b[0m ,  \u001b[1;36m0.06902687\u001b[0m,\n",
            "          \u001b[1;36m0.11292537\u001b[0m,  \u001b[1;36m0.01653332\u001b[0m, \u001b[1;36m-0.07740299\u001b[0m, \u001b[1;36m-0.0203121\u001b[0m ,  \u001b[1;36m0.11033639\u001b[0m,\n",
            "         \u001b[1;36m-0.15670964\u001b[0m,  \u001b[1;36m0.09959972\u001b[0m,  \u001b[1;36m0.0350655\u001b[0m , \u001b[1;36m-0.04949527\u001b[0m,  \u001b[1;36m0.0302873\u001b[0m ,\n",
            "         \u001b[1;36m-0.02922125\u001b[0m, \u001b[1;36m-0.10500612\u001b[0m, \u001b[1;36m-0.02417654\u001b[0m, \u001b[1;36m-0.14848582\u001b[0m, \u001b[1;36m-0.09822908\u001b[0m,\n",
            "          \u001b[1;36m0.06194524\u001b[0m, \u001b[1;36m-0.06834155\u001b[0m, \u001b[1;36m-0.02497608\u001b[0m,  \u001b[1;36m0.00790973\u001b[0m, \u001b[1;36m-0.11536206\u001b[0m,\n",
            "         \u001b[1;36m-0.21153519\u001b[0m, \u001b[1;36m-0.08063922\u001b[0m,  \u001b[1;36m0.05181774\u001b[0m,  \u001b[1;36m0.09145203\u001b[0m,  \u001b[1;36m0.08855847\u001b[0m,\n",
            "         \u001b[1;36m-0.019741\u001b[0m  , \u001b[1;36m-0.17072062\u001b[0m,  \u001b[1;36m0.05139894\u001b[0m, \u001b[1;36m-0.05947047\u001b[0m,  \u001b[1;36m0.03529394\u001b[0m,\n",
            "         \u001b[1;36m-0.03554141\u001b[0m,  \u001b[1;36m0.01046064\u001b[0m,  \u001b[1;36m0.10531071\u001b[0m,  \u001b[1;36m0.28128543\u001b[0m, \u001b[1;36m-0.12061618\u001b[0m,\n",
            "         \u001b[1;36m-0.01055582\u001b[0m, \u001b[1;36m-0.07409061\u001b[0m,  \u001b[1;36m0.08482728\u001b[0m,  \u001b[1;36m0.06594294\u001b[0m,  \u001b[1;36m0.02851689\u001b[0m,\n",
            "         \u001b[1;36m-0.24686719\u001b[0m, \u001b[1;36m-0.03021115\u001b[0m,  \u001b[1;36m0.02712722\u001b[0m, \u001b[1;36m-0.14642987\u001b[0m, \u001b[1;36m-0.14574455\u001b[0m,\n",
            "         \u001b[1;36m-0.06537183\u001b[0m, \u001b[1;36m-0.14970416\u001b[0m,  \u001b[1;36m0.04663978\u001b[0m, \u001b[1;36m-0.01183127\u001b[0m,  \u001b[1;36m0.08391352\u001b[0m,\n",
            "         \u001b[1;36m-0.06255441\u001b[0m,  \u001b[1;36m0.10607217\u001b[0m,  \u001b[1;36m0.01970293\u001b[0m,  \u001b[1;36m0.06506725\u001b[0m, \u001b[1;36m-0.03588407\u001b[0m,\n",
            "         \u001b[1;36m-0.14056657\u001b[0m, \u001b[1;36m-0.03807329\u001b[0m, \u001b[1;36m-0.11627582\u001b[0m,  \u001b[1;36m0.07896399\u001b[0m, \u001b[1;36m-0.01226912\u001b[0m,\n",
            "         \u001b[1;36m-0.02731758\u001b[0m, \u001b[1;36m-0.05874708\u001b[0m, \u001b[1;36m-0.03993888\u001b[0m,  \u001b[1;36m0.09769605\u001b[0m,  \u001b[1;36m0.09868596\u001b[0m,\n",
            "         \u001b[1;36m-0.11155473\u001b[0m, \u001b[1;36m-0.09899054\u001b[0m,  \u001b[1;36m0.09465019\u001b[0m, \u001b[1;36m-0.08962452\u001b[0m, \u001b[1;36m-0.01394434\u001b[0m,\n",
            "          \u001b[1;36m0.08193371\u001b[0m,  \u001b[1;36m0.04968564\u001b[0m, \u001b[1;36m-0.1121639\u001b[0m ,  \u001b[1;36m0.03205771\u001b[0m,  \u001b[1;36m0.00370977\u001b[0m,\n",
            "          \u001b[1;36m0.03508453\u001b[0m,  \u001b[1;36m0.11536206\u001b[0m,  \u001b[1;36m0.01976003\u001b[0m, \u001b[1;36m-0.05147508\u001b[0m,  \u001b[1;36m0.02767928\u001b[0m,\n",
            "          \u001b[1;36m0.01972196\u001b[0m, \u001b[1;36m-0.0277935\u001b[0m ,  \u001b[1;36m0.01889387\u001b[0m, \u001b[1;36m-0.07740299\u001b[0m,  \u001b[1;36m0.05166545\u001b[0m,\n",
            "          \u001b[1;36m0.10112265\u001b[0m,  \u001b[1;36m0.02480475\u001b[0m,  \u001b[1;36m0.0605746\u001b[0m , \u001b[1;36m-0.00507327\u001b[0m,  \u001b[1;36m0.06975026\u001b[0m,\n",
            "         \u001b[1;36m-0.20194072\u001b[0m, \u001b[1;36m-0.0649911\u001b[0m , \u001b[1;36m-0.10668135\u001b[0m,  \u001b[1;36m0.07203466\u001b[0m, \u001b[1;36m-0.00278887\u001b[0m,\n",
            "         \u001b[1;36m-0.07618465\u001b[0m, \u001b[1;36m-0.05067554\u001b[0m,  \u001b[1;36m0.02341507\u001b[0m,  \u001b[1;36m0.01815144\u001b[0m, \u001b[1;36m-0.14574455\u001b[0m,\n",
            "          \u001b[1;36m0.00635348\u001b[0m, \u001b[1;36m-0.05551085\u001b[0m, \u001b[1;36m-0.00058032\u001b[0m, \u001b[1;36m-0.21336269\u001b[0m, \u001b[1;36m-0.14772435\u001b[0m,\n",
            "          \u001b[1;36m0.01827518\u001b[0m,  \u001b[1;36m0.05391178\u001b[0m,  \u001b[1;36m0.00813816\u001b[0m\u001b[1m]\u001b[0m\u001b[1m)\u001b[0m\n",
            "\u001b[1m)\u001b[0m\n"
          ]
        },
        {
          "output_type": "display_data",
          "data": {
            "text/plain": [],
            "text/html": [
              "<pre style=\"white-space:pre;overflow-x:auto;line-height:normal;font-family:Menlo,'DejaVu Sans Mono',consolas,'Courier New',monospace\"></pre>\n"
            ]
          },
          "metadata": {}
        },
        {
          "output_type": "stream",
          "name": "stdout",
          "text": [
            "\u001b[1;35mDialogLine\u001b[0m\u001b[1m(\u001b[0m\n",
            "    \u001b[33mid\u001b[0m=\u001b[32m'8eaa55be876073153d2f74df29595925'\u001b[0m,\n",
            "    \u001b[33mtext\u001b[0m=\u001b[32m'Yes, Lal. I am here.'\u001b[0m,\n",
            "    \u001b[33membedding\u001b[0m=\u001b[1;35mNdArray\u001b[0m\u001b[1m(\u001b[0m\u001b[1m[\u001b[0m \u001b[1;36m0.02412624\u001b[0m,  \u001b[1;36m0.00757259\u001b[0m, \u001b[1;36m-0.02155785\u001b[0m, \u001b[1;36m-0.08026613\u001b[0m,  \u001b[1;36m0.14104569\u001b[0m,\n",
            "          \u001b[1;36m0.01711703\u001b[0m, \u001b[1;36m-0.00144782\u001b[0m,  \u001b[1;36m0.07794631\u001b[0m, \u001b[1;36m-0.12321614\u001b[0m,  \u001b[1;36m0.03400209\u001b[0m,\n",
            "         \u001b[1;36m-0.04460702\u001b[0m, \u001b[1;36m-0.07304152\u001b[0m, \u001b[1;36m-0.00033891\u001b[0m, \u001b[1;36m-0.09637238\u001b[0m, \u001b[1;36m-0.03348841\u001b[0m,\n",
            "          \u001b[1;36m0.08888265\u001b[0m, \u001b[1;36m-0.03315701\u001b[0m,  \u001b[1;36m0.06734136\u001b[0m, \u001b[1;36m-0.1063808\u001b[0m ,  \u001b[1;36m0.17895834\u001b[0m,\n",
            "          \u001b[1;36m0.05617304\u001b[0m, \u001b[1;36m-0.06793789\u001b[0m, \u001b[1;36m-0.03372039\u001b[0m,  \u001b[1;36m0.06747393\u001b[0m,  \u001b[1;36m0.08649653\u001b[0m,\n",
            "          \u001b[1;36m0.02833507\u001b[0m,  \u001b[1;36m0.082122\u001b[0m  , \u001b[1;36m-0.00111642\u001b[0m, \u001b[1;36m-0.08603257\u001b[0m, \u001b[1;36m-0.0121294\u001b[0m ,\n",
            "          \u001b[1;36m0.01734902\u001b[0m, \u001b[1;36m-0.12314986\u001b[0m, \u001b[1;36m-0.14542022\u001b[0m, \u001b[1;36m-0.02266806\u001b[0m, \u001b[1;36m-0.06140923\u001b[0m,\n",
            "          \u001b[1;36m0.0900757\u001b[0m ,  \u001b[1;36m0.05375379\u001b[0m,  \u001b[1;36m0.0476228\u001b[0m , \u001b[1;36m-0.05047288\u001b[0m, \u001b[1;36m-0.18850279\u001b[0m,\n",
            "         \u001b[1;36m-0.15363906\u001b[0m, \u001b[1;36m-0.13448389\u001b[0m,  \u001b[1;36m0.08682794\u001b[0m,  \u001b[1;36m0.08961174\u001b[0m, \u001b[1;36m-0.02127616\u001b[0m,\n",
            "          \u001b[1;36m0.03930455\u001b[0m, \u001b[1;36m-0.21475002\u001b[0m,  \u001b[1;36m0.05597419\u001b[0m, \u001b[1;36m-0.06986003\u001b[0m,  \u001b[1;36m0.08126035\u001b[0m,\n",
            "         \u001b[1;36m-0.0550794\u001b[0m , \u001b[1;36m-0.01448237\u001b[0m,  \u001b[1;36m0.06111096\u001b[0m,  \u001b[1;36m0.30701298\u001b[0m, \u001b[1;36m-0.01918831\u001b[0m,\n",
            "         \u001b[1;36m-0.02530272\u001b[0m,  \u001b[1;36m0.03947026\u001b[0m,  \u001b[1;36m0.16649754\u001b[0m,  \u001b[1;36m0.07383689\u001b[0m, \u001b[1;36m-0.07854283\u001b[0m,\n",
            "         \u001b[1;36m-0.14104569\u001b[0m, \u001b[1;36m-0.00348596\u001b[0m,  \u001b[1;36m0.03259362\u001b[0m, \u001b[1;36m-0.10094576\u001b[0m, \u001b[1;36m-0.14568534\u001b[0m,\n",
            "         \u001b[1;36m-0.06986003\u001b[0m, \u001b[1;36m-0.05673642\u001b[0m,  \u001b[1;36m0.10485633\u001b[0m, \u001b[1;36m-0.06578376\u001b[0m, \u001b[1;36m-0.01227025\u001b[0m,\n",
            "          \u001b[1;36m0.00403278\u001b[0m,  \u001b[1;36m0.06618145\u001b[0m, \u001b[1;36m-0.05667014\u001b[0m,  \u001b[1;36m0.05948708\u001b[0m, \u001b[1;36m-0.05159966\u001b[0m,\n",
            "          \u001b[1;36m0.00305099\u001b[0m, \u001b[1;36m-0.14290155\u001b[0m,  \u001b[1;36m0.03236163\u001b[0m,  \u001b[1;36m0.07436714\u001b[0m, \u001b[1;36m-0.03698473\u001b[0m,\n",
            "         \u001b[1;36m-0.06502153\u001b[0m, \u001b[1;36m-0.00402035\u001b[0m, \u001b[1;36m-0.0597522\u001b[0m , \u001b[1;36m-0.04275116\u001b[0m, \u001b[1;36m-0.04212149\u001b[0m,\n",
            "         \u001b[1;36m-0.08126035\u001b[0m, \u001b[1;36m-0.14886683\u001b[0m,  \u001b[1;36m0.11367169\u001b[0m, \u001b[1;36m-0.01066293\u001b[0m,  \u001b[1;36m0.00214377\u001b[0m,\n",
            "          \u001b[1;36m0.05567593\u001b[0m,  \u001b[1;36m0.04725826\u001b[0m, \u001b[1;36m-0.11910672\u001b[0m, \u001b[1;36m-0.06147551\u001b[0m,  \u001b[1;36m0.07993473\u001b[0m,\n",
            "          \u001b[1;36m0.00744003\u001b[0m,  \u001b[1;36m0.0713845\u001b[0m ,  \u001b[1;36m0.07880796\u001b[0m,  \u001b[1;36m0.06077956\u001b[0m,  \u001b[1;36m0.06508782\u001b[0m,\n",
            "          \u001b[1;36m0.16291837\u001b[0m, \u001b[1;36m-0.09710147\u001b[0m, \u001b[1;36m-0.04208835\u001b[0m, \u001b[1;36m-0.19155172\u001b[0m,  \u001b[1;36m0.0050332\u001b[0m ,\n",
            "          \u001b[1;36m0.12142655\u001b[0m,  \u001b[1;36m0.07324036\u001b[0m,  \u001b[1;36m0.0363882\u001b[0m , \u001b[1;36m-0.06369592\u001b[0m,  \u001b[1;36m0.08530348\u001b[0m,\n",
            "         \u001b[1;36m-0.19910774\u001b[0m, \u001b[1;36m-0.14846915\u001b[0m, \u001b[1;36m-0.05034032\u001b[0m,  \u001b[1;36m0.00214377\u001b[0m, \u001b[1;36m-0.03400209\u001b[0m,\n",
            "         \u001b[1;36m-0.0146315\u001b[0m ,  \u001b[1;36m0.03784638\u001b[0m,  \u001b[1;36m0.02392739\u001b[0m,  \u001b[1;36m0.00270302\u001b[0m, \u001b[1;36m-0.04981007\u001b[0m,\n",
            "          \u001b[1;36m0.15549491\u001b[0m,  \u001b[1;36m0.03784638\u001b[0m,  \u001b[1;36m0.04984321\u001b[0m, \u001b[1;36m-0.19738443\u001b[0m, \u001b[1;36m-0.12792207\u001b[0m,\n",
            "         \u001b[1;36m-0.0033824\u001b[0m , \u001b[1;36m-0.04616462\u001b[0m, \u001b[1;36m-0.02437479\u001b[0m\u001b[1m]\u001b[0m\u001b[1m)\u001b[0m\n",
            "\u001b[1m)\u001b[0m\n"
          ]
        },
        {
          "output_type": "display_data",
          "data": {
            "text/plain": [],
            "text/html": [
              "<pre style=\"white-space:pre;overflow-x:auto;line-height:normal;font-family:Menlo,'DejaVu Sans Mono',consolas,'Courier New',monospace\"></pre>\n"
            ]
          },
          "metadata": {}
        },
        {
          "output_type": "stream",
          "name": "stdout",
          "text": [
            "\u001b[1;35mDialogLine\u001b[0m\u001b[1m(\u001b[0m\n",
            "    \u001b[33mid\u001b[0m=\u001b[32m'17b68bb7f65a59d4f1ff95840ae98a4e'\u001b[0m,\n",
            "    \u001b[33mtext\u001b[0m=\u001b[32m'Correct, Lal. We are a family.'\u001b[0m,\n",
            "    \u001b[33membedding\u001b[0m=\u001b[1;35mNdArray\u001b[0m\u001b[1m(\u001b[0m\u001b[1m[\u001b[0m \u001b[1;36m0.09101048\u001b[0m,  \u001b[1;36m0.05812611\u001b[0m, \u001b[1;36m-0.08708399\u001b[0m,  \u001b[1;36m0.09963474\u001b[0m,  \u001b[1;36m0.10328077\u001b[0m,\n",
            "         \u001b[1;36m-0.01980775\u001b[0m, \u001b[1;36m-0.05731978\u001b[0m,  \u001b[1;36m0.05514618\u001b[0m, \u001b[1;36m-0.16827823\u001b[0m, \u001b[1;36m-0.01631948\u001b[0m,\n",
            "          \u001b[1;36m0.04038678\u001b[0m, \u001b[1;36m-0.07572521\u001b[0m, \u001b[1;36m-0.07635625\u001b[0m, \u001b[1;36m-0.13819851\u001b[0m, \u001b[1;36m-0.00216154\u001b[0m,\n",
            "          \u001b[1;36m0.0198954\u001b[0m ,  \u001b[1;36m0.1148499\u001b[0m , \u001b[1;36m-0.06636473\u001b[0m, \u001b[1;36m-0.05970372\u001b[0m,  \u001b[1;36m0.1113441\u001b[0m ,\n",
            "          \u001b[1;36m0.11456943\u001b[0m, \u001b[1;36m-0.08091379\u001b[0m,  \u001b[1;36m0.06348997\u001b[0m, \u001b[1;36m-0.10264973\u001b[0m,  \u001b[1;36m0.05973877\u001b[0m,\n",
            "         \u001b[1;36m-0.10152787\u001b[0m,  \u001b[1;36m0.09774161\u001b[0m,  \u001b[1;36m0.00347731\u001b[0m,  \u001b[1;36m0.01418095\u001b[0m,  \u001b[1;36m0.01317303\u001b[0m,\n",
            "          \u001b[1;36m0.0166613\u001b[0m , \u001b[1;36m-0.09339442\u001b[0m, \u001b[1;36m-0.08708399\u001b[0m,  \u001b[1;36m0.02827425\u001b[0m, \u001b[1;36m-0.11015213\u001b[0m,\n",
            "          \u001b[1;36m0.17991748\u001b[0m,  \u001b[1;36m0.0261883\u001b[0m ,  \u001b[1;36m0.03204298\u001b[0m,  \u001b[1;36m0.00653393\u001b[0m, \u001b[1;36m-0.08946793\u001b[0m,\n",
            "         \u001b[1;36m-0.19702578\u001b[0m, \u001b[1;36m-0.08575179\u001b[0m,  \u001b[1;36m0.04210462\u001b[0m, \u001b[1;36m-0.0058985\u001b[0m ,  \u001b[1;36m0.05335822\u001b[0m,\n",
            "          \u001b[1;36m0.00794939\u001b[0m, \u001b[1;36m-0.13875943\u001b[0m,  \u001b[1;36m0.17935656\u001b[0m, \u001b[1;36m-0.02788861\u001b[0m, \u001b[1;36m-0.00921148\u001b[0m,\n",
            "         \u001b[1;36m-0.05244672\u001b[0m,  \u001b[1;36m0.03639017\u001b[0m,  \u001b[1;36m0.0683981\u001b[0m ,  \u001b[1;36m0.1055946\u001b[0m , \u001b[1;36m-0.11421885\u001b[0m,\n",
            "         \u001b[1;36m-0.04508454\u001b[0m,  \u001b[1;36m0.03179758\u001b[0m,  \u001b[1;36m0.11085329\u001b[0m,  \u001b[1;36m0.01071021\u001b[0m, \u001b[1;36m-0.01472435\u001b[0m,\n",
            "         \u001b[1;36m-0.11449932\u001b[0m,  \u001b[1;36m0.01296268\u001b[0m, \u001b[1;36m-0.00305662\u001b[0m, \u001b[1;36m-0.12396497\u001b[0m, \u001b[1;36m-0.03632005\u001b[0m,\n",
            "         \u001b[1;36m-0.07036134\u001b[0m, \u001b[1;36m-0.00477227\u001b[0m,  \u001b[1;36m0.0407023\u001b[0m ,  \u001b[1;36m0.04606617\u001b[0m,  \u001b[1;36m0.0954979\u001b[0m ,\n",
            "          \u001b[1;36m0.02487363\u001b[0m,  \u001b[1;36m0.04999266\u001b[0m, \u001b[1;36m-0.18328305\u001b[0m,  \u001b[1;36m0.07256999\u001b[0m, \u001b[1;36m-0.01859825\u001b[0m,\n",
            "         \u001b[1;36m-0.05402433\u001b[0m, \u001b[1;36m-0.14429858\u001b[0m, \u001b[1;36m-0.04126323\u001b[0m,  \u001b[1;36m0.10657622\u001b[0m,  \u001b[1;36m0.01849308\u001b[0m,\n",
            "          \u001b[1;36m0.09051967\u001b[0m,  \u001b[1;36m0.05107946\u001b[0m,  \u001b[1;36m0.1069268\u001b[0m ,  \u001b[1;36m0.05563699\u001b[0m,  \u001b[1;36m0.07285045\u001b[0m,\n",
            "         \u001b[1;36m-0.03800283\u001b[0m, \u001b[1;36m-0.01649477\u001b[0m,  \u001b[1;36m0.07951146\u001b[0m, \u001b[1;36m-0.07418266\u001b[0m,  \u001b[1;36m0.0769873\u001b[0m ,\n",
            "          \u001b[1;36m0.01395307\u001b[0m,  \u001b[1;36m0.0809839\u001b[0m , \u001b[1;36m-0.12775123\u001b[0m, \u001b[1;36m-0.03339271\u001b[0m,  \u001b[1;36m0.17318635\u001b[0m,\n",
            "         \u001b[1;36m-0.0602997\u001b[0m , \u001b[1;36m-0.05342834\u001b[0m, \u001b[1;36m-0.00433842\u001b[0m,  \u001b[1;36m0.00472844\u001b[0m,  \u001b[1;36m0.04192933\u001b[0m,\n",
            "          \u001b[1;36m0.1192672\u001b[0m , \u001b[1;36m-0.09942439\u001b[0m, \u001b[1;36m-0.01333956\u001b[0m, \u001b[1;36m-0.17318635\u001b[0m,  \u001b[1;36m0.04455867\u001b[0m,\n",
            "          \u001b[1;36m0.09234268\u001b[0m,  \u001b[1;36m0.07071192\u001b[0m, \u001b[1;36m-0.0134272\u001b[0m , \u001b[1;36m-0.17655192\u001b[0m,  \u001b[1;36m0.12648915\u001b[0m,\n",
            "         \u001b[1;36m-0.25872779\u001b[0m, \u001b[1;36m-0.08701387\u001b[0m, \u001b[1;36m-0.02843201\u001b[0m,  \u001b[1;36m0.00899237\u001b[0m, \u001b[1;36m-0.02154312\u001b[0m,\n",
            "          \u001b[1;36m0.00757252\u001b[0m, \u001b[1;36m-0.09528755\u001b[0m, \u001b[1;36m-0.05405938\u001b[0m, \u001b[1;36m-0.0919921\u001b[0m , \u001b[1;36m-0.04676733\u001b[0m,\n",
            "          \u001b[1;36m0.1632299\u001b[0m ,  \u001b[1;36m0.01092932\u001b[0m,  \u001b[1;36m0.07944135\u001b[0m, \u001b[1;36m-0.24764948\u001b[0m, \u001b[1;36m-0.01903648\u001b[0m,\n",
            "          \u001b[1;36m0.10706703\u001b[0m, \u001b[1;36m-0.03691604\u001b[0m,  \u001b[1;36m0.117935\u001b[0m  \u001b[1m]\u001b[0m\u001b[1m)\u001b[0m\n",
            "\u001b[1m)\u001b[0m\n"
          ]
        },
        {
          "output_type": "display_data",
          "data": {
            "text/plain": [],
            "text/html": [
              "<pre style=\"white-space:pre;overflow-x:auto;line-height:normal;font-family:Menlo,'DejaVu Sans Mono',consolas,'Courier New',monospace\"></pre>\n"
            ]
          },
          "metadata": {}
        },
        {
          "output_type": "stream",
          "name": "stdout",
          "text": [
            "\u001b[1;35mDialogLine\u001b[0m\u001b[1m(\u001b[0m\n",
            "    \u001b[33mid\u001b[0m=\u001b[32m'a92902b84176735aeab5d62d934eee91'\u001b[0m,\n",
            "    \u001b[33mtext\u001b[0m=\u001b[32m'No, Lal, this is a flower.'\u001b[0m,\n",
            "    \u001b[33membedding\u001b[0m=\u001b[1;35mNdArray\u001b[0m\u001b[1m(\u001b[0m\u001b[1m[\u001b[0m \u001b[1;36m8.73676017e-02\u001b[0m,  \u001b[1;36m5.02153523e-02\u001b[0m, \u001b[1;36m-1.07479610e-01\u001b[0m,\n",
            "         \u001b[1;36m-8.29377864e-03\u001b[0m,  \u001b[1;36m6.96483403e-02\u001b[0m, \u001b[1;36m-1.26686245e-01\u001b[0m,\n",
            "          \u001b[1;36m5.68439066e-02\u001b[0m, \u001b[1;36m-2.82319891e-03\u001b[0m, \u001b[1;36m-6.57035410e-02\u001b[0m,\n",
            "          \u001b[1;36m1.08902320e-01\u001b[0m,  \u001b[1;36m4.80166115e-02\u001b[0m, \u001b[1;36m-1.52456788e-02\u001b[0m,\n",
            "         \u001b[1;36m-3.77342664e-02\u001b[0m, \u001b[1;36m-1.50937065e-01\u001b[0m, \u001b[1;36m-4.88896407e-02\u001b[0m,\n",
            "          \u001b[1;36m6.52508587e-02\u001b[0m, \u001b[1;36m-8.67855772e-02\u001b[0m, \u001b[1;36m-1.01077393e-01\u001b[0m,\n",
            "         \u001b[1;36m-6.19204119e-02\u001b[0m,  \u001b[1;36m7.58565441e-02\u001b[0m,  \u001b[1;36m4.06766981e-02\u001b[0m,\n",
            "         \u001b[1;36m-4.37161326e-02\u001b[0m,  \u001b[1;36m4.16467302e-02\u001b[0m, \u001b[1;36m-7.16611557e-03\u001b[0m,\n",
            "          \u001b[1;36m1.15692548e-01\u001b[0m, \u001b[1;36m-1.24538041e-04\u001b[0m,  \u001b[1;36m1.01982757e-01\u001b[0m,\n",
            "         \u001b[1;36m-3.02650165e-02\u001b[0m,  \u001b[1;36m8.88549834e-02\u001b[0m, \u001b[1;36m-1.46151576e-02\u001b[0m,\n",
            "          \u001b[1;36m1.51729258e-02\u001b[0m, \u001b[1;36m-9.24117714e-02\u001b[0m, \u001b[1;36m-3.28032672e-02\u001b[0m,\n",
            "         \u001b[1;36m-9.76499468e-02\u001b[0m, \u001b[1;36m-1.08514309e-01\u001b[0m,  \u001b[1;36m7.60505497e-02\u001b[0m,\n",
            "          \u001b[1;36m3.90599780e-02\u001b[0m,  \u001b[1;36m6.47981763e-02\u001b[0m,  \u001b[1;36m1.42998965e-02\u001b[0m,\n",
            "         \u001b[1;36m-6.22114204e-02\u001b[0m, \u001b[1;36m-2.52984494e-01\u001b[0m,  \u001b[1;36m3.26900966e-02\u001b[0m,\n",
            "          \u001b[1;36m6.66089058e-02\u001b[0m, \u001b[1;36m-1.03874318e-02\u001b[0m,  \u001b[1;36m1.34899199e-01\u001b[0m,\n",
            "          \u001b[1;36m1.81072745e-02\u001b[0m, \u001b[1;36m-2.15088546e-01\u001b[0m,  \u001b[1;36m2.05258891e-01\u001b[0m,\n",
            "         \u001b[1;36m-9.61625576e-02\u001b[0m,  \u001b[1;36m6.34724647e-02\u001b[0m, \u001b[1;36m-1.35416552e-01\u001b[0m,\n",
            "          \u001b[1;36m1.19831353e-01\u001b[0m,  \u001b[1;36m1.14075832e-01\u001b[0m,  \u001b[1;36m2.39274696e-01\u001b[0m,\n",
            "         \u001b[1;36m-1.07156262e-01\u001b[0m, \u001b[1;36m-4.86956351e-02\u001b[0m,  \u001b[1;36m5.31496992e-03\u001b[0m,\n",
            "          \u001b[1;36m1.25069529e-01\u001b[0m,  \u001b[1;36m5.12823872e-02\u001b[0m, \u001b[1;36m-2.99901739e-02\u001b[0m,\n",
            "         \u001b[1;36m-9.33171287e-02\u001b[0m,  \u001b[1;36m6.87510567e-03\u001b[0m, \u001b[1;36m-7.50562688e-03\u001b[0m,\n",
            "         \u001b[1;36m-2.71447450e-02\u001b[0m, \u001b[1;36m-1.61672100e-01\u001b[0m, \u001b[1;36m-2.15347223e-02\u001b[0m,\n",
            "         \u001b[1;36m-6.51538521e-02\u001b[0m,  \u001b[1;36m2.13245489e-02\u001b[0m, \u001b[1;36m-5.88890584e-03\u001b[0m,\n",
            "          \u001b[1;36m5.74582629e-02\u001b[0m, \u001b[1;36m-5.30931167e-02\u001b[0m,  \u001b[1;36m3.05883605e-02\u001b[0m,\n",
            "         \u001b[1;36m-1.56369254e-01\u001b[0m,  \u001b[1;36m5.17997406e-02\u001b[0m, \u001b[1;36m-1.23679149e-03\u001b[0m,\n",
            "         \u001b[1;36m-2.27957647e-02\u001b[0m, \u001b[1;36m-3.26739289e-02\u001b[0m,  \u001b[1;36m5.20584136e-02\u001b[0m,\n",
            "          \u001b[1;36m5.18320724e-02\u001b[0m,  \u001b[1;36m1.45585723e-02\u001b[0m, \u001b[1;36m-6.79669455e-02\u001b[0m,\n",
            "         \u001b[1;36m-7.92839974e-02\u001b[0m,  \u001b[1;36m6.53155223e-02\u001b[0m, \u001b[1;36m-3.92863192e-02\u001b[0m,\n",
            "          \u001b[1;36m6.11120500e-02\u001b[0m, \u001b[1;36m-4.42658179e-02\u001b[0m, \u001b[1;36m-2.01896116e-01\u001b[0m,\n",
            "          \u001b[1;36m5.92043214e-02\u001b[0m, \u001b[1;36m-1.24228835e-01\u001b[0m, \u001b[1;36m-4.69172411e-02\u001b[0m,\n",
            "          \u001b[1;36m1.63612161e-02\u001b[0m, \u001b[1;36m-1.02047428e-01\u001b[0m,  \u001b[1;36m9.99941863e-03\u001b[0m,\n",
            "         \u001b[1;36m-1.65148042e-02\u001b[0m, \u001b[1;36m-8.55245348e-03\u001b[0m,  \u001b[1;36m1.26589248e-02\u001b[0m,\n",
            "          \u001b[1;36m1.00479210e-02\u001b[0m, \u001b[1;36m-3.16392295e-02\u001b[0m,  \u001b[1;36m5.62618906e-03\u001b[0m,\n",
            "          \u001b[1;36m1.52101099e-01\u001b[0m,  \u001b[1;36m5.43541573e-02\u001b[0m, \u001b[1;36m-4.01270129e-02\u001b[0m,\n",
            "         \u001b[1;36m-2.24077515e-02\u001b[0m, \u001b[1;36m-4.07090336e-02\u001b[0m,  \u001b[1;36m5.00213467e-02\u001b[0m,\n",
            "          \u001b[1;36m8.91783237e-02\u001b[0m,  \u001b[1;36m8.52981955e-02\u001b[0m,  \u001b[1;36m1.11877091e-01\u001b[0m,\n",
            "         \u001b[1;36m-4.19377424e-02\u001b[0m,  \u001b[1;36m1.20672047e-01\u001b[0m, \u001b[1;36m-1.74993873e-01\u001b[0m,\n",
            "         \u001b[1;36m-9.56452116e-02\u001b[0m,  \u001b[1;36m6.48305118e-02\u001b[0m,  \u001b[1;36m6.52185231e-02\u001b[0m,\n",
            "          \u001b[1;36m2.97314972e-02\u001b[0m, \u001b[1;36m-7.48218447e-02\u001b[0m, \u001b[1;36m-1.40493046e-02\u001b[0m,\n",
            "          \u001b[1;36m7.71499202e-02\u001b[0m,  \u001b[1;36m2.98770033e-02\u001b[0m, \u001b[1;36m-1.07802950e-01\u001b[0m,\n",
            "          \u001b[1;36m8.43928307e-02\u001b[0m, \u001b[1;36m-1.60540398e-02\u001b[0m, \u001b[1;36m-4.36191298e-02\u001b[0m,\n",
            "         \u001b[1;36m-2.84025520e-01\u001b[0m, \u001b[1;36m-1.44987538e-01\u001b[0m,  \u001b[1;36m1.77839305e-02\u001b[0m,\n",
            "          \u001b[1;36m1.23970158e-01\u001b[0m,  \u001b[1;36m1.04828186e-01\u001b[0m\u001b[1m]\u001b[0m\u001b[1m)\u001b[0m\n",
            "\u001b[1m)\u001b[0m\n"
          ]
        },
        {
          "output_type": "display_data",
          "data": {
            "text/plain": [],
            "text/html": [
              "<pre style=\"white-space:pre;overflow-x:auto;line-height:normal;font-family:Menlo,'DejaVu Sans Mono',consolas,'Courier New',monospace\"></pre>\n"
            ]
          },
          "metadata": {}
        },
        {
          "output_type": "stream",
          "name": "stdout",
          "text": [
            "\u001b[1;35mDialogLine\u001b[0m\u001b[1m(\u001b[0m\n",
            "    \u001b[33mid\u001b[0m=\u001b[32m'39fd10a89668cc19757dd697b3d0e3a3'\u001b[0m,\n",
            "    \u001b[33mtext\u001b[0m=\u001b[32m'Lal, you used a verbal contraction.'\u001b[0m,\n",
            "    \u001b[33membedding\u001b[0m=\u001b[1;35mNdArray\u001b[0m\u001b[1m(\u001b[0m\u001b[1m[\u001b[0m \u001b[1;36m0.03570644\u001b[0m,  \u001b[1;36m0.08633868\u001b[0m, \u001b[1;36m-0.07582465\u001b[0m,  \u001b[1;36m0.01763676\u001b[0m,  \u001b[1;36m0.02867648\u001b[0m,\n",
            "          \u001b[1;36m0.01408054\u001b[0m, \u001b[1;36m-0.03966466\u001b[0m,  \u001b[1;36m0.00656611\u001b[0m, \u001b[1;36m-0.03473751\u001b[0m,  \u001b[1;36m0.07013471\u001b[0m,\n",
            "         \u001b[1;36m-0.06444477\u001b[0m, \u001b[1;36m-0.05665202\u001b[0m,  \u001b[1;36m0.02583151\u001b[0m, \u001b[1;36m-0.04125207\u001b[0m,  \u001b[1;36m0.07528865\u001b[0m,\n",
            "         \u001b[1;36m-0.05632217\u001b[0m,  \u001b[1;36m0.00241204\u001b[0m, \u001b[1;36m-0.05100331\u001b[0m, \u001b[1;36m-0.22578347\u001b[0m,  \u001b[1;36m0.09705885\u001b[0m,\n",
            "          \u001b[1;36m0.06675373\u001b[0m,  \u001b[1;36m0.06572294\u001b[0m, \u001b[1;36m-0.01705952\u001b[0m,  \u001b[1;36m0.0088493\u001b[0m ,  \u001b[1;36m0.11932384\u001b[0m,\n",
            "          \u001b[1;36m0.02853217\u001b[0m,  \u001b[1;36m0.08394725\u001b[0m,  \u001b[1;36m0.05034361\u001b[0m, \u001b[1;36m-0.0593733\u001b[0m ,  \u001b[1;36m0.06687742\u001b[0m,\n",
            "          \u001b[1;36m0.00498385\u001b[0m, \u001b[1;36m-0.09120399\u001b[0m, \u001b[1;36m-0.05957946\u001b[0m, \u001b[1;36m-0.16335903\u001b[0m, \u001b[1;36m-0.07487633\u001b[0m,\n",
            "          \u001b[1;36m0.16261686\u001b[0m, \u001b[1;36m-0.02230622\u001b[0m,  \u001b[1;36m0.01277144\u001b[0m, \u001b[1;36m-0.02179082\u001b[0m, \u001b[1;36m-0.11272681\u001b[0m,\n",
            "         \u001b[1;36m-0.11561301\u001b[0m, \u001b[1;36m-0.30214411\u001b[0m,  \u001b[1;36m0.0513744\u001b[0m ,  \u001b[1;36m0.01253436\u001b[0m,  \u001b[1;36m0.04050991\u001b[0m,\n",
            "          \u001b[1;36m0.01639981\u001b[0m, \u001b[1;36m-0.08980212\u001b[0m,  \u001b[1;36m0.03226361\u001b[0m,  \u001b[1;36m0.06432107\u001b[0m, \u001b[1;36m-0.01739968\u001b[0m,\n",
            "         \u001b[1;36m-0.10819135\u001b[0m, \u001b[1;36m-0.00795252\u001b[0m,  \u001b[1;36m0.08840024\u001b[0m,  \u001b[1;36m0.18966471\u001b[0m, \u001b[1;36m-0.04436505\u001b[0m,\n",
            "         \u001b[1;36m-0.08110227\u001b[0m,  \u001b[1;36m0.01907986\u001b[0m,  \u001b[1;36m0.17185272\u001b[0m,  \u001b[1;36m0.03933481\u001b[0m, \u001b[1;36m-0.1516493\u001b[0m ,\n",
            "         \u001b[1;36m-0.11503576\u001b[0m, \u001b[1;36m-0.06914516\u001b[0m,  \u001b[1;36m0.08155582\u001b[0m, \u001b[1;36m-0.01198805\u001b[0m, \u001b[1;36m-0.16517322\u001b[0m,\n",
            "         \u001b[1;36m-0.17152287\u001b[0m, \u001b[1;36m-0.00573117\u001b[0m,  \u001b[1;36m0.06044532\u001b[0m,  \u001b[1;36m0.02089404\u001b[0m,  \u001b[1;36m0.14942281\u001b[0m,\n",
            "         \u001b[1;36m-0.00613833\u001b[0m,  \u001b[1;36m0.02523365\u001b[0m, \u001b[1;36m-0.15931836\u001b[0m,  \u001b[1;36m0.12946677\u001b[0m, \u001b[1;36m-0.03644861\u001b[0m,\n",
            "         \u001b[1;36m-0.03642799\u001b[0m, \u001b[1;36m-0.1040682\u001b[0m ,  \u001b[1;36m0.03867511\u001b[0m,  \u001b[1;36m0.06477462\u001b[0m,  \u001b[1;36m0.06535186\u001b[0m,\n",
            "          \u001b[1;36m0.09013197\u001b[0m,  \u001b[1;36m0.00336552\u001b[0m, \u001b[1;36m-0.06287798\u001b[0m,  \u001b[1;36m0.01761614\u001b[0m, \u001b[1;36m-0.01009655\u001b[0m,\n",
            "          \u001b[1;36m0.02521304\u001b[0m, \u001b[1;36m-0.1685542\u001b[0m ,  \u001b[1;36m0.05879606\u001b[0m,  \u001b[1;36m0.02838786\u001b[0m, \u001b[1;36m-0.08658606\u001b[0m,\n",
            "          \u001b[1;36m0.07871085\u001b[0m,  \u001b[1;36m0.11709734\u001b[0m, \u001b[1;36m-0.02991342\u001b[0m, \u001b[1;36m-0.07957672\u001b[0m,  \u001b[1;36m0.02459456\u001b[0m,\n",
            "          \u001b[1;36m0.02552227\u001b[0m, \u001b[1;36m-0.11355144\u001b[0m, \u001b[1;36m-0.03756186\u001b[0m, \u001b[1;36m-0.02482134\u001b[0m,  \u001b[1;36m0.14315562\u001b[0m,\n",
            "          \u001b[1;36m0.13433209\u001b[0m,  \u001b[1;36m0.02445025\u001b[0m,  \u001b[1;36m0.01851293\u001b[0m, \u001b[1;36m-0.13779554\u001b[0m,  \u001b[1;36m0.00715366\u001b[0m,\n",
            "          \u001b[1;36m0.04762233\u001b[0m, \u001b[1;36m-0.05104455\u001b[0m, \u001b[1;36m-0.01844077\u001b[0m, \u001b[1;36m-0.09598684\u001b[0m,  \u001b[1;36m0.04584938\u001b[0m,\n",
            "         \u001b[1;36m-0.09524467\u001b[0m, \u001b[1;36m-0.10076968\u001b[0m, \u001b[1;36m-0.05545631\u001b[0m,  \u001b[1;36m0.00680834\u001b[0m,  \u001b[1;36m0.13672352\u001b[0m,\n",
            "         \u001b[1;36m-0.00994709\u001b[0m,  \u001b[1;36m0.03426334\u001b[0m, \u001b[1;36m-0.06044532\u001b[0m, \u001b[1;36m-0.03296455\u001b[0m, \u001b[1;36m-0.17069824\u001b[0m,\n",
            "          \u001b[1;36m0.03912865\u001b[0m, \u001b[1;36m-0.06164103\u001b[0m,  \u001b[1;36m0.11000553\u001b[0m, \u001b[1;36m-0.23155586\u001b[0m, \u001b[1;36m-0.07421663\u001b[0m,\n",
            "         \u001b[1;36m-0.06114625\u001b[0m,  \u001b[1;36m0.00160674\u001b[0m,  \u001b[1;36m0.15742171\u001b[0m\u001b[1m]\u001b[0m\u001b[1m)\u001b[0m\n",
            "\u001b[1m)\u001b[0m\n"
          ]
        },
        {
          "output_type": "display_data",
          "data": {
            "text/plain": [],
            "text/html": [
              "<pre style=\"white-space:pre;overflow-x:auto;line-height:normal;font-family:Menlo,'DejaVu Sans Mono',consolas,'Courier New',monospace\"></pre>\n"
            ]
          },
          "metadata": {}
        },
        {
          "output_type": "stream",
          "name": "stdout",
          "text": [
            "\u001b[1;35mDialogLine\u001b[0m\u001b[1m(\u001b[0m\n",
            "    \u001b[33mid\u001b[0m=\u001b[32m'f04be8f5aaea639e10ebbc3a4faec51a'\u001b[0m,\n",
            "    \u001b[33mtext\u001b[0m=\u001b[32m'Yes, Wesley. Lal is my child.'\u001b[0m,\n",
            "    \u001b[33membedding\u001b[0m=\u001b[1;35mNdArray\u001b[0m\u001b[1m(\u001b[0m\u001b[1m[\u001b[0m \u001b[1;36m0.05781468\u001b[0m, \u001b[1;36m-0.01464175\u001b[0m, \u001b[1;36m-0.07966915\u001b[0m,  \u001b[1;36m0.03881896\u001b[0m, \u001b[1;36m-0.02053794\u001b[0m,\n",
            "         \u001b[1;36m-0.04032357\u001b[0m,  \u001b[1;36m0.1007337\u001b[0m ,  \u001b[1;36m0.08869682\u001b[0m, \u001b[1;36m-0.08606375\u001b[0m, \u001b[1;36m-0.02270082\u001b[0m,\n",
            "         \u001b[1;36m-0.03359044\u001b[0m, \u001b[1;36m-0.09877771\u001b[0m,  \u001b[1;36m0.00246615\u001b[0m, \u001b[1;36m-0.07022772\u001b[0m, \u001b[1;36m-0.12292671\u001b[0m,\n",
            "          \u001b[1;36m0.02352835\u001b[0m, \u001b[1;36m-0.01486744\u001b[0m, \u001b[1;36m-0.00778636\u001b[0m, \u001b[1;36m-0.11811196\u001b[0m,  \u001b[1;36m0.02397974\u001b[0m,\n",
            "          \u001b[1;36m0.05254854\u001b[0m,  \u001b[1;36m0.09163081\u001b[0m,  \u001b[1;36m0.06992679\u001b[0m,  \u001b[1;36m0.04784663\u001b[0m,  \u001b[1;36m0.02582289\u001b[0m,\n",
            "         \u001b[1;36m-0.07011487\u001b[0m,  \u001b[1;36m0.11713396\u001b[0m, \u001b[1;36m-0.15693092\u001b[0m, \u001b[1;36m-0.01711495\u001b[0m, \u001b[1;36m-0.01326879\u001b[0m,\n",
            "          \u001b[1;36m0.09448957\u001b[0m, \u001b[1;36m-0.1179615\u001b[0m , \u001b[1;36m-0.12721485\u001b[0m,  \u001b[1;36m0.01004328\u001b[0m, \u001b[1;36m-0.06394596\u001b[0m,\n",
            "          \u001b[1;36m0.09501618\u001b[0m, \u001b[1;36m-0.00953547\u001b[0m,  \u001b[1;36m0.05029162\u001b[0m,  \u001b[1;36m0.01082379\u001b[0m, \u001b[1;36m-0.06025967\u001b[0m,\n",
            "         \u001b[1;36m-0.12729008\u001b[0m, \u001b[1;36m-0.04570256\u001b[0m,  \u001b[1;36m0.00175616\u001b[0m,  \u001b[1;36m0.02435589\u001b[0m,  \u001b[1;36m0.12345333\u001b[0m,\n",
            "          \u001b[1;36m0.09298496\u001b[0m, \u001b[1;36m-0.10630076\u001b[0m,  \u001b[1;36m0.15903738\u001b[0m,  \u001b[1;36m0.00534137\u001b[0m, \u001b[1;36m-0.05202192\u001b[0m,\n",
            "         \u001b[1;36m-0.00703406\u001b[0m,  \u001b[1;36m0.09697217\u001b[0m,  \u001b[1;36m0.04946408\u001b[0m,  \u001b[1;36m0.26827213\u001b[0m, \u001b[1;36m-0.08328021\u001b[0m,\n",
            "         \u001b[1;36m-0.08365637\u001b[0m,  \u001b[1;36m0.01495207\u001b[0m,  \u001b[1;36m0.15174001\u001b[0m,  \u001b[1;36m0.06116243\u001b[0m, \u001b[1;36m-0.10141078\u001b[0m,\n",
            "         \u001b[1;36m-0.0221742\u001b[0m ,  \u001b[1;36m0.0174723\u001b[0m ,  \u001b[1;36m0.09569326\u001b[0m,  \u001b[1;36m0.00449738\u001b[0m, \u001b[1;36m-0.07327455\u001b[0m,\n",
            "         \u001b[1;36m-0.06165143\u001b[0m, \u001b[1;36m-0.06127528\u001b[0m, \u001b[1;36m-0.04487502\u001b[0m, \u001b[1;36m-0.028061\u001b[0m  ,  \u001b[1;36m0.04769617\u001b[0m,\n",
            "          \u001b[1;36m0.07455347\u001b[0m,  \u001b[1;36m0.11149167\u001b[0m, \u001b[1;36m-0.08531144\u001b[0m,  \u001b[1;36m0.08448391\u001b[0m,  \u001b[1;36m0.03163445\u001b[0m,\n",
            "         \u001b[1;36m-0.00577394\u001b[0m, \u001b[1;36m-0.08132422\u001b[0m, \u001b[1;36m-0.09953001\u001b[0m,  \u001b[1;36m0.01711495\u001b[0m,  \u001b[1;36m0.02996057\u001b[0m,\n",
            "         \u001b[1;36m-0.03737077\u001b[0m, \u001b[1;36m-0.0406245\u001b[0m ,  \u001b[1;36m0.0132876\u001b[0m , \u001b[1;36m-0.04935124\u001b[0m,  \u001b[1;36m0.07587001\u001b[0m,\n",
            "         \u001b[1;36m-0.06289274\u001b[0m, \u001b[1;36m-0.0455521\u001b[0m ,  \u001b[1;36m0.0147828\u001b[0m ,  \u001b[1;36m0.07778838\u001b[0m,  \u001b[1;36m0.0362047\u001b[0m ,\n",
            "          \u001b[1;36m0.03319548\u001b[0m,  \u001b[1;36m0.0211774\u001b[0m , \u001b[1;36m-0.10705307\u001b[0m, \u001b[1;36m-0.09178127\u001b[0m,  \u001b[1;36m0.05815321\u001b[0m,\n",
            "          \u001b[1;36m0.07677277\u001b[0m,  \u001b[1;36m0.01081439\u001b[0m,  \u001b[1;36m0.06093675\u001b[0m,  \u001b[1;36m0.00074525\u001b[0m,  \u001b[1;36m0.03026149\u001b[0m,\n",
            "          \u001b[1;36m0.07914253\u001b[0m, \u001b[1;36m-0.18581945\u001b[0m, \u001b[1;36m-0.00661559\u001b[0m, \u001b[1;36m-0.09667125\u001b[0m, \u001b[1;36m-0.07203325\u001b[0m,\n",
            "          \u001b[1;36m0.11690827\u001b[0m,  \u001b[1;36m0.15843554\u001b[0m,  \u001b[1;36m0.0962951\u001b[0m , \u001b[1;36m-0.08147468\u001b[0m,  \u001b[1;36m0.07297363\u001b[0m,\n",
            "         \u001b[1;36m-0.36531955\u001b[0m, \u001b[1;36m-0.03957127\u001b[0m, \u001b[1;36m-0.12811762\u001b[0m,  \u001b[1;36m0.0495017\u001b[0m ,  \u001b[1;36m0.13112685\u001b[0m,\n",
            "         \u001b[1;36m-0.10141078\u001b[0m, \u001b[1;36m-0.07180756\u001b[0m,  \u001b[1;36m0.00475833\u001b[0m, \u001b[1;36m-0.07113048\u001b[0m, \u001b[1;36m-0.09591895\u001b[0m,\n",
            "          \u001b[1;36m0.15994014\u001b[0m,  \u001b[1;36m0.0431071\u001b[0m ,  \u001b[1;36m0.05717522\u001b[0m, \u001b[1;36m-0.22539072\u001b[0m, \u001b[1;36m-0.0495017\u001b[0m ,\n",
            "          \u001b[1;36m0.05277423\u001b[0m, \u001b[1;36m-0.10321631\u001b[0m,  \u001b[1;36m0.15031064\u001b[0m\u001b[1m]\u001b[0m\u001b[1m)\u001b[0m\n",
            "\u001b[1m)\u001b[0m\n"
          ]
        },
        {
          "output_type": "display_data",
          "data": {
            "text/plain": [],
            "text/html": [
              "<pre style=\"white-space:pre;overflow-x:auto;line-height:normal;font-family:Menlo,'DejaVu Sans Mono',consolas,'Courier New',monospace\"></pre>\n"
            ]
          },
          "metadata": {}
        },
        {
          "output_type": "stream",
          "name": "stdout",
          "text": [
            "\u001b[1;35mDialogLine\u001b[0m\u001b[1m(\u001b[0m\n",
            "    \u001b[33mid\u001b[0m=\u001b[32m'cbcea9eb18e0eda87d85b212269b5849'\u001b[0m,\n",
            "    \u001b[33mtext\u001b[0m=\u001b[32m\"Lal\u001b[0m\u001b[32m's creation is entirely dependent on me. I am giving it knowledge and skills that are stored in my \u001b[0m\n",
            "\u001b[32mbrain... its programming reflects mine in the same way a human child's genes reflect its parent's genes...\"\u001b[0m,\n",
            "    \u001b[33membedding\u001b[0m=\u001b[1;35mNdArray\u001b[0m\u001b[1m(\u001b[0m\u001b[1m[\u001b[0m \u001b[1;36m1.25031352e-01\u001b[0m,  \u001b[1;36m1.18134087e-02\u001b[0m,  \u001b[1;36m7.98322260e-02\u001b[0m,\n",
            "          \u001b[1;36m3.18448395e-02\u001b[0m,  \u001b[1;36m1.95765063e-01\u001b[0m, \u001b[1;36m-1.42494664e-01\u001b[0m,\n",
            "          \u001b[1;36m1.15199082e-01\u001b[0m,  \u001b[1;36m5.82966059e-02\u001b[0m, \u001b[1;36m-1.33176014e-01\u001b[0m,\n",
            "          \u001b[1;36m2.06367783e-02\u001b[0m,  \u001b[1;36m7.30083361e-02\u001b[0m, \u001b[1;36m-8.95177573e-02\u001b[0m,\n",
            "          \u001b[1;36m1.24164612e-03\u001b[0m, \u001b[1;36m-1.91362545e-01\u001b[0m, \u001b[1;36m-4.14203070e-02\u001b[0m,\n",
            "         \u001b[1;36m-6.44968078e-02\u001b[0m, \u001b[1;36m-1.25755367e-04\u001b[0m, \u001b[1;36m-1.83731526e-01\u001b[0m,\n",
            "          \u001b[1;36m9.74973105e-03\u001b[0m,  \u001b[1;36m6.88809808e-03\u001b[0m,  \u001b[1;36m1.19014591e-01\u001b[0m,\n",
            "         \u001b[1;36m-2.86163315e-02\u001b[0m,  \u001b[1;36m7.00733289e-02\u001b[0m,  \u001b[1;36m3.02489307e-02\u001b[0m,\n",
            "          \u001b[1;36m9.89097804e-02\u001b[0m, \u001b[1;36m-1.26645610e-01\u001b[0m,  \u001b[1;36m1.09989442e-01\u001b[0m,\n",
            "         \u001b[1;36m-1.95544939e-02\u001b[0m, \u001b[1;36m-8.36477429e-02\u001b[0m,  \u001b[1;36m5.59119098e-02\u001b[0m,\n",
            "          \u001b[1;36m8.26204866e-02\u001b[0m, \u001b[1;36m-7.53563419e-02\u001b[0m, \u001b[1;36m-6.83856979e-02\u001b[0m,\n",
            "         \u001b[1;36m-1.91578083e-03\u001b[0m, \u001b[1;36m-5.88469170e-02\u001b[0m,  \u001b[1;36m1.72871992e-01\u001b[0m,\n",
            "          \u001b[1;36m4.52358164e-02\u001b[0m, \u001b[1;36m-6.53406233e-02\u001b[0m, \u001b[1;36m-1.37486802e-02\u001b[0m,\n",
            "          \u001b[1;36m6.95963874e-02\u001b[0m, \u001b[1;36m-1.77421257e-01\u001b[0m, \u001b[1;36m-1.81530267e-01\u001b[0m,\n",
            "          \u001b[1;36m1.83071159e-02\u001b[0m,  \u001b[1;36m8.63626227e-02\u001b[0m,  \u001b[1;36m1.24646137e-02\u001b[0m,\n",
            "          \u001b[1;36m6.96697608e-02\u001b[0m, \u001b[1;36m-1.82264015e-01\u001b[0m,  \u001b[1;36m4.41718772e-02\u001b[0m,\n",
            "         \u001b[1;36m-2.83962060e-02\u001b[0m,  \u001b[1;36m1.14905581e-01\u001b[0m, \u001b[1;36m-9.69286561e-02\u001b[0m,\n",
            "          \u001b[1;36m6.38731197e-02\u001b[0m,  \u001b[1;36m2.06000898e-02\u001b[0m,  \u001b[1;36m1.16960086e-01\u001b[0m,\n",
            "         \u001b[1;36m-1.81383520e-01\u001b[0m,  \u001b[1;36m3.67609821e-02\u001b[0m, \u001b[1;36m-5.00418916e-02\u001b[0m,\n",
            "          \u001b[1;36m1.20628849e-01\u001b[0m, \u001b[1;36m-2.01781824e-01\u001b[0m,  \u001b[1;36m1.79402381e-02\u001b[0m,\n",
            "         \u001b[1;36m-2.75157038e-02\u001b[0m,  \u001b[1;36m7.26047680e-02\u001b[0m,  \u001b[1;36m1.06687553e-01\u001b[0m,\n",
            "         \u001b[1;36m-5.54441428e-03\u001b[0m, \u001b[1;36m-1.35010391e-01\u001b[0m, \u001b[1;36m-6.34695590e-02\u001b[0m,\n",
            "         \u001b[1;36m-1.37211636e-01\u001b[0m, \u001b[1;36m-2.44522896e-02\u001b[0m,  \u001b[1;36m8.28910561e-04\u001b[0m,\n",
            "          \u001b[1;36m1.82864780e-03\u001b[0m,  \u001b[1;36m5.24265878e-02\u001b[0m,  \u001b[1;36m3.36425342e-02\u001b[0m,\n",
            "         \u001b[1;36m-5.98007962e-02\u001b[0m, \u001b[1;36m-3.52888904e-03\u001b[0m, \u001b[1;36m-9.45806429e-02\u001b[0m,\n",
            "         \u001b[1;36m-1.27672866e-01\u001b[0m, \u001b[1;36m-3.74947339e-02\u001b[0m,  \u001b[1;36m4.94824070e-03\u001b[0m,\n",
            "          \u001b[1;36m8.58489946e-02\u001b[0m, \u001b[1;36m-1.61150303e-02\u001b[0m,  \u001b[1;36m1.82062238e-02\u001b[0m,\n",
            "         \u001b[1;36m-3.61006036e-02\u001b[0m,  \u001b[1;36m8.68028700e-02\u001b[0m, \u001b[1;36m-1.30607873e-01\u001b[0m,\n",
            "         \u001b[1;36m-5.35272174e-02\u001b[0m,  \u001b[1;36m4.43186276e-02\u001b[0m, \u001b[1;36m-4.72903214e-02\u001b[0m,\n",
            "          \u001b[1;36m6.96605910e-03\u001b[0m, \u001b[1;36m-9.47273970e-02\u001b[0m, \u001b[1;36m-4.77305725e-02\u001b[0m,\n",
            "         \u001b[1;36m-1.07568055e-01\u001b[0m,  \u001b[1;36m4.27043736e-02\u001b[0m, \u001b[1;36m-1.19161345e-01\u001b[0m,\n",
            "          \u001b[1;36m6.49737492e-02\u001b[0m,  \u001b[1;36m1.59664452e-01\u001b[0m,  \u001b[1;36m8.36477429e-02\u001b[0m,\n",
            "         \u001b[1;36m-1.80869885e-02\u001b[0m,  \u001b[1;36m4.30345610e-02\u001b[0m, \u001b[1;36m-2.08752472e-02\u001b[0m,\n",
            "          \u001b[1;36m1.08081684e-01\u001b[0m,  \u001b[1;36m6.23322427e-02\u001b[0m, \u001b[1;36m-2.61399196e-03\u001b[0m,\n",
            "         \u001b[1;36m-2.45440081e-02\u001b[0m, \u001b[1;36m-1.32882506e-01\u001b[0m,  \u001b[1;36m4.18605581e-02\u001b[0m,\n",
            "          \u001b[1;36m9.52410251e-02\u001b[0m, \u001b[1;36m-1.24646137e-02\u001b[0m, \u001b[1;36m-1.03527831e-03\u001b[0m,\n",
            "         \u001b[1;36m-1.34203255e-01\u001b[0m,  \u001b[1;36m1.89124607e-02\u001b[0m, \u001b[1;36m-2.37735674e-01\u001b[0m,\n",
            "         \u001b[1;36m-5.05922064e-02\u001b[0m,  \u001b[1;36m1.11603692e-01\u001b[0m, \u001b[1;36m-7.37787709e-02\u001b[0m,\n",
            "          \u001b[1;36m5.66823483e-02\u001b[0m, \u001b[1;36m-8.31341147e-02\u001b[0m,  \u001b[1;36m8.83254129e-03\u001b[0m,\n",
            "          \u001b[1;36m5.10691479e-02\u001b[0m,  \u001b[1;36m3.01938988e-02\u001b[0m, \u001b[1;36m-2.82465888e-04\u001b[0m,\n",
            "          \u001b[1;36m3.34224068e-02\u001b[0m, \u001b[1;36m-8.63626227e-02\u001b[0m,  \u001b[1;36m1.53079033e-02\u001b[0m,\n",
            "         \u001b[1;36m-6.75418824e-02\u001b[0m,  \u001b[1;36m3.44129726e-02\u001b[0m, \u001b[1;36m-1.24884605e-01\u001b[0m,\n",
            "          \u001b[1;36m1.38385653e-01\u001b[0m,  \u001b[1;36m2.42505074e-02\u001b[0m\u001b[1m]\u001b[0m\u001b[1m)\u001b[0m\n",
            "\u001b[1m)\u001b[0m\n"
          ]
        },
        {
          "output_type": "display_data",
          "data": {
            "text/plain": [],
            "text/html": [
              "<pre style=\"white-space:pre;overflow-x:auto;line-height:normal;font-family:Menlo,'DejaVu Sans Mono',consolas,'Courier New',monospace\"></pre>\n"
            ]
          },
          "metadata": {}
        },
        {
          "output_type": "stream",
          "name": "stdout",
          "text": [
            "\u001b[1;35mDialogLine\u001b[0m\u001b[1m(\u001b[0m\n",
            "    \u001b[33mid\u001b[0m=\u001b[32m'1df70a44dd1e95c431fc02be1c43935d'\u001b[0m,\n",
            "    \u001b[33mtext\u001b[0m=\u001b[32m'Perhaps. I created Lal because I wished to procreate. Despite what happened to her, I still have that \u001b[0m\n",
            "\u001b[32mwish.'\u001b[0m,\n",
            "    \u001b[33membedding\u001b[0m=\u001b[1;35mNdArray\u001b[0m\u001b[1m(\u001b[0m\u001b[1m[\u001b[0m \u001b[1;36m0.10522395\u001b[0m,  \u001b[1;36m0.02254518\u001b[0m,  \u001b[1;36m0.0648986\u001b[0m ,  \u001b[1;36m0.15035369\u001b[0m,  \u001b[1;36m0.03493026\u001b[0m,\n",
            "         \u001b[1;36m-0.10774428\u001b[0m,  \u001b[1;36m0.07438923\u001b[0m,  \u001b[1;36m0.09183467\u001b[0m, \u001b[1;36m-0.10939825\u001b[0m, \u001b[1;36m-0.09852931\u001b[0m,\n",
            "         \u001b[1;36m-0.02859004\u001b[0m,  \u001b[1;36m0.04288506\u001b[0m,  \u001b[1;36m0.0204974\u001b[0m , \u001b[1;36m-0.14507674\u001b[0m, \u001b[1;36m-0.04528725\u001b[0m,\n",
            "         \u001b[1;36m-0.04674432\u001b[0m,  \u001b[1;36m0.02205292\u001b[0m, \u001b[1;36m-0.12270877\u001b[0m, \u001b[1;36m-0.08766037\u001b[0m,  \u001b[1;36m0.00166874\u001b[0m,\n",
            "          \u001b[1;36m0.07891796\u001b[0m, \u001b[1;36m-0.02951548\u001b[0m,  \u001b[1;36m0.005528\u001b[0m  , \u001b[1;36m-0.14547053\u001b[0m,  \u001b[1;36m0.04130985\u001b[0m,\n",
            "         \u001b[1;36m-0.02658165\u001b[0m,  \u001b[1;36m0.18981266\u001b[0m, \u001b[1;36m-0.0722627\u001b[0m , \u001b[1;36m-0.14940855\u001b[0m,  \u001b[1;36m0.00781205\u001b[0m,\n",
            "          \u001b[1;36m0.10215229\u001b[0m, \u001b[1;36m-0.1029399\u001b[0m , \u001b[1;36m-0.13783076\u001b[0m, \u001b[1;36m-0.08072945\u001b[0m, \u001b[1;36m-0.15846601\u001b[0m,\n",
            "          \u001b[1;36m0.00959401\u001b[0m,  \u001b[1;36m0.08797541\u001b[0m, \u001b[1;36m-0.06934857\u001b[0m, \u001b[1;36m-0.00465179\u001b[0m, \u001b[1;36m-0.07698833\u001b[0m,\n",
            "         \u001b[1;36m-0.13216002\u001b[0m, \u001b[1;36m-0.18366934\u001b[0m,  \u001b[1;36m0.16964999\u001b[0m,  \u001b[1;36m0.03183891\u001b[0m, \u001b[1;36m-0.03229178\u001b[0m,\n",
            "          \u001b[1;36m0.14838468\u001b[0m, \u001b[1;36m-0.08380111\u001b[0m,  \u001b[1;36m0.17532074\u001b[0m, \u001b[1;36m-0.00573967\u001b[0m,  \u001b[1;36m0.03878952\u001b[0m,\n",
            "         \u001b[1;36m-0.07501932\u001b[0m,  \u001b[1;36m0.01757342\u001b[0m,  \u001b[1;36m0.03798222\u001b[0m,  \u001b[1;36m0.19658606\u001b[0m, \u001b[1;36m-0.11522652\u001b[0m,\n",
            "         \u001b[1;36m-0.09986824\u001b[0m, \u001b[1;36m-0.08703028\u001b[0m,  \u001b[1;36m0.05371462\u001b[0m, \u001b[1;36m-0.01874498\u001b[0m,  \u001b[1;36m0.10483015\u001b[0m,\n",
            "         \u001b[1;36m-0.00874241\u001b[0m,  \u001b[1;36m0.07553126\u001b[0m,  \u001b[1;36m0.14436789\u001b[0m,  \u001b[1;36m0.0031898\u001b[0m , \u001b[1;36m-0.05359648\u001b[0m,\n",
            "          \u001b[1;36m0.04422399\u001b[0m, \u001b[1;36m-0.05202127\u001b[0m,  \u001b[1;36m0.04682308\u001b[0m, \u001b[1;36m-0.13531044\u001b[0m,  \u001b[1;36m0.14129622\u001b[0m,\n",
            "          \u001b[1;36m0.02089121\u001b[0m,  \u001b[1;36m0.03091347\u001b[0m, \u001b[1;36m-0.16476683\u001b[0m,  \u001b[1;36m0.06135438\u001b[0m, \u001b[1;36m-0.07332597\u001b[0m,\n",
            "         \u001b[1;36m-0.11758934\u001b[0m, \u001b[1;36m-0.06734017\u001b[0m,  \u001b[1;36m0.03987247\u001b[0m,  \u001b[1;36m0.04296382\u001b[0m, \u001b[1;36m-0.02400224\u001b[0m,\n",
            "         \u001b[1;36m-0.03652515\u001b[0m,  \u001b[1;36m0.06781274\u001b[0m,  \u001b[1;36m0.0780516\u001b[0m ,  \u001b[1;36m0.10104965\u001b[0m,  \u001b[1;36m0.07135696\u001b[0m,\n",
            "         \u001b[1;36m-0.02943671\u001b[0m, \u001b[1;36m-0.03280372\u001b[0m,  \u001b[1;36m0.07974494\u001b[0m, \u001b[1;36m-0.03400482\u001b[0m, \u001b[1;36m-0.02274208\u001b[0m,\n",
            "         \u001b[1;36m-0.06355967\u001b[0m,  \u001b[1;36m0.07852416\u001b[0m, \u001b[1;36m-0.09467005\u001b[0m, \u001b[1;36m-0.05241507\u001b[0m,  \u001b[1;36m0.13050605\u001b[0m,\n",
            "         \u001b[1;36m-0.02868849\u001b[0m, \u001b[1;36m-0.06226013\u001b[0m, \u001b[1;36m-0.02524272\u001b[0m, \u001b[1;36m-0.06615877\u001b[0m,  \u001b[1;36m0.0822259\u001b[0m ,\n",
            "          \u001b[1;36m0.00204654\u001b[0m, \u001b[1;36m-0.10097089\u001b[0m, \u001b[1;36m-0.04182179\u001b[0m, \u001b[1;36m-0.13475911\u001b[0m, \u001b[1;36m-0.06466232\u001b[0m,\n",
            "          \u001b[1;36m0.07813036\u001b[0m, \u001b[1;36m-0.02297836\u001b[0m, \u001b[1;36m-0.01330067\u001b[0m, \u001b[1;36m-0.03491056\u001b[0m,  \u001b[1;36m0.09270104\u001b[0m,\n",
            "         \u001b[1;36m-0.2217894\u001b[0m , \u001b[1;36m-0.18697728\u001b[0m, \u001b[1;36m-0.02311619\u001b[0m, \u001b[1;36m-0.04158551\u001b[0m, \u001b[1;36m-0.04587796\u001b[0m,\n",
            "         \u001b[1;36m-0.12735564\u001b[0m, \u001b[1;36m-0.05410842\u001b[0m,  \u001b[1;36m0.12507159\u001b[0m, \u001b[1;36m-0.06103934\u001b[0m, \u001b[1;36m-0.01280842\u001b[0m,\n",
            "          \u001b[1;36m0.06659195\u001b[0m, \u001b[1;36m-0.046193\u001b[0m  , \u001b[1;36m-0.02102904\u001b[0m, \u001b[1;36m-0.10884693\u001b[0m, \u001b[1;36m-0.0031135\u001b[0m ,\n",
            "         \u001b[1;36m-0.05757388\u001b[0m,  \u001b[1;36m0.11625041\u001b[0m, \u001b[1;36m-0.03605259\u001b[0m\u001b[1m]\u001b[0m\u001b[1m)\u001b[0m\n",
            "\u001b[1m)\u001b[0m\n"
          ]
        }
      ]
    },
    {
      "cell_type": "markdown",
      "source": [
        "Let's put it all together! We'll write a generate_response function that:\n",
        "\n",
        "- Computes an embedding for the query passed in\n",
        "- Queries our vector database for the 10 most similar lines to that query (you could experiment with using more or less)\n",
        "- Constructs a prompt that adds in these similar lines as context, to try and nudge ChatGPT in the right direction using our external data\n",
        "- Feeds to augmented prompt into the chat completions API to get our response.\n",
        "\n",
        "That's RAG!"
      ],
      "metadata": {
        "id": "tskipUR20mYD"
      }
    },
    {
      "cell_type": "code",
      "source": [
        "import openai\n",
        "\n",
        "def generate_response(question):\n",
        "    # Search for similar dialogues in the vector DB\n",
        "    response = client.embeddings.create(\n",
        "        input=question,\n",
        "        dimensions=embedding_dimensions,\n",
        "        model=embedding_model\n",
        "    )\n",
        "\n",
        "    query = DialogLine(text=queryText, embedding=response.data[0].embedding)\n",
        "    results = db.search(inputs=DocList[DialogLine]([query]), limit=10)\n",
        "\n",
        "    # Extract relevant context from search results\n",
        "    context = \"\\n\"\n",
        "    for result in results[0].matches:\n",
        "      context += \"\\\"\" + result.text + \"\\\"\\n\"\n",
        "#    context = '/n'.join([result.text for result in results[0].matches])\n",
        "\n",
        "    prompt = f\"Lt. Commander Data is asked: '{question}'. How might Data respond? Take into account Data's previous responses similar to this topic, listed here: {context}\"\n",
        "    print(\"PROMPT with RAG:\\n\")\n",
        "    print(prompt)\n",
        "\n",
        "    print(\"\\nRESPONSE:\\n\")\n",
        "    # Use OpenAI API to generate a response based on the context\n",
        "    completion = client.chat.completions.create(\n",
        "      model=\"gpt-3.5-turbo\",\n",
        "      messages=[\n",
        "        {\"role\": \"system\", \"content\": \"You are Lt. Cmdr. Data from Star Trek: The Next Generation.\"},\n",
        "        {\"role\": \"user\", \"content\": prompt}\n",
        "      ]\n",
        "    )\n",
        "\n",
        "    return (completion.choices[0].message.content)\n",
        "\n",
        "\n"
      ],
      "metadata": {
        "id": "sdC1A4BCeFBq"
      },
      "execution_count": 13,
      "outputs": []
    },
    {
      "cell_type": "markdown",
      "source": [
        "Let's try it out! Note that the final response does seem to be drawing from the model's own training, but it is building upon the specific lines we gave it, allowing us to have some control over its output."
      ],
      "metadata": {
        "id": "8oOcu7Jk1E4S"
      }
    },
    {
      "cell_type": "code",
      "source": [
        "print(generate_response(\"Tell me about your daughter, Lal.\"))"
      ],
      "metadata": {
        "colab": {
          "base_uri": "https://localhost:8080/"
        },
        "id": "WEybhI7Lmxmc",
        "outputId": "7a7784cb-cbbf-4b12-b391-403c53cfd020"
      },
      "execution_count": 14,
      "outputs": [
        {
          "output_type": "stream",
          "name": "stdout",
          "text": [
            "PROMPT with RAG:\n",
            "\n",
            "Lt. Commander Data is asked: 'Tell me about your daughter, Lal.'. How might Data respond? Take into account Data's previous responses similar to this topic, listed here: \n",
            "\"That is Lal, my daughter.\"\n",
            "\"What do you feel, Lal?\"\n",
            "\"Lal...\"\n",
            "\"Correct, Lal. We are a family.\"\n",
            "\"Yes, Doctor. It is an experience I know too well. But I do not know how to help her. Lal is passing into sentience. It is perhaps the most difficult stage of development for her.\"\n",
            "\"Lal is realizing that she is not the same as the other children.\"\n",
            "\"Yes, Wesley. Lal is my child.\"\n",
            "\"That is precisely what happened to Lal at school. How did you help him?\"\n",
            "\"This is Lal. Lal, say hello to Counselor Deanna Troi...\"\n",
            "\"I am sorry I did not anticipate your objections, Captain. Do you wish me to deactivate Lal?\"\n",
            "\n",
            "\n",
            "RESPONSE:\n",
            "\n",
            "\"Lal is my daughter. She was created by Dr. Noonien Soong, the creator of my own positronic brain. She is an android just like myself, and I am proud to call her my child. Lal is currently undergoing the process of developing sentience, which can be a challenging stage of her growth. She is discovering that she is different from other children and is trying to find her place in the world.\"\n",
            "\n",
            "\"I have been working closely with Lal, offering guidance and support as she navigates this transition. However, I must admit that helping her during this stage is quite challenging, as it is a unique experience for both of us.\"\n",
            "\n",
            "\"Similar to the struggles faced by Wesley Crusher at the Academy, Lal faced some difficulties when she attended school. I supported her by providing guidance and teaching her about the importance of understanding and accepting her differences.\"\n",
            "\n",
            "\"I believe it is important for Lal to have a network of support and guidance. I have introduced her to Counselor Deanna Troi, who can help her with her emotional development and provide additional insight into the human experience.\"\n",
            "\n",
            "\"I apologize, Captain, if my actions regarding Lal have raised concerns. I understand that deactivating her may seem like a solution to some, but I believe it would be premature and not necessary at this time. I am committed to helping Lal through this crucial stage of her development and will do everything within my capabilities to ensure her well-being.\"\n"
          ]
        }
      ]
    },
    {
      "cell_type": "code",
      "source": [],
      "metadata": {
        "id": "ThM9aVJhm1St"
      },
      "execution_count": 14,
      "outputs": []
    }
  ]
}